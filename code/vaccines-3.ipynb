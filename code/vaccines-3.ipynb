{
 "cells": [
  {
   "cell_type": "code",
   "execution_count": 1,
   "id": "16ff5dcd",
   "metadata": {
    "lines_to_next_cell": 2
   },
   "outputs": [
    {
     "name": "stdout",
     "output_type": "stream",
     "text": [
      "/home/yonatan/.local/share/jupyter/runtime/kernel-v2-127597eZS1nKoCeuQE.json\n"
     ]
    }
   ],
   "source": [
    "from jupyter_client import find_connection_file\n",
    "\n",
    "connection_file = find_connection_file()\n",
    "print(connection_file)"
   ]
  },
  {
   "cell_type": "code",
   "execution_count": 2,
   "id": "ee39c7ee",
   "metadata": {
    "editable": true,
    "lines_to_next_cell": 2,
    "slideshow": {
     "slide_type": ""
    }
   },
   "outputs": [],
   "source": [
    "# Plotting related\n",
    "import os\n",
    "import seaborn as sns\n",
    "import matplotlib.pyplot as plt\n",
    "import plotly.express as px\n",
    "import plotly.io as pio\n",
    "\n",
    "pio.renderers.default = \"notebook\"\n",
    "\n",
    "# Scikit-learn related imports\n",
    "import pyarrow\n",
    "import pandas as pd\n",
    "\n",
    "pd.options.mode.copy_on_write = True\n",
    "import numpy as np\n",
    "\n",
    "from sklearn.ensemble import RandomForestClassifier\n",
    "from sklearn.tree import DecisionTreeClassifier, plot_tree\n",
    "from sklearn.model_selection import train_test_split, cross_validate, RandomizedSearchCV\n",
    "from sklearn.metrics import accuracy_score\n",
    "from scipy.stats import randint, ttest_ind\n",
    "from sklearn.svm import SVC\n",
    "from sklearn.linear_model import LogisticRegression\n",
    "from mlxtend.plotting import plot_decision_regions"
   ]
  },
  {
   "cell_type": "code",
   "execution_count": 3,
   "id": "3d55439b",
   "metadata": {},
   "outputs": [],
   "source": [
    "dataset_col = \"Dataset\"\n",
    "uid_col = \"uid\"\n",
    "age_col = \"Age\"\n",
    "day_col = \"Day\"\n",
    "response_col = \"Response\"\n",
    "immage_col = \"IMMAGE\"\n",
    "strain_col = \"Strain\""
   ]
  },
  {
   "cell_type": "code",
   "execution_count": 4,
   "id": "8bf438a3",
   "metadata": {},
   "outputs": [],
   "source": [
    "def get_data_dir():\n",
    "    # Define the starting directory\n",
    "    current_dir = os.getcwd()\n",
    "\n",
    "    # Traverse up the directory tree until we find a directory named \"data\"\n",
    "    while current_dir != \"/\":\n",
    "        if \"data\" in os.listdir(current_dir):\n",
    "            data_dir = os.path.join(current_dir, \"data\")\n",
    "            return data_dir\n",
    "        current_dir = os.path.dirname(current_dir)\n",
    "    else:\n",
    "        print(\"Directory 'data' not found in the parent directories.\")\n",
    "        raise ()"
   ]
  },
  {
   "cell_type": "code",
   "execution_count": 5,
   "id": "b5c35e79",
   "metadata": {},
   "outputs": [],
   "source": [
    "# Read in Data and drop missing values\n",
    "data_dir = get_data_dir()\n",
    "df = pd.read_csv(os.path.join(data_dir, \"../data/all_vaccines.csv\"))\n",
    "df.dropna(inplace=True, subset=[immage_col, dataset_col, day_col, response_col])\n",
    "\n",
    "dataset_names = df.Dataset.unique()"
   ]
  },
  {
   "cell_type": "markdown",
   "id": "b4bf23c2",
   "metadata": {},
   "source": [
    "##### Plot distribution of studies' N values"
   ]
  },
  {
   "cell_type": "code",
   "execution_count": 6,
   "id": "75c529bc",
   "metadata": {},
   "outputs": [
    {
     "data": {
      "text/plain": [
       "Text(0.5, 1.0, 'N values across studies')"
      ]
     },
     "execution_count": 6,
     "metadata": {},
     "output_type": "execute_result"
    },
    {
     "data": {
      "image/png": "[encoded data removed]",
      "text/plain": [
       "<Figure size 640x480 with 1 Axes>"
      ]
     },
     "metadata": {},
     "output_type": "display_data"
    }
   ],
   "source": [
    "# Plot distribution of N values\n",
    "N_vals = (\n",
    "    df[[dataset_col, uid_col]].groupby(dataset_col, as_index=False)[uid_col].nunique()\n",
    ")\n",
    "N_vals = N_vals.rename(columns={uid_col: \"N\"})\n",
    "sns.histplot(N_vals.N)\n",
    "plt.title(\"N values across studies\")"
   ]
  },
  {
   "cell_type": "markdown",
   "id": "6e858713",
   "metadata": {},
   "source": [
    "##### Narrow to large datasets only (N > 70)"
   ]
  },
  {
   "cell_type": "code",
   "execution_count": null,
   "id": "53670543",
   "metadata": {},
   "outputs": [],
   "source": [
    "# Narrow N_v to large datasets only\n",
    "N_vals = N_vals.loc[N_vals[\"N\"] > 70]\n",
    "datasets = df.loc[df[\"Dataset\"].isin(N_vals[\"Dataset\"])]\n",
    "dataset_names = datasets[\"Dataset\"].unique()\n",
    "N_vals"
   ]
  },
  {
   "cell_type": "code",
   "execution_count": null,
   "id": "479373e1",
   "metadata": {
    "lines_to_next_cell": 2
   },
   "outputs": [],
   "source": [
    "# Examine available days per dataset\n",
    "days = (\n",
    "    datasets[[dataset_col, uid_col, day_col]]\n",
    "    .groupby(dataset_col, as_index=False)[day_col]\n",
    "    .unique()\n",
    ")\n",
    "t = pd.Series(days.loc[[True, False, False, False], \"Day\"])\n",
    "# with pd.option_context('display.max_colwidth', None):\n",
    "#    for index, row in days.iterrows():\n",
    "#     print(f\"Dataset: {row['Dataset']}\\nDays: {row['Day']}\\n\\n\")"
   ]
  },
  {
   "cell_type": "code",
   "execution_count": null,
   "id": "e271cca0",
   "metadata": {},
   "outputs": [],
   "source": [
    "# Collect day info from papers here\n",
    "dataset_day_dict = {}\n",
    "\n",
    "dataset_day_dict[\"GSE41080.SDY212\"] = \"HAI.D28\"\n",
    "dataset_day_dict[\"GSE48018.SDY1276\"] = \"nAb.D28\"\n",
    "dataset_day_dict[\"GSE48023.SDY1276\"] = \"nAb.D28\"\n",
    "dataset_day_dict[\"SDY67\"] = \"nAb.D28\"\n",
    "# dataset_day_dict[dataset_names[0]]"
   ]
  },
  {
   "cell_type": "markdown",
   "id": "8d9fd7f7",
   "metadata": {},
   "source": [
    "##### Narrow to a specific dataset and day, then keep only relevant columns"
   ]
  },
  {
   "cell_type": "code",
   "execution_count": null,
   "id": "5183761d",
   "metadata": {
    "tags": [
     "parameters",
     "test"
    ]
   },
   "outputs": [],
   "source": [
    "# Narrow to a specific dataset and day, then keep only relevant columns\n",
    "strain_index = 0\n",
    "dataset_name = dataset_names[0]"
   ]
  },
  {
   "cell_type": "code",
   "execution_count": null,
   "id": "12650962",
   "metadata": {},
   "outputs": [],
   "source": [
    "name_mask = datasets[dataset_col] == dataset_name\n",
    "day_mask = datasets[day_col] == dataset_day_dict[dataset_name]\n",
    "\n",
    "data = datasets.loc[(name_mask) & (day_mask)].reset_index()\n",
    "\n",
    "# Somtimes there are multiple strains - so multiple rows per day\n",
    "strains = data[strain_col].unique()\n",
    "if len(strains) > 1:\n",
    "    data = data.loc[data[strain_col] == strains[strain_index]].reset_index()\n",
    "\n",
    "strains_t = data[strain_col].unique()\n",
    "assert len(strains_t) == 1\n",
    "strain = strains_t[0]\n",
    "\n",
    "# Sometimes there are multiple geo_accession numbers, like in GSE48018.SDY1276, average the IMMAGE, since all else is the same\n",
    "accessions = data[\"geo_accession\"].unique()\n",
    "if len(accessions) > 1:\n",
    "    print(\n",
    "        f\"*** Multiple accession detected! Collapsing by averaging on IMMAGE value ***\\n\"\n",
    "    )\n",
    "    data = data.groupby(uid_col, as_index=False).agg(\n",
    "        {\n",
    "            immage_col: \"mean\",\n",
    "            **{\n",
    "                col: \"first\" for col in data.columns if col not in [uid_col, immage_col]\n",
    "            },\n",
    "        }\n",
    "    )\n",
    "\n",
    "# Take relevant columns only\n",
    "data = data[[immage_col, response_col, age_col]]\n",
    "\n",
    "print(f\"Working with dataset: {dataset_name}, strain: {strain}\")\n",
    "print(f\"Total subjects in study: N={data.shape[0]}\")\n",
    "print(f\"available strains: {strains}\")\n",
    "\n",
    "# data.head()"
   ]
  },
  {
   "cell_type": "markdown",
   "id": "9d20bc0f",
   "metadata": {},
   "source": []
  },
  {
   "cell_type": "code",
   "execution_count": null,
   "id": "10ab15c8",
   "metadata": {},
   "outputs": [],
   "source": [
    "# Get a boolean map of sub and super threshold values\n",
    "low_response_thr = data[[response_col]].quantile(q=0.3).item()\n",
    "\n",
    "# Generate labels\n",
    "# Note that we define y=1 for all responses < 30th percentile (and not <=)\n",
    "# Also note that we defined y=1 as *non* responders, since later on that's what we'll care most about detecting\n",
    "\n",
    "data[\"y\"] = data[response_col].apply(lambda x: 1 if x < low_response_thr else 0)\n",
    "\n",
    "# Add a text label for plot legends\n",
    "data[\"Label text\"] = data[\"y\"].apply(\n",
    "    lambda x: \"Responders\" if x == 0 else \"Non-Responders\"\n",
    ")"
   ]
  },
  {
   "cell_type": "markdown",
   "id": "f40935bd",
   "metadata": {},
   "source": [
    "##### Plot IMMAGE, response, and age values to look at the dynamic range"
   ]
  },
  {
   "cell_type": "code",
   "execution_count": null,
   "id": "d422fe95",
   "metadata": {},
   "outputs": [],
   "source": [
    "# Plot IMMAGE, response, and age values to look at the dynamic range\n",
    "from scipy.stats import probplot\n",
    "\n",
    "fig, axs = plt.subplots(\n",
    "    2, 3, figsize=(18, 6)\n",
    ")  # Create a figure with two subplots side by side\n",
    "\n",
    "sns.histplot(data=data, x=immage_col, bins=50, ax=axs[0, 0])\n",
    "sns.boxplot(data=data, x=immage_col, ax=axs[1, 0], fill=False)\n",
    "# axs[0].set_title('Box Plot')\n",
    "axs[0, 0].set_title(f\" {immage_col}\")\n",
    "\n",
    "sns.histplot(data=data, x=response_col, bins=50, ax=axs[0, 1])\n",
    "sns.boxplot(data=data, x=response_col, ax=axs[1, 1], fill=False)\n",
    "# axs[1].set_title('Box Plot')\n",
    "axs[0, 1].set_title(f\" {response_col}\")\n",
    "\n",
    "sns.histplot(data=data, x=age_col, bins=50, ax=axs[0, 2])\n",
    "sns.boxplot(data=data, x=age_col, ax=axs[1, 2], fill=False)\n",
    "# axs[1].set_title('Box Plot')\n",
    "axs[0, 2].set_title(f\" {age_col}\")\n",
    "\n",
    "plt.tight_layout(pad=3.0)  # Adjust the layout so everything fits without overlap\n",
    "fig.suptitle(f\"Values Distribution in {dataset_name}, strain: {strain}\")\n",
    "\n",
    "plt.show()"
   ]
  },
  {
   "cell_type": "markdown",
   "id": "1c631fb4",
   "metadata": {
    "lines_to_next_cell": 0
   },
   "source": [
    "##### Is there a trend like we expect? (High IMMAGE ⇒ low response)\n",
    "#### Also show the distributions of IMMAGE values for responders & non-responders"
   ]
  },
  {
   "cell_type": "code",
   "execution_count": null,
   "id": "bab41458",
   "metadata": {
    "lines_to_next_cell": 0
   },
   "outputs": [],
   "source": [
    "def plot_trend(data, column):\n",
    "    # Sort the data by \"IMMAGE\" column\n",
    "    sorted_data = data.sort_values(by=column)\n",
    "\n",
    "    # Create a figure and a grid of subplots (1 row, 2 columns)\n",
    "    fig, axes = plt.subplots(1, 2, figsize=(12, 5))\n",
    "\n",
    "    # Plot the scatterplot on the first subplot\n",
    "    sns.scatterplot(\n",
    "        data=sorted_data,\n",
    "        x=column,\n",
    "        y=\"Response\",\n",
    "        hue=\"Label text\",\n",
    "        palette=\"Set1\",\n",
    "        ax=axes[0],\n",
    "    )\n",
    "    axes[0].set_title(f\"Vaccine response vs column\\n({dataset_name}, {strain})\")\n",
    "\n",
    "    # Plot histograms on the second subplot\n",
    "    sns.histplot(\n",
    "        data=data[data[\"y\"] == 0],\n",
    "        x=column,\n",
    "        ax=axes[1],\n",
    "        color=\"blue\",\n",
    "        alpha=0.5,\n",
    "        label=\"Responders\",\n",
    "        bins=20,\n",
    "    )\n",
    "    sns.histplot(\n",
    "        data=data[data[\"y\"] == 1],\n",
    "        x=column,\n",
    "        ax=axes[1],\n",
    "        color=\"orange\",\n",
    "        alpha=0.5,\n",
    "        label=\"Non-responders\",\n",
    "        bins=20,\n",
    "    )\n",
    "    axes[1].set_title(f\"Histograms of {column} values\")\n",
    "    axes[1].legend()\n",
    "\n",
    "    # Adjust layout\n",
    "    plt.tight_layout()\n",
    "\n",
    "    # Show the plots\n",
    "    plt.show()\n",
    "\n",
    "\n",
    "plot_trend(data, immage_col)\n",
    "plot_trend(data, age_col)"
   ]
  },
  {
   "cell_type": "code",
   "execution_count": null,
   "id": "2d8bb2b9",
   "metadata": {
    "lines_to_next_cell": 2
   },
   "outputs": [],
   "source": [
    "%%script true\n",
    "# Plot the response value against sorted IMMAGE, with markers signifying labels\n",
    "sorted_data = data.sort_values(by=\"IMMAGE\")\n",
    "sns.scatterplot(data=sorted_data, x=\"IMMAGE\", y=\"Response\", hue=\"Label text\", palette='Set1')\n",
    "plt.title(f'Vaccine response vs IMMAGE\\n({dataset_name}, {strain})')\n",
    "plt.show()"
   ]
  },
  {
   "cell_type": "code",
   "execution_count": null,
   "id": "60c206ba",
   "metadata": {
    "lines_to_next_cell": 2
   },
   "outputs": [],
   "source": [
    "# Running a t-test\n",
    "low_group = data.loc[data[response_col] < low_response_thr, immage_col]\n",
    "high_group = data.loc[data[response_col] >= low_response_thr, immage_col]\n",
    "# print(f\"low group N={low_group.shape[0]}, high group N={high_group.shape[0]}\")\n",
    "\n",
    "ttest = ttest_ind(low_group, high_group)\n",
    "# print(f\"pvalue: {ttest.pvalue}\")"
   ]
  },
  {
   "cell_type": "markdown",
   "id": "156a394d",
   "metadata": {},
   "source": [
    "##### Classifying with logistic regression - cross validation"
   ]
  },
  {
   "cell_type": "code",
   "execution_count": null,
   "id": "5ba30ea7",
   "metadata": {},
   "outputs": [],
   "source": [
    "# Classifying with logistic regression - cross validation\n",
    "log_regress_immage = LogisticRegression()\n",
    "log_regress_age = LogisticRegression()\n",
    "regression_result = cross_validate(log_regress_immage, data[[immage_col]], data[\"y\"])\n",
    "print(\n",
    "    f\"Mean classification accuracy (logistic regression): {regression_result['test_score'].mean()}\"\n",
    ")"
   ]
  },
  {
   "cell_type": "markdown",
   "id": "b6ea1cbc",
   "metadata": {},
   "source": [
    "##### Classifying with logistic regression - fitting the entire dataset, and checking the threshold"
   ]
  },
  {
   "cell_type": "code",
   "execution_count": null,
   "id": "18a11b32",
   "metadata": {},
   "outputs": [],
   "source": [
    "# Classifying with logistic regression - fit on the entire dataset\n",
    "from math import log\n",
    "\n",
    "# Split the data into training and testing sets\n",
    "# X_train, X_test, labels_train, labels_test = train_test_split(data[[immage_col]], data[\"y\"],\n",
    "# test_size=0.2, random_state=42)\n",
    "# log_regress_immage.score(X_test, labels_test)\n",
    "\n",
    "\n",
    "def get_threshold_from_probability(prob, intercept, slope):\n",
    "    return -1 * (log(1 / prob - 1) + intercept) / slope\n",
    "\n",
    "\n",
    "# Train a classidier based on immage and on age for comparison\n",
    "log_regress_immage.fit(data[[immage_col]], data[\"y\"])\n",
    "log_regress_age.fit(data[[age_col]], data[\"y\"])\n",
    "intercept = log_regress_immage.intercept_[0]\n",
    "slope = log_regress_immage.coef_[0][0]\n",
    "\n",
    "# Calculate the cutoff value\n",
    "# print(f' intercept: {intercept}, slope: {slope}')\n",
    "cutoff = get_threshold_from_probability(\n",
    "    0.5, intercept=intercept, slope=slope\n",
    ")  # 0.5 is the default threshold\n",
    "\n",
    "print(f\"IMMAGE cutoff value is: {cutoff}\")"
   ]
  },
  {
   "cell_type": "code",
   "execution_count": null,
   "id": "bf8cff6c",
   "metadata": {},
   "outputs": [],
   "source": [
    "%%script true\n",
    "# Plot the logistic regression decision function\n",
    "from scipy.special import expit\n",
    "dft = pd.DataFrame()\n",
    "dft[\"x\"] = np.linspace(-1, 1, 500)\n",
    "dft[\"y\"] = intercept + dft.x * slope\n",
    "dft[\"y2\"] = expit(dft.x)\n",
    "dft[\"y3\"] = expit(dft.y)\n",
    "sns.lineplot(data=dft, x=\"x\", y=\"y2\")\n",
    "sns.lineplot(data=dft, x=\"x\", y=\"y3\")\n",
    "plt.title(f'expit and expit(a*X + b)\\n({dataset_name}, {strain})')\n",
    "plt.show()"
   ]
  },
  {
   "cell_type": "code",
   "execution_count": null,
   "id": "ac6ef8f9",
   "metadata": {},
   "outputs": [],
   "source": [
    "# Plot IMMAGE values and the cutoff\n",
    "sns.scatterplot(\n",
    "    data=data.sort_values(immage_col, ignore_index=True).reset_index(),\n",
    "    x=\"index\",\n",
    "    y=immage_col,\n",
    "    hue=\"Label text\",\n",
    ")\n",
    "# commented out since cutoff is much higher and messes with the plot\n",
    "plt.axhline(y=cutoff)\n",
    "plt.title(f\"sorted IMMAGE vs Index\\n({dataset_name}, {strain})\")\n",
    "plt.show()"
   ]
  },
  {
   "cell_type": "markdown",
   "id": "59463517",
   "metadata": {},
   "source": [
    "##### Logistic regreesion preforms badly, but maybe it still assigns probabilities in a way that makes sense?"
   ]
  },
  {
   "cell_type": "code",
   "execution_count": null,
   "id": "5af75853",
   "metadata": {},
   "outputs": [],
   "source": [
    "non_responder_col = \"p_non_responder\"\n",
    "non_responder_col_age = \"p_non_responder_age\"\n",
    "proba = pd.DataFrame(log_regress_immage.predict_proba(data[[immage_col]]))\n",
    "data[non_responder_col] = proba[1]\n",
    "\n",
    "proba = pd.DataFrame(log_regress_age.predict_proba(data[[age_col]]))\n",
    "data[non_responder_col_age] = proba[1]\n",
    "\n",
    "sns.scatterplot(\n",
    "    data=data, x=immage_col, y=non_responder_col, hue=\"Label text\", palette=\"Set1\"\n",
    ")\n",
    "plt.title(\n",
    "    f\"logistic regression probabilities vs {immage_col}\\n({dataset_name}, {strain})\"\n",
    ")\n",
    "plt.show()\n",
    "\n",
    "sns.scatterplot(\n",
    "    data=data, x=age_col, y=non_responder_col_age, hue=\"Label text\", palette=\"Set1\"\n",
    ")\n",
    "plt.title(f\"logistic regression probabilities vs {age_col}\\n({dataset_name}, {strain})\")\n",
    "plt.show()"
   ]
  },
  {
   "cell_type": "markdown",
   "id": "3f1af441",
   "metadata": {},
   "source": [
    "That's a good sign that the regressor picked up on an underlying dynamic in the direction that we were expecting.\n",
    "\n",
    " Since this is the case, maybe an ROC curve where we shift the decision threshold based on probability will still work. (The default for log. reg. is to put the decision boundary at p=0.5)\n",
    "\n",
    " The focus here is to find a threshold for classifying *non-repsponders* which maximizes the proportion of non-responders in the predicted group, not caring about predicting responders for now."
   ]
  },
  {
   "cell_type": "markdown",
   "id": "cf4987b8",
   "metadata": {},
   "source": [
    "##### Use a logistic regression's probabilties to look for a threshold based on above-threshold non-responder rate"
   ]
  },
  {
   "cell_type": "code",
   "execution_count": null,
   "id": "3cfe66cd",
   "metadata": {},
   "outputs": [],
   "source": [
    "# Define auxilary functions\n",
    "from sklearn.metrics import auc, roc_auc_score, roc_curve\n",
    "from math import log\n",
    "\n",
    "# from IPython.core.debugger import set_trace\n",
    "import pdb\n",
    "\n",
    "\n",
    "def calc_and_plot_prob_threshold(data, classifier, fpr, tpr, thresholds, col_name):\n",
    "    roc_auc = auc(fpr, tpr)\n",
    "    intercept = classifier.intercept_[0]\n",
    "    slope = classifier.coef_[0][0]\n",
    "\n",
    "    # Identifying the optimal threshold (using Youden’s Index)\n",
    "    optimal_idx = np.argmax(tpr - fpr)\n",
    "    prob_threshold = thresholds[optimal_idx]\n",
    "\n",
    "    # Calculate the cutoff value\n",
    "    feature_threshold = get_threshold_from_probability(\n",
    "        prob_threshold, intercept=intercept, slope=slope\n",
    "    )\n",
    "\n",
    "    fig, axs = plt.subplots(\n",
    "        1, 2, figsize=(16, 6)\n",
    "    )  # Creates a figure with two side-by-side subplots\n",
    "\n",
    "    # Plot ROC curve on the first subplot\n",
    "    axs[0].plot(fpr, tpr, label=f\"ROC curve (area = {roc_auc : 0.2f})\")\n",
    "    axs[0].plot([0, 1], [0, 1], \"k--\")  # Random chance line\n",
    "    axs[0].plot(\n",
    "        fpr[optimal_idx], tpr[optimal_idx], marker=\"o\", markersize=5, color=\"red\"\n",
    "    )\n",
    "    axs[0].set_xlim([0.0, 1.0])\n",
    "    axs[0].set_ylim([0.0, 1.05])\n",
    "    axs[0].set_xlabel(\"False Positive Rate\")\n",
    "    axs[0].set_ylabel(\"True Positive Rate\")\n",
    "    axs[0].set_title(\"ROC curve\")\n",
    "    axs[0].legend(loc=\"lower right\")\n",
    "\n",
    "    # Plot sorted IMMAGE values vs Index on the second subplot\n",
    "    sorted_data = data.sort_values(col_name, ignore_index=True).reset_index()\n",
    "    sns.scatterplot(\n",
    "        ax=axs[1], data=sorted_data, x=\"index\", y=col_name, hue=\"Label text\"\n",
    "    )\n",
    "    axs[1].axhline(y=feature_threshold, color=\"black\", linestyle=\"--\")\n",
    "    axs[1].set_title(f\"Sorted {col_name} vs Index\")\n",
    "\n",
    "    fig.suptitle(f\"Probability-based threshold with ROC\\n({dataset_name}, {strain})\")\n",
    "    plt.tight_layout()  # Adjusts subplot params so that subplots fit into the figure area.\n",
    "    plt.show()\n",
    "    return prob_threshold, feature_threshold\n",
    "\n",
    "\n",
    "def get_classifier_stats_prob(\n",
    "    data, feature_column, prob_column, prob_threshold, feature_threshold\n",
    "):\n",
    "    # Global measures (entire dataset)\n",
    "    optimal_pred = data[prob_column].apply(lambda x: 1 if x >= prob_threshold else 0)\n",
    "    test_accuracy = accuracy_score(data[\"y\"], optimal_pred)\n",
    "    # Performance above the prob_threshold\n",
    "    y_over_thr = data.loc[data[prob_column] >= prob_threshold, [\"y\"]]\n",
    "    non_response_rate_over_thr = y_over_thr.mean().y\n",
    "    y_under_thr = data.loc[data[prob_column] < prob_threshold, [\"y\"]]\n",
    "    non_response_rate_under_thr = y_under_thr.mean().y\n",
    "    print(\n",
    "        f\"Optimal threshold: {feature_threshold : 0.2f} ({feature_column} value), Non-responder rate: over threshold: {non_response_rate_over_thr : 0.2f}, under threshold: {non_response_rate_under_thr : 0.2f}\"\n",
    "    )"
   ]
  },
  {
   "cell_type": "code",
   "execution_count": null,
   "id": "36d2077f",
   "metadata": {
    "lines_to_next_cell": 2
   },
   "outputs": [],
   "source": [
    "# Run for immage and age to compare\n",
    "# IMMAGE\n",
    "fpr, tpr, thresholds = roc_curve(data[\"y\"], data[non_responder_col])\n",
    "prob_threshold, feature_threshold = calc_and_plot_prob_threshold(\n",
    "    data, log_regress_immage, fpr, tpr, thresholds, immage_col\n",
    ")\n",
    "get_classifier_stats_prob(\n",
    "    data, immage_col, non_responder_col, prob_threshold, feature_threshold\n",
    ")\n",
    "\n",
    "# Age\n",
    "fpr, tpr, thresholds = roc_curve(data[\"y\"], data[non_responder_col_age])\n",
    "prob_threshold_age, feature_threshold_age = calc_and_plot_prob_threshold(\n",
    "    data, log_regress_age, fpr, tpr, thresholds, age_col\n",
    ")\n",
    "get_classifier_stats_prob(\n",
    "    data, age_col, non_responder_col_age, prob_threshold_age, feature_threshold_age\n",
    ")"
   ]
  },
  {
   "cell_type": "markdown",
   "id": "ae41e581",
   "metadata": {
    "lines_to_next_cell": 2
   },
   "source": [
    "##### An alternative is to try hard IMMAGE-based thresholds - i.e., using IMMAGE values as thresholds instead of the \"soft\" probabilities from the classifier :"
   ]
  },
  {
   "cell_type": "code",
   "execution_count": null,
   "id": "f9f90307",
   "metadata": {},
   "outputs": [],
   "source": [
    "# Define auxilary functions\n",
    "def calc_and_plot_hard_threshold(data, fpr, tpr, thresholds, col_name):\n",
    "    # Manually create threshold values. Only take y=1 (non-responders) as thresholds.\n",
    "    sorted_values = pd.DataFrame(\n",
    "        pd.unique(data.loc[data[\"y\"] == 1, col_name])\n",
    "    ).sort_values(by=0)\n",
    "    thresholds = sorted_values[0]\n",
    "    roc_points = []\n",
    "\n",
    "    for t in thresholds:\n",
    "        # Binary predictions based on the current threshold\n",
    "        y_pred = (data[col_name] >= t).astype(int)\n",
    "\n",
    "        # Calculate TPR and FPR for the current set of binary predictions.\n",
    "        # When roc_curve is given a binary array instead of probabilities, it calculates the fpr and tpr for the single threshold that they represent\n",
    "        fpr, tpr, _ = roc_curve(data[\"y\"], y_pred)\n",
    "        roc_points.append(\n",
    "            (fpr[1], tpr[1])\n",
    "        )  # Assuming single threshold; fpr and tpr have two elements\n",
    "\n",
    "    # Separate FPR and TPR values for plotting\n",
    "    fprs, tprs = zip(*roc_points)\n",
    "    fpr = pd.DataFrame(fprs).values\n",
    "    tpr = pd.DataFrame(tprs).values\n",
    "\n",
    "    # Identifying the optimal threshold (example using Youden’s Index)\n",
    "    optimal_idx = np.argmax(tpr - fpr)\n",
    "    feature_threshold = thresholds[optimal_idx]\n",
    "\n",
    "    fig, axs = plt.subplots(\n",
    "        1, 2, figsize=(16, 6)\n",
    "    )  # Creates a figure with two side-by-side subplots\n",
    "    roc_auc = auc(fpr, tpr)\n",
    "    axs[0].plot(fpr, tpr, label=f\"ROC curve (area = {roc_auc : 0.2f})\")\n",
    "    axs[0].plot([0, 1], [0, 1], \"k--\")  # Random chance line\n",
    "    axs[0].plot(\n",
    "        fpr[optimal_idx], tpr[optimal_idx], marker=\"o\", markersize=5, color=\"red\"\n",
    "    )\n",
    "    axs[0].set_xlim([0.0, 1.0])\n",
    "    axs[0].set_ylim([0.0, 1.05])\n",
    "    axs[0].set_xlabel(\"False Positive Rate\")\n",
    "    axs[0].set_ylabel(\"True Positive Rate\")\n",
    "    axs[0].set_title(\"ROC curve\")\n",
    "    axs[0].legend(loc=\"lower right\")\n",
    "\n",
    "    # Plot sorted IMMAGE values vs Index on the second subplot\n",
    "    sns.scatterplot(\n",
    "        data=data.sort_values(col_name, ignore_index=True).reset_index(),\n",
    "        x=\"index\",\n",
    "        y=col_name,\n",
    "        hue=\"Label text\",\n",
    "    )\n",
    "    axs[1].axhline(y=feature_threshold, color=\"black\", linestyle=\"--\")\n",
    "    axs[1].set_title(f\"Sorted {col_name} vs Index\")\n",
    "\n",
    "    fig.suptitle(\n",
    "        f'\"Hard\" {col_name}-based threshold with ROC\\n({dataset_name}, {strain})'\n",
    "    )\n",
    "    plt.tight_layout()  # Adjusts subplot params so that subplots fit into the figure area.\n",
    "    plt.show()\n",
    "    return feature_threshold\n",
    "\n",
    "\n",
    "def get_classifier_stats_feature(data, feature_column, threshold):\n",
    "    # Calculate the actual rate of non-responders:for i in threshold_list:\n",
    "    # Global measures (entire dataset)\n",
    "    optimal_pred = data[feature_column].apply(lambda x: 1 if x >= threshold else 0)\n",
    "    test_accuracy = accuracy_score(data[\"y\"], optimal_pred)\n",
    "    # Performance above the threshold\n",
    "    y_over_thr = data.loc[data[feature_column] >= threshold, [\"y\"]]\n",
    "    non_response_rate_over_thr = y_over_thr.mean().y\n",
    "    y_under_thr = data.loc[data[feature_column] < threshold, [\"y\"]]\n",
    "    non_response_rate_under_thr = y_under_thr.mean().y\n",
    "    print(\n",
    "        f\"Optimal threshold: {threshold : 0.2f} ({feature_column} value), Non-responder rate: over threshold: {non_response_rate_over_thr : 0.2f}, under threshold: {non_response_rate_under_thr : 0.2f}\"\n",
    "    )"
   ]
  },
  {
   "cell_type": "code",
   "execution_count": null,
   "id": "36ffbd24",
   "metadata": {
    "lines_to_next_cell": 0
   },
   "outputs": [],
   "source": [
    "# Run for immage and age to compare\n",
    "feature_threshold_immage = calc_and_plot_hard_threshold(\n",
    "    data, fpr, tpr, thresholds, immage_col\n",
    ")\n",
    "get_classifier_stats_feature(data, immage_col, feature_threshold_immage)\n",
    "feature_threshold_age = calc_and_plot_hard_threshold(\n",
    "    data, fpr, tpr, thresholds, age_col\n",
    ")\n",
    "get_classifier_stats_feature(data, age_col, feature_threshold_age)"
   ]
  },
  {
   "cell_type": "markdown",
   "id": "9cdb6de4",
   "metadata": {
    "lines_to_next_cell": 2
   },
   "source": [
    "##### Sliding window instead of bins, plotting non-reponder rate vs window start"
   ]
  },
  {
   "cell_type": "code",
   "execution_count": null,
   "id": "ed1e5d23",
   "metadata": {
    "lines_to_next_cell": 2
   },
   "outputs": [],
   "source": [
    "def generate_windows_and_rates(data, feature_col, num_units, num_units_per_window):\n",
    "    window_starts = np.linspace(\n",
    "        start=data[feature_col].min(), stop=data[feature_col].max(), num=num_units\n",
    "    )\n",
    "    window_size = (\n",
    "        (data[feature_col].max() - data[feature_col].min())\n",
    "        / num_units\n",
    "        * num_units_per_window\n",
    "    )\n",
    "    windows = pd.DataFrame(\n",
    "        {\n",
    "            \"start\": window_starts[:-num_units_per_window],\n",
    "            \"end\": window_starts[num_units_per_window:],\n",
    "        }\n",
    "    )\n",
    "    rates = []\n",
    "\n",
    "    for i, start, end in windows.itertuples():\n",
    "        over = data[feature_col] >= windows[\"start\"][i]\n",
    "        under = data[feature_col] < windows[\"end\"][i]\n",
    "        rates.append(data.loc[(over & under), \"y\"].mean())\n",
    "\n",
    "    rates = pd.Series(rates).fillna(0)\n",
    "    windows[\"rate\"] = rates\n",
    "    threshold_idx = rates.argmax()\n",
    "\n",
    "    return windows, window_size\n",
    "\n",
    "\n",
    "def plot_sliding_window(feature_col):\n",
    "    # Create subplots\n",
    "    num_units = 100\n",
    "    fig, axs = plt.subplots(1, 3, figsize=(15, 5))\n",
    "\n",
    "    # Iterate over different values of num_units_per_window\n",
    "    for i, num_units_per_window in enumerate([10, 20, 30]):\n",
    "        windows, window_size = generate_windows_and_rates(\n",
    "            data, feature_col, num_units, num_units_per_window\n",
    "        )\n",
    "        sns.lineplot(data=windows, x=\"start\", y=\"rate\", ax=axs[i])\n",
    "        axs[i].axhline(y=0.5, color=\"black\", linestyle=\"--\")\n",
    "        axs[i].set_title(\n",
    "            f\"Window size: {window_size:.2f} {feature_col} units\\n{num_units_per_window/num_units*100:.2f}% of {feature_col} range\"\n",
    "        )\n",
    "        axs[i].set_xlabel(\"Start\")\n",
    "        axs[i].set_ylabel(\"Rate\")\n",
    "\n",
    "    # Add a common title\n",
    "    fig.suptitle(\n",
    "        f\"Sliding window performance\\nrate of non-responders vs {feature_col}\\n({dataset_name}, {strain})\"\n",
    "    )\n",
    "    plt.subplots_adjust(top=0.75)\n",
    "\n",
    "    plt.show()\n",
    "\n",
    "\n",
    "plot_sliding_window(immage_col)\n",
    "plot_sliding_window(age_col)"
   ]
  },
  {
   "cell_type": "code",
   "execution_count": null,
   "id": "3b17d98c",
   "metadata": {},
   "outputs": [],
   "source": []
  }
 ],
 "metadata": {
  "kernelspec": {
   "display_name": "Python 3 (ipykernel)",
   "language": "python",
   "name": "python3"
  },
  "language_info": {
   "codemirror_mode": {
    "name": "ipython",
    "version": 3
   },
   "file_extension": ".py",
   "mimetype": "text/x-python",
   "name": "python",
   "nbconvert_exporter": "python",
   "pygments_lexer": "ipython3",
   "version": "3.8.18"
  }
 },
 "nbformat": 4,
 "nbformat_minor": 5
}
