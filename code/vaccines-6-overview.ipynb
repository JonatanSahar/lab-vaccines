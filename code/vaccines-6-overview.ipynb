{
 "cells": [
  {
   "cell_type": "code",
   "execution_count": null,
   "id": "c22437b8",
   "metadata": {
    "lines_to_next_cell": 0
   },
   "outputs": [],
   "source": [
    "# Plotting related\n",
    "import os\n",
    "import sys\n",
    "\n",
    "sys.tracebacklimit = 0\n",
    "import warnings\n",
    "warnings.filterwarnings(\"ignore\")\n",
    "\n",
    "import seaborn as sns\n",
    "\n",
    "import matplotlib.pyplot as plt\n",
    "import plotly.express as px\n",
    "import plotly.io as pio\n",
    "\n",
    "\n",
    "# Scikit-learn related imports\n",
    "import numpy as np\n",
    "import pandas as pd\n",
    "\n",
    "pd.set_option(\"display.float_format\", \"{:.2f}\".format)\n",
    "pd.set_option(\"display.max_colwidth\", None)\n",
    "pd.options.mode.copy_on_write = True\n",
    "\n",
    "import importlib\n",
    "\n",
    "# Constants and functions for this project\n",
    "import constants\n",
    "from constants import *\n",
    "import auxFunctions as af\n",
    "\n",
    "import shutil\n",
    "shutil.copy('constants.py', 'export/')\n",
    "\n",
    "# Change the current working directory\n",
    "os.chdir(\"/home/yonatan/Documents/projects/vaccines/code\")\n",
    "\n",
    "sys.tracebacklimit = 0\n",
    "def exception_handler(exception_type, exception, traceback):\n",
    "    # All your trace are belong to us!\n",
    "    # your format\n",
    "    print(f\"{exception_type.__name__}, {exception}\")\n",
    "\n",
    "sys.excepthook = exception_handler"
   ]
  },
  {
   "cell_type": "code",
   "execution_count": null,
   "id": "ee426337",
   "metadata": {},
   "outputs": [],
   "source": [
    "importlib.reload(af)\n",
    "importlib.reload(constants)\n",
    "\n",
    "datasets, metadata = af.load_data()\n",
    "age_str = f\", subjects over the age of {age_threshlod}\" if bOlderOnly else \"\"\n",
    "\n",
    "if bInfluenza:\n",
    "    influenza_str = \"influenza datasets only, \"\n",
    "elif bNonInfluenza:\n",
    "    influenza_str = \"non-influenza datasets only, \"\n",
    "else:\n",
    "    influenza_str = \"\" # Or whatever default value you want to assign\n",
    "\n",
    "print(f\"\"\"Analysis parameters: {influenza_str}discarding serprotected subjects: {bDiscardSeroprotected}{age_str}\"\"\")\n",
    "\n",
    "# Turn on debug here for running a single dataset through analyze_dataset()\n",
    "bDebug = False\n",
    "if bDebug:\n",
    "    results = af.debug_single_dataset(datasets, metadata)\n",
    "else:\n",
    "    results = af.analyze_all_datasets(datasets, metadata, bPlotOnly=True)"
   ]
  },
  {
   "cell_type": "code",
   "execution_count": null,
   "id": "ba55c731",
   "metadata": {},
   "outputs": [],
   "source": [
    "%debug"
   ]
  }
 ],
 "metadata": {
  "kernelspec": {
   "display_name": "vaccines",
   "language": "python",
   "name": "python3"
  }
 },
 "nbformat": 4,
 "nbformat_minor": 5
}