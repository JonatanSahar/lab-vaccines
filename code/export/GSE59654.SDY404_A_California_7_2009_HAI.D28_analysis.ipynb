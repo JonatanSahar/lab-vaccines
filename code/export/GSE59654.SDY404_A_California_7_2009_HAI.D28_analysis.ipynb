{
 "cells": [
  {
   "cell_type": "code",
   "execution_count": null,
   "id": "fd1f3096",
   "metadata": {
    "editable": true,
    "lines_to_next_cell": 2,
    "papermill": {},
    "slideshow": {
     "slide_type": "skip"
    },
    "tags": [
     "noexport"
    ]
   },
   "outputs": [],
   "source": [
    "from jupyter_client import find_connection_file\n",
    "\n",
    "connection_file = find_connection_file()\n",
    "# print(connection_file)"
   ]
  },
  {
   "cell_type": "code",
   "execution_count": null,
   "id": "314eff08",
   "metadata": {
    "editable": true,
    "papermill": {},
    "slideshow": {
     "slide_type": "skip"
    },
    "tags": [
     "noexport"
    ]
   },
   "outputs": [],
   "source": [
    "# Plotting related\n",
    "import os\n",
    "import sys\n",
    "\n",
    "sys.tracebacklimit = 0\n",
    "\n",
    "import seaborn as sns\n",
    "\n",
    "# sns.set_palette([\"#3498db\", \"orange\"])\n",
    "\n",
    "import matplotlib.pyplot as plt\n",
    "import plotly.express as px\n",
    "import plotly.io as pio\n",
    "\n",
    "\n",
    "# Scikit-learn related imports\n",
    "import numpy as np\n",
    "import pandas as pd\n",
    "\n",
    "pd.set_option(\"display.float_format\", \"{:.2f}\".format)\n",
    "pd.set_option(\"display.max_colwidth\", None)\n",
    "pd.options.mode.copy_on_write = True\n",
    "\n",
    "from sklearn.model_selection import train_test_split, cross_validate, RandomizedSearchCV\n",
    "from sklearn.metrics import accuracy_score\n",
    "from scipy.stats import randint, ttest_ind\n",
    "from sklearn.linear_model import LogisticRegression\n",
    "\n",
    "# Jupyter-related\n",
    "from IPython.display import Markdown as md"
   ]
  },
  {
   "cell_type": "code",
   "execution_count": null,
   "id": "d3c6817e",
   "metadata": {
    "lines_to_next_cell": 2,
    "papermill": {},
    "tags": []
   },
   "outputs": [],
   "source": [
    "# Change the current working directory\n",
    "os.chdir(\"/home/yonatan/Documents/projects/vaccines/code\")\n",
    "# maybe make plotly work\n",
    "pio.renderers.default = \"notebook\""
   ]
  },
  {
   "cell_type": "code",
   "execution_count": null,
   "id": "61a1af72",
   "metadata": {
    "editable": true,
    "papermill": {},
    "slideshow": {
     "slide_type": "skip"
    },
    "tags": [
     "noexport"
    ]
   },
   "outputs": [],
   "source": [
    "dataset_col = \"Dataset\"\n",
    "uid_col = \"uid\"\n",
    "age_col = \"Age\"\n",
    "day_col = \"Day\"\n",
    "response_col = \"Response\"\n",
    "immage_col = \"IMMAGE\"\n",
    "strain_col = \"Strain\""
   ]
  },
  {
   "cell_type": "code",
   "execution_count": null,
   "id": "b446be5b",
   "metadata": {
    "editable": true,
    "papermill": {},
    "slideshow": {
     "slide_type": "skip"
    },
    "tags": [
     "noexport"
    ]
   },
   "outputs": [],
   "source": [
    "def get_data_dir():\n",
    "    # Define the starting directory\n",
    "    current_dir = os.getcwd()\n",
    "\n",
    "    # Traverse up the directory tree until we find a directory named \"data\"\n",
    "    while current_dir != \"/\":\n",
    "        if \"data\" in os.listdir(current_dir):\n",
    "            data_dir = os.path.join(current_dir, \"data\")\n",
    "            return data_dir\n",
    "        current_dir = os.path.dirname(current_dir)\n",
    "    else:\n",
    "        print(\"Directory 'data' not found in the parent directories.\")\n",
    "        raise ()"
   ]
  },
  {
   "cell_type": "code",
   "execution_count": null,
   "id": "0e92ebfc",
   "metadata": {
    "editable": true,
    "papermill": {},
    "slideshow": {
     "slide_type": "skip"
    },
    "tags": [
     "noexport"
    ]
   },
   "outputs": [],
   "source": [
    "# Read in Data and drop missing values\n",
    "data_dir = get_data_dir()\n",
    "df = pd.read_csv(os.path.join(data_dir, \"../data/all_vaccines.csv\"))\n",
    "df.dropna(inplace=True, subset=[immage_col, dataset_col, day_col, response_col])\n",
    "\n",
    "datasets = df\n",
    "dataset_names = df.Dataset.unique()"
   ]
  },
  {
   "cell_type": "code",
   "execution_count": null,
   "id": "dedbd27f",
   "metadata": {
    "editable": true,
    "papermill": {},
    "slideshow": {
     "slide_type": "skip"
    },
    "tags": [
     "noexport"
    ]
   },
   "outputs": [],
   "source": [
    "# #### Distribution of studies' N values\n",
    "N_vals = df[[dataset_col, uid_col]].groupby(dataset_col, as_index=False)[uid_col].nunique()\n",
    "N_vals = N_vals.rename(columns={uid_col: \"N\"})\n",
    "# sns.histplot(N_vals.N)\n",
    "# plt.title(\"N values across studies\")\n",
    "# plt.show()"
   ]
  },
  {
   "cell_type": "code",
   "execution_count": null,
   "id": "fc87de42",
   "metadata": {
    "papermill": {},
    "tags": []
   },
   "outputs": [],
   "source": [
    "# #### Investigating\n",
    "# dataset = df.loc[df[dataset_col].str.contains(\"GSE125921\")]\n",
    "\n",
    "# dataset.loc[dataset[\"Vaccine\"] != \"Menactra\"][uid_col].unique().__len__()\n",
    "# for dataset, group in dataset.groupby('Dataset'):\n",
    "#     print(f\"Dataset: {dataset}\")\n",
    "#     print(\"Unique UID values:\")\n",
    "#     print(group['uid'].unique())\n",
    "#     print()"
   ]
  },
  {
   "cell_type": "code",
   "execution_count": null,
   "id": "244c1fd7",
   "metadata": {
    "editable": true,
    "papermill": {},
    "slideshow": {
     "slide_type": "skip"
    },
    "tags": [
     "noexport"
    ]
   },
   "outputs": [],
   "source": [
    "# Narrow N_v to large datasets only\n",
    "bNarrow = False\n",
    "large_N = N_vals.loc[N_vals[\"N\"] > 70]\n",
    "if bNarrow:\n",
    "    datasets = df.loc[df[\"Dataset\"].isin(large_N[\"Dataset\"])]\n",
    "\n",
    "dataset_names = datasets[\"Dataset\"].unique()"
   ]
  },
  {
   "cell_type": "code",
   "execution_count": null,
   "id": "a0adfbbc",
   "metadata": {
    "editable": true,
    "lines_to_next_cell": 2,
    "papermill": {},
    "slideshow": {
     "slide_type": "skip"
    },
    "tags": [
     "noexport"
    ]
   },
   "outputs": [],
   "source": [
    "# Examine available days per dataset\n",
    "days = (\n",
    "    datasets[[dataset_col, uid_col, day_col]].groupby(dataset_col, as_index=False)[day_col].unique()\n",
    ")\n",
    "# with pd.option_context('display.max_colwidth', None):\n",
    "#     for index, row in days.iterrows():\n",
    "#         print(f\"\\\"{row['Dataset']}\\\": {row['Day']}\")"
   ]
  },
  {
   "cell_type": "code",
   "execution_count": null,
   "id": "a5adda28",
   "metadata": {
    "papermill": {},
    "tags": []
   },
   "outputs": [],
   "source": [
    "# Keep only Influenze datasets for now\n",
    "# influenza_sets = ['GSE41080.SDY212', 'GSE48018.SDY1276', 'GSE48023.SDY1276', 'SDY67', 'GSE125921.SDY1529', 'GSE45735.SDY224', 'GSE47353.SDY80', 'GSE48023.SDY1276', 'GSE59635.SDY63', 'GSE59654.SDY404', 'GSE59743.SDY400', 'SDY296']\n",
    "\n",
    "bInfluenza = True\n",
    "if bInfluenza:\n",
    "    influenza_dict = [\n",
    "        {\"Dataset\": \"GSE125921.SDY1529\", \"Days\": [\"FC\", \"D84\"], \"Day0\": \"D0\"},\n",
    "        {\"Dataset\": \"GSE41080.SDY212\", \"Days\": [\"FC.HAI\", \"HAI.D28\"], \"Day0\": \"HAI.D0\"},\n",
    "        {\"Dataset\": \"GSE45735.SDY224\", \"Days\": [\"FC.HAI\", \"HAI.D21\"], \"Day0\": \"HAI.D0\"},\n",
    "        # start with sets that have a HAI measurement\n",
    "        # {\"Dataset\": \"GSE47353.SDY80\", \"Days\": [\"D70.nAb\", \"FC.D70.nAb\"], \"Day0\": \"D0.nAb\"},\n",
    "        {\"Dataset\": \"GSE48018.SDY1276\", \"Days\": [\"HAI.D28\", \"HAI.FC\"], \"Day0\": \"HAI.D0\"},\n",
    "        {\"Dataset\": \"GSE48023.SDY1276\", \"Days\": [\"HAI.FC\", \"HAI.D28\"], \"Day0\": \"HAI.D0\"},\n",
    "        {\"Dataset\": \"GSE59635.SDY63\", \"Days\": [\"FC\", \"HAI.D28\"], \"Day0\": \"HAI.D0\"},\n",
    "        {\"Dataset\": \"GSE59654.SDY404\", \"Days\": [\"HAI.D28\", \"FC.HAI\"], \"Day0\": \"HAI.D0\"},\n",
    "        {\"Dataset\": \"GSE59743.SDY400\", \"Days\": [\"FC.HAI\", \"HAI.D28\"], \"Day0\": \"None\"},\n",
    "        {\"Dataset\": \"SDY296\", \"Days\": [\"D28.HAI\", \"FC.HAI\"], \"Day0\": \"D0.HAI\"},\n",
    "        {\"Dataset\": \"SDY67\", \"Days\": [\"FC.D28.HAI\", \"HAI.D28\"], \"Day0\": \"HAI.D0\"},\n",
    "    ]\n",
    "\n",
    "    tmp_df = pd.DataFrame(influenza_dict)\n",
    "    datasets = df.loc[df[\"Dataset\"].isin(tmp_df[\"Dataset\"])]\n",
    "    dataset_names = datasets[\"Dataset\"].unique()\n",
    "    # df['Days'] = df['Days'].apply(lambda x: ', '.join(x) if isinstance(x, list) else x)  # Convert list to string for display"
   ]
  },
  {
   "cell_type": "code",
   "execution_count": null,
   "id": "6a77af5d",
   "metadata": {
    "papermill": {},
    "tags": [
     "parameters",
     "test"
    ]
   },
   "outputs": [],
   "source": [
    "# Narrow to a specific dataset and day, then keep only relevant columns\n",
    "strain_index = 0\n",
    "dataset_name = \"GSE41080.SDY212\"\n",
    "day = \"HAI.D28\"\n",
    "day0 = \"HAI.D0\""
   ]
  },
  {
   "cell_type": "code",
   "execution_count": null,
   "id": "1b304655",
   "metadata": {
    "tags": [
     "injected-parameters"
    ]
   },
   "outputs": [],
   "source": [
    "# Parameters\n",
    "dataset_name = \"GSE59654.SDY404\"\n",
    "strain_index = 1\n",
    "day = \"HAI.D28\"\n"
   ]
  },
  {
   "cell_type": "code",
   "execution_count": null,
   "id": "7bfc196b",
   "metadata": {
    "papermill": {},
    "tags": []
   },
   "outputs": [],
   "source": [
    "# Narrow a specific datset\n",
    "name_mask = datasets[dataset_col] == dataset_name\n",
    "dataset = datasets.loc[(name_mask)].reset_index(drop=True)"
   ]
  },
  {
   "cell_type": "code",
   "execution_count": null,
   "id": "cbd8d7f5",
   "metadata": {
    "papermill": {},
    "tags": []
   },
   "outputs": [],
   "source": [
    "# Discard seroprotected subjects based on HAI > 40 threshold)\n",
    "bDiscardSeroprotected = True\n",
    "if bDiscardSeroprotected:\n",
    "    HAI_threshold = 40\n",
    "    day0_mask = dataset[day_col] == day0\n",
    "    threshold_mask = dataset[response_col ]> HAI_threshold\n",
    "\n",
    "    # Get a list of all protected patients\n",
    "    serprotected_subjects = dataset.loc[(day0_mask) & (threshold_mask)][uid_col].unique()\n",
    "    # keep only patients not in the serprotected_subjects list\n",
    "    dataset = dataset.loc[~dataset[uid_col].isin(serprotected_subjects)]\n",
    "    subjects_left = dataset[uid_col].unique()\n",
    "    print(f\"Discarding {len(serprotected_subjects)} seroprotected subjects\")\n",
    "    print(f\"Subjects left: N={len(subjects_left)}\")"
   ]
  },
  {
   "cell_type": "code",
   "execution_count": null,
   "id": "c5b62e58",
   "metadata": {
    "editable": true,
    "lines_to_next_cell": 0,
    "papermill": {},
    "slideshow": {
     "slide_type": "skip"
    },
    "tags": [
     "noexport"
    ]
   },
   "outputs": [],
   "source": [
    "# #### Narrow to a specific day, then keep only relevant columns\n",
    "day_mask = dataset[day_col] == day\n",
    "data = dataset.loc[(day_mask)].reset_index(drop=True)\n",
    "\n",
    "# Somtimes there are multiple strains - so multiple rows per day\n",
    "strains = data[strain_col].unique()\n",
    "if len(strains) > 1:\n",
    "    data = data.loc[data[strain_col] == strains[strain_index]].reset_index(drop=True)\n",
    "\n",
    "strains_t = data[strain_col].unique()\n",
    "assert len(strains_t) == 1\n",
    "strain = strains_t[0]\n",
    "\n",
    "# Sometimes there are multiple geo_accession numbers, like in GSE48018.SDY1276, average the IMMAGE, since all else is the same\n",
    "accessions = data[\"geo_accession\"].unique()\n",
    "if len(accessions) > 1:\n",
    "    # print(f\"*** Multiple accession detected! Collapsing by averaging on IMMAGE value ***\\n\")\n",
    "    data = data.groupby(uid_col, as_index=False).agg({immage_col: \"mean\", **{col: \"first\" for col in data.columns if col not in [uid_col, immage_col]},}\n",
    "    )\n",
    "\n",
    "# Take relevant columns only\n",
    "data = data[[immage_col, response_col, age_col]]"
   ]
  },
  {
   "cell_type": "code",
   "execution_count": null,
   "id": "ee3779b8",
   "metadata": {
    "lines_to_next_cell": 2,
    "papermill": {},
    "tags": []
   },
   "outputs": [],
   "source": [
    "md(f\"\"\"## Analysis for dataset: {dataset_name}, strain: {strain}, day: {day}\"\"\")"
   ]
  },
  {
   "cell_type": "markdown",
   "id": "e5d2313b",
   "metadata": {
    "papermill": {},
    "tags": []
   },
   "source": [
    "#### Dataset & Strain info"
   ]
  },
  {
   "cell_type": "code",
   "execution_count": null,
   "id": "39d519bd",
   "metadata": {
    "editable": true,
    "papermill": {},
    "slideshow": {
     "slide_type": ""
    },
    "tags": [
     "noexport"
    ]
   },
   "outputs": [],
   "source": [
    "md(\n",
    "    f\"\"\"Working with dataset: {dataset_name}, strain: {strain}, day: {day}\\n\n",
    "Total subjects in study: N = {data.shape[0]}\\n\n",
    "Other strains in this study: {strains}\"\"\"\n",
    ")"
   ]
  },
  {
   "cell_type": "code",
   "execution_count": null,
   "id": "09a35050",
   "metadata": {
    "editable": true,
    "papermill": {},
    "slideshow": {
     "slide_type": "skip"
    },
    "tags": []
   },
   "outputs": [],
   "source": [
    "# Get a boolean map of sub and super threshold values\n",
    "low_response_thr = data[[response_col]].quantile(q=0.3).item()\n",
    "\n",
    "# Generate labels\n",
    "# Note that we define y=1 for all responses < 30th percentile (and not <=)\n",
    "# Also note that we defined y=1 as *non* responders, since later on that's what we'll care most about detecting\n",
    "\n",
    "data[\"y\"] = data[response_col].apply(lambda x: 1 if x < low_response_thr else 0)\n",
    "\n",
    "# Add a text label for plot legends\n",
    "data[\"Label text\"] = data[\"y\"].apply(lambda x: \"Responders\" if x == 0 else \"Non-Responders\")"
   ]
  },
  {
   "cell_type": "markdown",
   "id": "71076270",
   "metadata": {
    "editable": true,
    "papermill": {},
    "slideshow": {
     "slide_type": "slide"
    },
    "tags": []
   },
   "source": [
    "#### Dynamic ranges of IMMAGE, response, and age values"
   ]
  },
  {
   "cell_type": "code",
   "execution_count": null,
   "id": "e8d4db75",
   "metadata": {
    "editable": true,
    "lines_to_next_cell": 2,
    "papermill": {},
    "slideshow": {
     "slide_type": "fragment"
    },
    "tags": [
     "noexport"
    ]
   },
   "outputs": [],
   "source": [
    "# Plot IMMAGE, response, and age values to look at the dynamic range\n",
    "from scipy.stats import probplot\n",
    "\n",
    "fig, axs = plt.subplots(2, 3, figsize=(18, 6))  # Create a figure with two subplots side by side\n",
    "\n",
    "sns.histplot(data=data, x=immage_col, bins=50, ax=axs[0, 0])\n",
    "sns.boxplot(data=data, x=immage_col, ax=axs[1, 0], fill=False)\n",
    "# axs[0].set_title('Box Plot')\n",
    "axs[0, 0].set_title(f\" {immage_col}\")\n",
    "\n",
    "sns.histplot(data=data, x=response_col, bins=50, ax=axs[0, 1])\n",
    "sns.boxplot(data=data, x=response_col, ax=axs[1, 1], fill=False)\n",
    "# axs[1].set_title('Box Plot')\n",
    "axs[0, 1].set_title(f\" {response_col}\")\n",
    "\n",
    "sns.histplot(data=data, x=age_col, bins=50, ax=axs[0, 2])\n",
    "sns.boxplot(data=data, x=age_col, ax=axs[1, 2], fill=False)\n",
    "# axs[1].set_title('Box Plot')\n",
    "axs[0, 2].set_title(f\" {age_col}\")\n",
    "\n",
    "plt.tight_layout(pad=3.0)  # Adjust the layout so everything fits without overlap\n",
    "fig.suptitle(f\"Values Distribution in {dataset_name}, strain: {strain}\")\n",
    "\n",
    "plt.show()"
   ]
  },
  {
   "cell_type": "code",
   "execution_count": null,
   "id": "89ef14f3",
   "metadata": {
    "editable": true,
    "lines_to_next_cell": 2,
    "papermill": {},
    "slideshow": {
     "slide_type": "skip"
    },
    "tags": []
   },
   "outputs": [],
   "source": [
    "# Classifying with logistic regression - fit on the entire dataset\n",
    "from math import log\n",
    "\n",
    "\n",
    "def get_threshold_from_probability(prob, intercept, slope):\n",
    "    return -1 * (log(1 / prob - 1) + intercept) / slope\n",
    "\n",
    "\n",
    "log_regress_immage = LogisticRegression()\n",
    "log_regress_age = LogisticRegression()\n",
    "log_regress_combined = LogisticRegression()\n",
    "\n",
    "# Train a classifier based on immage and on age for comparison\n",
    "log_regress_immage.fit(data[[immage_col]], data[\"y\"])\n",
    "log_regress_age.fit(data[[age_col]], data[\"y\"])\n",
    "log_regress_combined.fit(data[[immage_col, age_col]], data[\"y\"])\n",
    "\n",
    "non_responder_col = \"p_non_responder\"\n",
    "non_responder_col_age = \"p_non_responder_age\"\n",
    "non_responder_col_combined = \"p_non_responder_combined\"\n",
    "\n",
    "proba = pd.DataFrame(log_regress_immage.predict_proba(data[[immage_col]]))\n",
    "data[non_responder_col] = proba[1]\n",
    "proba = pd.DataFrame(log_regress_age.predict_proba(data[[age_col]]))\n",
    "data[non_responder_col_age] = proba[1]\n",
    "proba = pd.DataFrame(log_regress_combined.predict_proba(data[[immage_col, age_col]]))\n",
    "data[non_responder_col_combined] = proba[1]"
   ]
  },
  {
   "cell_type": "code",
   "execution_count": null,
   "id": "93ad3008",
   "metadata": {
    "editable": true,
    "papermill": {},
    "slideshow": {
     "slide_type": "skip"
    },
    "tags": []
   },
   "outputs": [],
   "source": [
    "# Define auxilary functions\n",
    "from sklearn.metrics import auc, roc_auc_score, roc_curve\n",
    "from math import log\n",
    "\n",
    "\n",
    "def calc_and_plot_prob_threshold(data, classifier, fpr, tpr, thresholds, col_name=\"\"):\n",
    "    roc_auc = auc(fpr, tpr)\n",
    "    intercept = classifier.intercept_[0]\n",
    "    slope = classifier.coef_[0][0]\n",
    "\n",
    "    # Identifying the optimal threshold (using Youden’s Index)\n",
    "    optimal_idx = np.argmax(tpr - fpr)\n",
    "    prob_threshold = thresholds[optimal_idx]\n",
    "\n",
    "    # Calculate the cutoff value\n",
    "    feature_threshold = get_threshold_from_probability(\n",
    "        prob_threshold, intercept=intercept, slope=slope\n",
    "    )\n",
    "\n",
    "    fig, axs = plt.subplots(\n",
    "        1, 2, figsize=(16, 6)\n",
    "    )  # Creates a figure with two side-by-side subplots\n",
    "\n",
    "    # Plot ROC curve on the first subplot\n",
    "    axs[0].plot(fpr, tpr, label=f\"ROC curve (area = {roc_auc : 0.2f})\", color=\"#9b59b6\")\n",
    "    axs[0].plot([0, 1], [0, 1], \"k--\")  # Random chance line\n",
    "    axs[0].plot(fpr[optimal_idx], tpr[optimal_idx], marker=\"o\", markersize=5, color=\"red\")\n",
    "    axs[0].set_xlim([0.0, 1.0])\n",
    "    axs[0].set_ylim([0.0, 1.05])\n",
    "    axs[0].set_xlabel(\"False Positive Rate\")\n",
    "    axs[0].set_ylabel(\"True Positive Rate\")\n",
    "    axs[0].set_title(\"ROC curve\")\n",
    "    axs[0].legend(loc=\"lower right\")\n",
    "\n",
    "    # Plot sorted IMMAGE values vs Index on the second subplot\n",
    "    custom_palette = {\"Non-Responders\": \"orange\", \"Responders\": \"#3498db\"}\n",
    "    sorted_data = data.sort_values(col_name, ignore_index=True).reset_index()\n",
    "    sns.scatterplot(\n",
    "        ax=axs[1], data=sorted_data, x=\"index\", y=col_name, hue=\"Label text\", palette=custom_palette\n",
    "    )\n",
    "    axs[1].axhline(y=feature_threshold, color=\"black\", linestyle=\"--\")\n",
    "    axs[1].set_title(f\"Sorted {col_name} vs Index\")\n",
    "\n",
    "    fig.suptitle(f\"Probability-based threshold with ROC\\n({dataset_name}, {strain})\")\n",
    "    plt.tight_layout()  # Adjusts subplot params so that subplots fit into the figure area.\n",
    "    plt.show()\n",
    "\n",
    "    return (prob_threshold, feature_threshold, roc_auc)\n",
    "\n",
    "\n",
    "def calc_and_plot_prob_threshold_multivar(data, classifier, fpr, tpr, thresholds, features=\"\"):\n",
    "    roc_auc = auc(fpr, tpr)\n",
    "    intercept = classifier.intercept_[0]\n",
    "    slope = classifier.coef_[0][0]\n",
    "\n",
    "    # Identifying the optimal threshold (using Youden’s Index)\n",
    "    optimal_idx = np.argmax(tpr - fpr)\n",
    "    prob_threshold = thresholds[optimal_idx]\n",
    "\n",
    "    # Calculate the cutoff value\n",
    "    feature_threshold = get_threshold_from_probability(\n",
    "        prob_threshold, intercept=intercept, slope=slope\n",
    "    )\n",
    "\n",
    "    fig, axs = plt.subplots(1, 2, figsize=(16, 6))\n",
    "\n",
    "    # Plot ROC curve on the first subplot\n",
    "    axs[0].plot(fpr, tpr, color=\"#9b59b6\", label=f\"ROC curve (area = {roc_auc : 0.2f})\")\n",
    "    axs[0].plot([0, 1], [0, 1], \"k--\")  # Random chance line\n",
    "    axs[0].plot(fpr[optimal_idx], tpr[optimal_idx], marker=\"o\", markersize=5, color=\"red\")\n",
    "    axs[0].set_xlim([0.0, 1.0])\n",
    "    axs[0].set_ylim([0.0, 1.05])\n",
    "    axs[0].set_xlabel(\"False Positive Rate\")\n",
    "    axs[0].set_ylabel(\"True Positive Rate\")\n",
    "    axs[0].set_title(\"ROC curve\")\n",
    "    axs[0].legend(loc=\"lower right\")\n",
    "\n",
    "    # Plot sorted IMMAGE values vs Index on the second subplot\n",
    "    # Define a custom color palette\n",
    "    custom_palette = {\"Non-Responders\": \"orange\", \"Responders\": \"#3498db\"}\n",
    "    sns.scatterplot(\n",
    "        ax=axs[1], data=data, x=features[0], y=features[1], hue=\"Label text\", palette=custom_palette\n",
    "    )\n",
    "    # axs[1].axhline(y=feature_threshold, color=\"black\", linestyle=\"--\")\n",
    "    axs[1].set_title(f\"IMMAGE and Age labels\")\n",
    "\n",
    "    fig.suptitle(f\"Probability-based threshold with ROC\\n({dataset_name}, {strain})\")\n",
    "    plt.tight_layout()  # Adjusts subplot params so that subplots fit into the figure area.\n",
    "    plt.show()\n",
    "\n",
    "    return (\n",
    "        prob_threshold,\n",
    "        feature_threshold,\n",
    "        roc_auc,\n",
    "    )  # feature threshold is meaningless for the multivariate case\n",
    "\n",
    "\n",
    "def get_classifier_stats_prob(data, prob_column, prob_threshold):\n",
    "    # Global measures (entire dataset)\n",
    "    optimal_pred = data[prob_column].apply(lambda x: 1 if x >= prob_threshold else 0)\n",
    "    test_accuracy = accuracy_score(data[\"y\"], optimal_pred)\n",
    "    # Performance above the prob_threshold\n",
    "    y_over_thr = data.loc[data[prob_column] >= prob_threshold, [\"y\"]]\n",
    "    non_response_rate_over_thr = y_over_thr.mean().y\n",
    "    y_under_thr = data.loc[data[prob_column] < prob_threshold, [\"y\"]]\n",
    "    non_response_rate_under_thr = y_under_thr.mean().y\n",
    "    return non_response_rate_over_thr, non_response_rate_under_thr"
   ]
  },
  {
   "cell_type": "markdown",
   "id": "c1af1244",
   "metadata": {
    "editable": true,
    "papermill": {},
    "slideshow": {
     "slide_type": "skip"
    },
    "tags": []
   },
   "source": [
    "#### Thresholding based on logistic regression probabilties"
   ]
  },
  {
   "cell_type": "markdown",
   "id": "0f54ed50",
   "metadata": {
    "editable": true,
    "papermill": {},
    "slideshow": {
     "slide_type": "slide"
    },
    "tags": []
   },
   "source": [
    "#### IMMAGE-based classification"
   ]
  },
  {
   "cell_type": "code",
   "execution_count": null,
   "id": "86aa434d",
   "metadata": {
    "editable": true,
    "papermill": {},
    "slideshow": {
     "slide_type": "fragment"
    },
    "tags": [
     "noexport"
    ]
   },
   "outputs": [],
   "source": [
    "# Run for immage and age to compare\n",
    "# IMMAGE\n",
    "fpr, tpr, thresholds = roc_curve(data[\"y\"], data[non_responder_col])\n",
    "prob_threshold, immage_threshold, immage_roc_auc = calc_and_plot_prob_threshold(\n",
    "    data, log_regress_immage, fpr, tpr, thresholds, col_name=immage_col\n",
    ")\n",
    "non_response_rate_over_thr, non_response_rate_under_thr = get_classifier_stats_prob(\n",
    "    data, non_responder_col, prob_threshold\n",
    ")"
   ]
  },
  {
   "cell_type": "markdown",
   "id": "81d82b44",
   "metadata": {
    "editable": true,
    "papermill": {},
    "slideshow": {
     "slide_type": "slide"
    },
    "tags": []
   },
   "source": [
    "#### Age-based classification"
   ]
  },
  {
   "cell_type": "code",
   "execution_count": null,
   "id": "7ca84d8d",
   "metadata": {
    "editable": true,
    "papermill": {},
    "slideshow": {
     "slide_type": "fragment"
    },
    "tags": [
     "noexport"
    ]
   },
   "outputs": [],
   "source": [
    "# Age\n",
    "fpr, tpr, thresholds = roc_curve(data[\"y\"], data[non_responder_col_age])\n",
    "prob_threshold_age, age_threshold, age_roc_auc = calc_and_plot_prob_threshold(\n",
    "    data, log_regress_age, fpr, tpr, thresholds, col_name=age_col\n",
    ")\n",
    "age_non_response_rate_over_thr, age_non_response_rate_under_thr = get_classifier_stats_prob(\n",
    "    data, non_responder_col_age, prob_threshold_age\n",
    ")"
   ]
  },
  {
   "cell_type": "markdown",
   "id": "35807b00",
   "metadata": {
    "editable": true,
    "papermill": {},
    "slideshow": {
     "slide_type": "slide"
    },
    "tags": []
   },
   "source": [
    "#### Age & IMMAGE combined"
   ]
  },
  {
   "cell_type": "code",
   "execution_count": null,
   "id": "3ba22e6b",
   "metadata": {
    "editable": true,
    "papermill": {},
    "slideshow": {
     "slide_type": "fragment"
    },
    "tags": [
     "noexport"
    ]
   },
   "outputs": [],
   "source": [
    "# Combined\n",
    "fpr, tpr, thresholds = roc_curve(data[\"y\"], data[non_responder_col_combined])\n",
    "prob_threshold_combined, _, combined_roc_auc = calc_and_plot_prob_threshold_multivar(\n",
    "    data, log_regress_combined, fpr, tpr, thresholds, features=[immage_col, age_col]\n",
    ")\n",
    "combined_non_response_rate_over_thr, combined_non_response_rate_under_thr = (\n",
    "    get_classifier_stats_prob(data, non_responder_col_combined, prob_threshold_combined)\n",
    ")"
   ]
  },
  {
   "cell_type": "markdown",
   "id": "de629bae",
   "metadata": {
    "editable": true,
    "papermill": {},
    "slideshow": {
     "slide_type": "slide"
    },
    "tags": []
   },
   "source": [
    "#### Comparison of using the different features"
   ]
  },
  {
   "cell_type": "code",
   "execution_count": null,
   "id": "77be8bb8",
   "metadata": {
    "papermill": {},
    "tags": []
   },
   "outputs": [],
   "source": [
    "%%script true\n",
    "print(\n",
    "    f'''IMMAGE:\n",
    "    Optimal threshold: {immage_threshold : 0.2f} (IMMAGE value)\n",
    "    Non-responder rate:\n",
    "      over threshold: {non_response_rate_over_thr : 0.2f}\n",
    "      under threshold: {non_response_rate_under_thr : 0.2f}\\n'''\n",
    ");\n",
    "print(\n",
    "    f'''Age:\n",
    "    Optimal threshold: {age_threshold : 0.2f} (Age)\n",
    "    Non-responder rate:\n",
    "      over threshold: {age_non_response_rate_over_thr : 0.2f}\n",
    "      under threshold: {age_non_response_rate_under_thr : 0.2f}\\n'''\n",
    ");\n",
    "print(\n",
    "    f'''Multivariate:\n",
    "    Optimal threshold: {prob_threshold_combined : 0.2f} (probability)\n",
    "    Non-responder rate:\n",
    "    over threshold: {combined_non_response_rate_over_thr : 0.2f}\n",
    "    under threshold: {combined_non_response_rate_under_thr : 0.2f}\\n'''\n",
    ");"
   ]
  },
  {
   "cell_type": "code",
   "execution_count": null,
   "id": "dc1bc812",
   "metadata": {
    "editable": true,
    "papermill": {},
    "slideshow": {
     "slide_type": ""
    },
    "tags": []
   },
   "outputs": [],
   "source": [
    "summary = {\n",
    "    \"Variable\": [\"IMMAGE\", \"Age\", \"Multivariate\"],\n",
    "    \"Optimal threshold\": [immage_threshold, age_threshold, prob_threshold_combined],\n",
    "    \"ROC AUC\": [immage_roc_auc, age_roc_auc, combined_roc_auc],\n",
    "    \"Non response over threshold\": [\n",
    "        non_response_rate_over_thr,\n",
    "        age_non_response_rate_over_thr,\n",
    "        combined_non_response_rate_over_thr,\n",
    "    ],\n",
    "    \"Non response under threshold\": [\n",
    "        non_response_rate_under_thr,\n",
    "        age_non_response_rate_under_thr,\n",
    "        combined_non_response_rate_under_thr,\n",
    "    ],\n",
    "}\n",
    "\n",
    "df = pd.DataFrame(summary)\n",
    "print(df.to_string(index=False))"
   ]
  },
  {
   "cell_type": "markdown",
   "id": "75685cdc",
   "metadata": {
    "editable": true,
    "lines_to_next_cell": 2,
    "papermill": {},
    "slideshow": {
     "slide_type": "slide"
    },
    "tags": []
   },
   "source": [
    "#### Sliding window analysis"
   ]
  },
  {
   "cell_type": "code",
   "execution_count": null,
   "id": "214d826f",
   "metadata": {
    "editable": true,
    "papermill": {},
    "slideshow": {
     "slide_type": "skip"
    },
    "tags": []
   },
   "outputs": [],
   "source": [
    "# Sliding window instead of bins, plotting non-reponder rate vs window start\n",
    "def generate_windows(data, feature_col, num_units, num_units_per_window):\n",
    "    \"\"\"\n",
    "    Generates window start and end points based on the specified feature column in the data.\n",
    "    \"\"\"\n",
    "    window_starts = np.linspace(\n",
    "        start=data[feature_col].min(), stop=data[feature_col].max(), num=num_units\n",
    "    )\n",
    "    window_size = (\n",
    "        (data[feature_col].max() - data[feature_col].min()) / num_units * num_units_per_window\n",
    "    )\n",
    "    window_starts = pd.Series(window_starts)\n",
    "    windows = pd.DataFrame({\"start\": window_starts[:-num_units_per_window].reset_index(drop=True), \"end\": window_starts[num_units_per_window:].reset_index(drop=True)})\n",
    "    return windows, window_size\n",
    "\n",
    "\n",
    "def calculate_rates(data, windows, feature_col):\n",
    "    \"\"\"\n",
    "    Calculates the rate for each window based on the occurrences within that window: non-reponders/all-subjects-in-window.\n",
    "    \"\"\"\n",
    "    rates = []\n",
    "\n",
    "    for i, start, end in windows.itertuples():\n",
    "        over = data[feature_col] >= windows[\"start\"][i]\n",
    "        under = data[feature_col] < windows[\"end\"][i]\n",
    "        rates.append(data.loc[(over & under), \"y\"].mean())\n",
    "\n",
    "    rates = pd.Series(rates).fillna(0)\n",
    "    windows[\"rate\"] = rates\n",
    "\n",
    "    return windows\n",
    "\n",
    "\n",
    "def calculate_rates_total(data, windows, feature_col):\n",
    "    \"\"\"\n",
    "        Calculates the rate for each window based on the relation of each window to total population: window-non-reponders/all-non-responders.\n",
    "    _\"\"\"\n",
    "    rates = []\n",
    "    total_non_responders = data[\"y\"].sum()\n",
    "\n",
    "    for i, start, end in windows.itertuples():\n",
    "        over = data[feature_col] >= windows[\"start\"][i]\n",
    "        under = data[feature_col] < windows[\"end\"][i]\n",
    "        rates.append(data.loc[(over & under), \"y\"].sum() / total_non_responders)\n",
    "\n",
    "    rates = pd.Series(rates).fillna(0)\n",
    "    windows[\"rate\"] = rates\n",
    "\n",
    "    return windows\n",
    "\n",
    "\n",
    "def generate_windows_and_rates(data, feature_col, num_units, num_units_per_window, total=False):\n",
    "    windows, window_size = generate_windows(data, feature_col, num_units, num_units_per_window)\n",
    "    if total:\n",
    "        windows = calculate_rates_total(data, windows, feature_col)\n",
    "    else:\n",
    "        windows = calculate_rates(data, windows, feature_col)\n",
    "\n",
    "    return windows, window_size"
   ]
  },
  {
   "cell_type": "markdown",
   "id": "e1493f17",
   "metadata": {
    "editable": true,
    "papermill": {},
    "slideshow": {
     "slide_type": "slide"
    },
    "tags": []
   },
   "source": [
    "##### \"Local\" metric"
   ]
  },
  {
   "cell_type": "code",
   "execution_count": null,
   "id": "ef048f37",
   "metadata": {
    "editable": true,
    "papermill": {},
    "slideshow": {
     "slide_type": "fragment"
    },
    "tags": [
     "noexport"
    ]
   },
   "outputs": [],
   "source": [
    "num_units = 100\n",
    "feature_cols = [immage_col, age_col]\n",
    "num_features = len(feature_cols)\n",
    "\n",
    "# Plot windows with \"local\" rate\n",
    "fig, axs = plt.subplots(1, num_features, figsize=(5 * num_features, 5))\n",
    "\n",
    "for i, feature_col in enumerate(feature_cols):\n",
    "    windows, window_size = generate_windows_and_rates(data, feature_col, num_units, 20, total=False)\n",
    "    sns.lineplot(data=windows, x=\"start\", y=\"rate\", ax=axs[i])\n",
    "    axs[i].axhline(y=0.5, color=\"black\", linestyle=\"--\")\n",
    "    axs[i].set_title(f\"Window size: {window_size:.2f} {feature_col} units\")\n",
    "    axs[i].set_xlabel(\"Start\")\n",
    "    axs[i].set_ylabel(\"Rate\")\n",
    "\n",
    "fig.suptitle(\n",
    "    f\"\"\"Sliding window performance\n",
    "    Rate of non-responders vs feature values\n",
    "    ({dataset_name}, {strain})\"\"\"\n",
    ")\n",
    "plt.subplots_adjust(top=0.75)\n",
    "\n",
    "plt.show()"
   ]
  },
  {
   "cell_type": "markdown",
   "id": "ecf61c10",
   "metadata": {
    "editable": true,
    "lines_to_next_cell": 2,
    "papermill": {},
    "slideshow": {
     "slide_type": "slide"
    },
    "tags": []
   },
   "source": [
    "##### \"Global\" metric"
   ]
  },
  {
   "cell_type": "code",
   "execution_count": null,
   "id": "0c020421",
   "metadata": {
    "editable": true,
    "lines_to_next_cell": 2,
    "papermill": {},
    "slideshow": {
     "slide_type": "fragment"
    },
    "tags": [
     "noexport"
    ]
   },
   "outputs": [],
   "source": [
    "\n",
    "# Plot windows with \"global\" rate\n",
    "fig, axs = plt.subplots(1, num_features, figsize=(5 * num_features, 5))\n",
    "\n",
    "for i, feature_col in enumerate(feature_cols):\n",
    "    windows, window_size = generate_windows_and_rates(data, feature_col, num_units, 20, total=True)\n",
    "    sns.lineplot(data=windows, x=\"start\", y=\"rate\", ax=axs[i])\n",
    "    axs[i].axhline(y=0.5, color=\"black\", linestyle=\"--\")\n",
    "    axs[i].set_title(f\"Window size: {window_size:.2f} {feature_col} units\")\n",
    "    axs[i].set_xlabel(\"Start\")\n",
    "    axs[i].set_ylabel(\"Rate\")\n",
    "\n",
    "fig.suptitle(\n",
    "    f\"\"\"Sliding window performance\n",
    "    Global rate of non-responders vs feature values\n",
    "    ({dataset_name}, {strain})\"\"\"\n",
    ")\n",
    "plt.subplots_adjust(top=0.75)\n",
    "\n",
    "plt.show()"
   ]
  },
  {
   "cell_type": "code",
   "execution_count": null,
   "id": "f83c3ff7",
   "metadata": {
    "editable": true,
    "papermill": {},
    "slideshow": {
     "slide_type": "skip"
    },
    "tags": []
   },
   "outputs": [],
   "source": [
    "# 2D sliding windows - not worth the time it take to make this work\n",
    "feature1 = immage_col\n",
    "feature2 = age_col\n",
    "f1_windows, size1 = generate_windows(data, feature1, 100, 20)\n",
    "f2_windows, size2 = generate_windows(data, feature2, 100, 20)\n",
    "windows = pd.concat([f1_windows, f2_windows], keys=[\"f1_windows\", \"f2_windows\"], axis=1)\n",
    "rates = []\n",
    "for i, start1, end1, start2, end2 in windows.itertuples():\n",
    "    over1 = data[feature1] >= start1\n",
    "    under1 = data[feature1] < end1\n",
    "    over2 = data[feature2] >= start2\n",
    "    under2 = data[feature2] < end2\n",
    "    # mean is summing the positive labels = # of positives and dividing by the total # of subjects in that group\n",
    "    rates.append(data.loc[(over1 & under1 & over2 & under2), \"y\"].mean())\n",
    "\n",
    "rates = pd.Series(rates).fillna(0)\n",
    "windows[\"rate\"] = rates\n",
    "# rate_matrix = data.groupby(['f1_bin', 'f2_bin'])[target].mean().unstack().fillna(0)\n",
    "\n",
    "\n",
    "def calculate_2d_rates(data, feature1, feature2, target, num_bins=10):\n",
    "    f1_windows = generate_windows(data, feature1, 100, 20)\n",
    "    f2_windows = generate_windows(data, feature2, 100, 20)\n",
    "    windows = pd.DataFrame({\"f1_windows\": f1_windows, \"f2_windows\": f2_windows})\n",
    "\n",
    "    for i, start1, end1, start2, end2 in windows.itertuples():\n",
    "        over1 = data[feature1] >= start1\n",
    "        under1 = data[feature1] < end1\n",
    "        over2 = data[feature2] >= start2\n",
    "        under2 = data[feature2] < end2\n",
    "        # mean is summing the positive labels = # of positives and dividing by the total # of subjects in that group\n",
    "        rates.append(data.loc[(over1 & under1 & over2 & under2), \"y\"].mean())\n",
    "\n",
    "    rates = pd.Series(rates).fillna(0)\n",
    "    windows[\"rate\"] = rates\n",
    "    rate_matrix = data.groupby([\"f1_bin\", \"f2_bin\"])\n",
    "\n",
    "    return rate_matrix\n",
    "\n",
    "\n",
    "def plot_2d_rates(rate_matrix):\n",
    "    # Plot as a heatmap\n",
    "    plt.figure(figsize=(8, 6))\n",
    "    sns.heatmap(rate_matrix, annot=True, cmap=\"coolwarm\", fmt=\".2f\")\n",
    "    plt.title(\"Rate of Non-Responders by 2D Feature Bins\")\n",
    "    plt.xlabel(\"Feature 2 Bin\")\n",
    "    plt.ylabel(\"Feature 1 Bin\")\n",
    "    plt.show()\n",
    "\n",
    "\n",
    "# Calculate and plot\n",
    "# rate_matrix = calculate_2d_rates(data, 'feature1', 'feature2', 'y', num_bins=5)\n",
    "# plot_2d_rates(rate_matrix)"
   ]
  }
 ],
 "metadata": {
  "kernelspec": {
   "display_name": "Python 3 (ipykernel)",
   "language": "python",
   "name": "python3"
  },
  "papermill": {
   "default_parameters": {},
   "environment_variables": {},
   "input_path": "vaccines-4.ipynb",
   "output_path": "export/GSE59654.SDY404_A_California_7_2009_HAI.D28_analysis.ipynb",
   "parameters": {
    "dataset_name": "GSE59654.SDY404",
    "day": "HAI.D28",
    "strain_index": 1
   },
   "version": "2.5.0"
  }
 },
 "nbformat": 4,
 "nbformat_minor": 5
}