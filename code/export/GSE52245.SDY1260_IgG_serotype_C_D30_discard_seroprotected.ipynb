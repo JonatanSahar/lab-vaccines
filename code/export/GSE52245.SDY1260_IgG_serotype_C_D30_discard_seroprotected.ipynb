{
 "cells": [
  {
   "cell_type": "code",
   "execution_count": 1,
   "id": "16cfcc2e",
   "metadata": {
    "papermill": {},
    "tags": []
   },
   "outputs": [],
   "source": [
    "from jupyter_client import find_connection_file\n",
    "\n",
    "connection_file = find_connection_file()\n",
    "# print(connection_file)"
   ]
  },
  {
   "cell_type": "code",
   "execution_count": null,
   "id": "6d6b6605",
   "metadata": {
    "papermill": {},
    "tags": []
   },
   "outputs": [],
   "source": [
    "# Plotting related\n",
    "import os\n",
    "import sys\n",
    "\n",
    "sys.tracebacklimit = 0\n",
    "\n",
    "import seaborn as sns\n",
    "\n",
    "# sns.set_palette([\"#3498db\", \"orange\"])\n",
    "\n",
    "import matplotlib.pyplot as plt\n",
    "import plotly.express as px\n",
    "import plotly.io as pio\n",
    "\n",
    "\n",
    "# Scikit-learn related imports\n",
    "import numpy as np\n",
    "import pandas as pd\n",
    "\n",
    "pd.set_option(\"display.float_format\", \"{:.2f}\".format)\n",
    "pd.set_option(\"display.max_colwidth\", None)\n",
    "pd.options.mode.copy_on_write = True\n",
    "\n",
    "from sklearn.model_selection import train_test_split, cross_validate, RandomizedSearchCV\n",
    "from sklearn.metrics import accuracy_score\n",
    "from scipy.stats import randint, ttest_ind\n",
    "from sklearn.linear_model import LogisticRegression\n",
    "\n",
    "# Jupyter-related\n",
    "from IPython.display import display, HTML, Markdown\n",
    "\n",
    "\n",
    "# Constants for this project\n",
    "import constants\n",
    "from constants import *\n",
    "\n",
    "import auxFunctions as af\n",
    "\n",
    "import importlib\n",
    "\n"
   ]
  },
  {
   "cell_type": "code",
   "execution_count": null,
   "id": "991ef333",
   "metadata": {
    "papermill": {},
    "tags": []
   },
   "outputs": [],
   "source": [
    "# Change the current working directory\n",
    "os.chdir(\"/home/yonatan/Documents/projects/vaccines/code\")\n",
    "\n",
    "importlib.reload(af)\n",
    "importlib.reload(constants)"
   ]
  },
  {
   "cell_type": "code",
   "execution_count": null,
   "id": "7a624932",
   "metadata": {
    "papermill": {},
    "tags": [
     "parameters"
    ]
   },
   "outputs": [],
   "source": [
    "# These parameters are overridden by papermill\n",
    "strain_index = 2\n",
    "dataset_name = \"GSE48023.SDY1276\"\n",
    "day = \"nAb.D14\"\n",
    "dayMFC = \"HAI.MFC\""
   ]
  },
  {
   "cell_type": "code",
   "execution_count": null,
   "id": "f0aefd07",
   "metadata": {
    "tags": [
     "injected-parameters"
    ]
   },
   "outputs": [],
   "source": [
    "# Parameters\n",
    "bAdjustMFC = False\n",
    "dataset_name = \"GSE52245.SDY1260\"\n",
    "strain_index = 5\n",
    "day = \"D30\"\n"
   ]
  },
  {
   "cell_type": "code",
   "execution_count": null,
   "id": "49e1f49c",
   "metadata": {
    "papermill": {},
    "tags": []
   },
   "outputs": [],
   "source": [
    "datasets, metadata = af.load_data()\n",
    "\n",
    "# Narrow to a specific datset\n",
    "# Filter data\n",
    "name_mask = datasets[dataset_col] == dataset_name\n",
    "dataset = datasets.loc[name_mask].reset_index(drop=True)\n",
    "strains = af.get_strains(dataset, day)\n",
    "\n",
    "P = {\n",
    "    \"bAdjustMFC\": bAdjustMFC,\n",
    "    \"dataset_name\": dataset_name,\n",
    "    \"strain_index\": strain_index,\n",
    "    \"day\":  day,\n",
    "    \"strain\": strains[strain_index],\n",
    "    \"strains\": strains,\n",
    "    \"bPlotOnly\": False,\n",
    "    \"bPlotThreshold\": True,\n",
    "}\n",
    "\n",
    "text = f\"Analysis for dataset: {dataset_name}, strain: {strains[strain_index]}, day: {day}, using adjFC: {bAdjustMFC}\"\n",
    "text = f\"<div style='font-size:20px;font-weight:bold;'>{text}</div>\"\n",
    "\n",
    "display(HTML(text))\n",
    "res = af.run_single_dataset(datasets, metadata, P)\n",
    "# res = af.analyze_dataset(dataset, P)\n",
    "\n",
    "display(res)"
   ]
  }
 ],
 "metadata": {
  "kernelspec": {
   "display_name": "vaccines",
   "language": "python",
   "name": "python3"
  },
  "language_info": {
   "codemirror_mode": {
    "name": "ipython",
    "version": 3
   },
   "file_extension": ".py",
   "mimetype": "text/x-python",
   "name": "python",
   "nbconvert_exporter": "python",
   "pygments_lexer": "ipython3",
   "version": "3.8.18"
  },
  "papermill": {
   "default_parameters": {},
   "environment_variables": {},
   "input_path": "vaccines-4-for-papermill.ipynb",
   "output_path": "export/GSE52245.SDY1260_IgG_serotype_C_D30_discard_seroprotected.ipynb",
   "parameters": {
    "bAdjustMFC": false,
    "dataset_name": "GSE52245.SDY1260",
    "day": "D30",
    "strain_index": 5
   },
   "version": "2.5.0"
  }
 },
 "nbformat": 4,
 "nbformat_minor": 5
}