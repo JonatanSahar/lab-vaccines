{
 "cells": [
  {
   "cell_type": "code",
   "execution_count": null,
   "id": "b9f45773",
   "metadata": {},
   "outputs": [],
   "source": [
    "from jupyter_client import find_connection_file\n",
    "connection_file = find_connection_file()\n",
    "print(connection_file)"
   ]
  },
  {
   "cell_type": "code",
   "execution_count": null,
   "id": "ac1ef052",
   "metadata": {},
   "outputs": [],
   "source": [
    "# Constants for this project\n",
    "import constants\n",
    "from constants import *\n",
    "\n",
    "import auxFunctions as af\n",
    "\n",
    "import importlib\n",
    "\n",
    "import os\n",
    "import numpy as np\n",
    "import pandas as pd\n",
    "\n",
    "import papermill as pm\n",
    "import shutil\n",
    "shutil.copy('constants.py', 'export/')\n",
    "shutil.copy('auxFunctions.py', 'export/')\n",
    "\n",
    "# Change the current working directory\n",
    "os.chdir(\"/home/yonatan/Documents/projects/vaccines/code\")"
   ]
  },
  {
   "cell_type": "code",
   "execution_count": null,
   "id": "318b62b1",
   "metadata": {},
   "outputs": [],
   "source": [
    "print(dataset_day_dicts_for_adjFC)"
   ]
  },
  {
   "cell_type": "code",
   "execution_count": null,
   "id": "0e2ca32f",
   "metadata": {},
   "outputs": [],
   "source": [
    "importlib.reload(af)\n",
    "\n",
    "datasets, metadata = af.load_data()\n",
    "age_str = f\", subjects over the age of {age_threshlod}\" if bOlderOnly else \"\"\n",
    "print(f\"\"\"Analysis parameters: discarding serprotected subjects: {bDiscardSeroprotected}{age_str}\"\"\")\n",
    "\n",
    "# Turn on debug here for running a single dataset through analyze_dataset()\n",
    "bDebug = False\n",
    "if bDebug:\n",
    "    results = af.debug_single_dataset(datasets, metadata)\n",
    "else:\n",
    "    results = af.analyze_all_datasets(datasets, metadata)"
   ]
  },
  {
   "cell_type": "code",
   "execution_count": null,
   "id": "ebf7cd3f",
   "metadata": {},
   "outputs": [],
   "source": [
    "results"
   ]
  },
  {
   "cell_type": "code",
   "execution_count": null,
   "id": "66f06ce1",
   "metadata": {},
   "outputs": [],
   "source": [
    "# Get all the analyses that look somewhat promising based on the composite (F1 and over-threshold rate) metric\n",
    "cols_to_access = [\n",
    "    dataset_col,\n",
    "    strain_col,\n",
    "    strain_index_col,\n",
    "    day_col,\n",
    "    \"max_difference\"\n",
    "]\n",
    "\n",
    "# Dynamically add all sub-columns for 'Composite'\n",
    "composite_columns = [col for col in results.columns if col[0] == 'Composite']\n",
    "cols_to_access.extend(composite_columns)\n",
    "results[\"max_difference\"] = results.apply(lambda row: max(row[\"Composite\", \"IMMAGE\"] - row[\"Composite\", \"Age\"], row[\"Composite\", \"Multivariate\"] - row[\"Composite\", \"Age\"]), axis=1)\n",
    "results = results.sort_values(by=\"max_difference\", ascending=False)\n",
    "# results = results.loc[results[\"max_difference\"] > 0.1]"
   ]
  },
  {
   "cell_type": "code",
   "execution_count": null,
   "id": "eb95bbc6",
   "metadata": {},
   "outputs": [],
   "source": [
    "import seaborn as sns\n",
    "import matplotlib.pyplot as plt\n",
    "\n",
    "importlib.reload(af)\n",
    "\n",
    "# sorted_data = results.sort_values(\"max_difference\", ignore_index=True).reset_index()\n",
    "# sns.scatterplot(data=sorted_data, x=\"index\", y=\"max_difference\")\n",
    "sorted_data = results.loc[results[\"max_difference\"] > 0.1].sort_values(dataset_col, ignore_index=True).reset_index()\n",
    "sns.scatterplot(data=sorted_data, x=dataset_col, y=\"max_difference\")\n",
    "plt.xticks(rotation=45)  # Adjust the rotation angle as needed\n",
    "plt.title(f\"max(immage - age, immage & age - age)\")\n",
    "af.save_and_show_plot(\"figures/all-datasets-max-dif.png\")"
   ]
  },
  {
   "cell_type": "code",
   "execution_count": null,
   "id": "afb079cd",
   "metadata": {
    "lines_to_next_cell": 0
   },
   "outputs": [],
   "source": [
    "score_mask = (results[\"Composite\", \"IMMAGE\"] >  results[\"Composite\", \"Age\"]) | (results[\"Composite\", \"Multivariate\"] >  results[\"Composite\", \"Age\"])\n",
    "results = results.loc[score_mask]"
   ]
  },
  {
   "cell_type": "code",
   "execution_count": null,
   "id": "cb3e3a6c",
   "metadata": {},
   "outputs": [],
   "source": [
    "results"
   ]
  },
  {
   "cell_type": "code",
   "execution_count": null,
   "id": "c6f7cf28",
   "metadata": {},
   "outputs": [],
   "source": [
    "# Generate figures as html for promising datasets\n",
    "for index, row in results.iterrows():\n",
    "    parameters = {\n",
    "        \"bAdjustMFC\" : row[\"bAdjustMFC\"],\n",
    "        \"dataset_name\": row[dataset_col],\n",
    "        \"strain_index\": row[strain_index_col],\n",
    "        \"day\": row[day_col]\n",
    "    }\n",
    "    adjFC_str = f\"_adjFC\" if row[\"bAdjustMFC\"] else \"\"\n",
    "    print(f'exporting {row[dataset_col]}, strain no. {row[strain_index_col]}: {row[strain_col]}, day: {row[day_col]}')\n",
    "    output_notebook_name = f\"{row[dataset_col]}_{row[strain_col]}_{row[day_col]}{seroprotected_str}{age_restrict_str}{adjFC_str}\"\n",
    "    output_notebook = f\"export/{output_notebook_name}.ipynb\"\n",
    "    try:\n",
    "            pm.execute_notebook(\n",
    "                    input_path=\"vaccines-4.ipynb\",\n",
    "                    output_path=output_notebook,\n",
    "                    parameters=parameters,\n",
    "                    prepare_only=True\n",
    "            )\n",
    "    except Exception as e:\n",
    "            print (f\"******\\nCaught exception when runnnig {output_notebook}\\n******\\n\")\n",
    "            raise(e)\n",
    "    # Export the executed notebook to HTML\n",
    "    output_html = f\"{output_notebook_name}.html\"\n",
    "    os.system(f\"jupyter nbconvert --execute --no-input --to html {output_notebook} --output {output_html}\")"
   ]
  },
  {
   "cell_type": "code",
   "execution_count": null,
   "id": "9e94c139",
   "metadata": {
    "lines_to_next_cell": 2
   },
   "outputs": [],
   "source": [
    "# Save promising results to a spreadsheet\n",
    "def generate_html_path(row):\n",
    "    output_html = f\"{row[dataset_col]}_{row[strain_col]}_{row[day_col]}{seroprotected_str}{age_restrict_str}.html\"\n",
    "    output_html = os.path.join(af.get_dir_by_name('code'), \"export\", output_html)    \n",
    "    output_html = '=HYPERLINK(\"file://' + output_html + '\", \"Link\")'\n",
    "    return output_html\n",
    "\n",
    "results = results[cols_to_access] \n",
    "results['html_path'] = results.apply(generate_html_path, axis=1)\n",
    "results.to_csv(f\"export/results_{seroprotected_str}{age_restrict_str}{adjFC_str}.csv\", index=False, float_format='%.2f')"
   ]
  },
  {
   "cell_type": "code",
   "execution_count": null,
   "id": "0b0716dd",
   "metadata": {},
   "outputs": [],
   "source": [
    "results"
   ]
  }
 ],
 "metadata": {
  "kernelspec": {
   "display_name": "vaccines",
   "language": "python",
   "name": "python3"
  }
 },
 "nbformat": 4,
 "nbformat_minor": 5
}