{
 "cells": [
  {
   "cell_type": "code",
   "execution_count": null,
   "id": "248be731",
   "metadata": {
    "editable": true,
    "slideshow": {
     "slide_type": ""
    }
   },
   "outputs": [],
   "source": [
    "print(connection_file)\n",
    "from jupyter_client import find_connection_file\n",
    "connection_file = find_connection_file()\n",
    "print(connection_file)\n",
    "print(connection_file)"
   ]
  },
  {
   "cell_type": "code",
   "execution_count": null,
   "id": "391c25f5",
   "metadata": {
    "editable": true,
    "lines_to_next_cell": 2,
    "slideshow": {
     "slide_type": ""
    }
   },
   "outputs": [],
   "source": [
    "import pyarrow\n",
    "import pandas as pd\n",
    "import sklearn\n",
    "\n",
    "import seaborn as sns\n",
    "import matplotlib.pyplot as plt\n",
    "\n",
    "import plotly.express as px\n",
    "import plotly.io as pio\n",
    "pio.renderers.default='notebook'\n",
    "\n",
    "from bokeh.plotting import figure, show, output_notebook\n",
    "from bokeh.models import ColumnDataSource"
   ]
  },
  {
   "cell_type": "code",
   "execution_count": null,
   "id": "6616b57b",
   "metadata": {},
   "outputs": [],
   "source": [
    "df = pd.read_csv(\"../data/GSE169159_covid2.csv\")"
   ]
  },
  {
   "cell_type": "code",
   "execution_count": null,
   "id": "093fc2f1",
   "metadata": {},
   "outputs": [],
   "source": [
    "df"
   ]
  },
  {
   "cell_type": "code",
   "execution_count": null,
   "id": "3c547176",
   "metadata": {},
   "outputs": [],
   "source": [
    "# Keep only the data of the sample time (post vaccine days) we want.\n",
    "# Todo: decide on the correct day per vaccince type\n",
    "day_col = \"Day\"\n",
    "sample_day = \"FC.D21\"\n",
    "df = df.loc[df[day_col] == sample_day]\n",
    "day_col"
   ]
  },
  {
   "cell_type": "code",
   "execution_count": null,
   "id": "c048d849",
   "metadata": {},
   "outputs": [],
   "source": [
    "# Need to find out what's considered a \"high\" (=protective?) response.  \n",
    "# For the meantime, take the average response as the threshold\n",
    "response_col = \"Response\"\n",
    "responses = df[[response_col]]\n",
    "mean_response = responses.mean()\n",
    "print(f'mean_response: {mean_response}')"
   ]
  },
  {
   "cell_type": "code",
   "execution_count": null,
   "id": "eb438422",
   "metadata": {},
   "outputs": [],
   "source": [
    "feature_col = \"IMMAGE\"\n",
    "# Note the double [[]], which keeps X as a DF and not a series - sklearn expects a 2D array-like structure which a 1-feature DF supplies\n",
    "X = df[[feature_col]]\n",
    "\n",
    "# Get a boolean map of sub and above threshold values\n",
    "high_response_thr = mean_response\n",
    "y = df[[response_col]] > high_response_thr\n",
    "# Convert boolean Series to 0s and 1s and rename column\n",
    "y = y.astype(int).rename(columns={'Response': 'Labels'})\n",
    "\n"
   ]
  },
  {
   "cell_type": "markdown",
   "id": "7e1de95c",
   "metadata": {},
   "source": [
    "#### Looking at the distribution of response values"
   ]
  },
  {
   "cell_type": "code",
   "execution_count": null,
   "id": "033b15a3",
   "metadata": {
    "editable": true,
    "slideshow": {
     "slide_type": ""
    }
   },
   "outputs": [],
   "source": [
    "sns.histplot(responses, bins=50)\n",
    "plt.show()"
   ]
  },
  {
   "cell_type": "code",
   "execution_count": null,
   "id": "dfa2f6a9",
   "metadata": {},
   "outputs": [],
   "source": [
    "\n",
    "data = pd.concat([X, responses, y], axis=1)\n",
    "data"
   ]
  },
  {
   "cell_type": "code",
   "execution_count": null,
   "id": "a150ed6c",
   "metadata": {},
   "outputs": [],
   "source": [
    "sns.scatterplot(data=data, x=\"IMMAGE\", y=\"Response\", hue=\"Labels\", palette='Set1')\n",
    "plt.show(block=False)"
   ]
  },
  {
   "cell_type": "code",
   "execution_count": null,
   "id": "3a70b587",
   "metadata": {},
   "outputs": [],
   "source": [
    "sns.stripplot(data=data, x='IMMAGE', y=['']*len(df), hue='Labels', jitter=False, dodge=True, palette='Set1')\n",
    "plt.show(block=False)"
   ]
  },
  {
   "cell_type": "code",
   "execution_count": null,
   "id": "41ef6ac6",
   "metadata": {},
   "outputs": [],
   "source": [
    "px.scatter(data_frame=data, x='IMMAGE', y='Response')"
   ]
  },
  {
   "cell_type": "markdown",
   "id": "dc36debb",
   "metadata": {},
   "source": [
    "So we see that the assumption that response is linear with IMMAGE doesn't hold... "
   ]
  },
  {
   "cell_type": "code",
   "execution_count": null,
   "id": "909af34e",
   "metadata": {
    "editable": true,
    "lines_to_next_cell": 2,
    "slideshow": {
     "slide_type": ""
    }
   },
   "outputs": [],
   "source": [
    "# Scikit-learn related imports\n",
    "from sklearn.ensemble import RandomForestClassifier\n",
    "from sklearn.tree import DecisionTreeClassifier, plot_tree\n",
    "from sklearn.model_selection import train_test_split, cross_validate, RandomizedSearchCV\n",
    "from sklearn.metrics import accuracy_score\n",
    "from scipy.stats import randint\n",
    "from sklearn.svm import SVC\n",
    "from sklearn.linear_model import LogisticRegression\n",
    "\n",
    "from mlxtend.plotting import plot_decision_regions\n",
    "\n",
    "\n",
    "# Training and prediction \n",
    "svm = SVC()\n",
    "svm_poly = SVC(kernel='poly')"
   ]
  },
  {
   "cell_type": "markdown",
   "id": "8090e6a9",
   "metadata": {},
   "source": [
    "### Testing out some basic predictions"
   ]
  },
  {
   "cell_type": "markdown",
   "id": "1cc36e7c",
   "metadata": {},
   "source": [
    "#### logistic regression"
   ]
  },
  {
   "cell_type": "code",
   "execution_count": null,
   "id": "3589f26b",
   "metadata": {},
   "outputs": [],
   "source": [
    "labels = y[\"Labels\"]\n",
    "\n",
    "log_regress = LogisticRegression()\n",
    "regression_result = cross_validate(log_regress, X, labels)\n",
    "regression_result['test_score']\n",
    "\n"
   ]
  },
  {
   "cell_type": "code",
   "execution_count": null,
   "id": "c9b1ed79",
   "metadata": {
    "lines_to_next_cell": 2
   },
   "outputs": [],
   "source": [
    "# Split the data into training and testing sets\n",
    "X_train, X_test, labels_train, labels_test = train_test_split(X, labels, test_size=0.2, random_state=42)\n",
    "\n",
    "log_regress.fit(X_train, labels_train)\n",
    "log_regress.score(X_test, labels_test)"
   ]
  },
  {
   "cell_type": "markdown",
   "id": "4aae65f1",
   "metadata": {},
   "source": [
    "#### Cross validation (SVM, linear)"
   ]
  },
  {
   "cell_type": "code",
   "execution_count": null,
   "id": "6f07b76a",
   "metadata": {},
   "outputs": [],
   "source": [
    "svm_result = cross_validate(svm, X, y)\n",
    "svm.fit(X, y)"
   ]
  },
  {
   "cell_type": "code",
   "execution_count": null,
   "id": "9a469222",
   "metadata": {
    "editable": true,
    "slideshow": {
     "slide_type": ""
    }
   },
   "outputs": [],
   "source": [
    "svm_result['test_score']\n",
    "svm_linear_score = svm_result['test_score'].mean()"
   ]
  },
  {
   "cell_type": "markdown",
   "id": "59182f5a",
   "metadata": {},
   "source": [
    "#### Cross validation (SVM, polynomial up to 3rd degree)"
   ]
  },
  {
   "cell_type": "code",
   "execution_count": null,
   "id": "e7d672a4",
   "metadata": {},
   "outputs": [],
   "source": [
    "svm_poly_result = cross_validate(svm_poly, X, y)\n",
    "svm_poly_score = svm_poly_result['test_score'].mean()"
   ]
  },
  {
   "cell_type": "code",
   "execution_count": null,
   "id": "c19e933b",
   "metadata": {},
   "outputs": [],
   "source": [
    "print(f\"All fold scores:{svm_poly_result['test_score']}\")\n",
    "print(f\"Mean score: {svm_poly_result['test_score'].mean()}\")"
   ]
  },
  {
   "cell_type": "markdown",
   "id": "402b8d82",
   "metadata": {},
   "source": [
    "#### CV with hyperparameter tuning  (Decision forest)"
   ]
  },
  {
   "cell_type": "code",
   "execution_count": null,
   "id": "006a1461",
   "metadata": {
    "lines_to_next_cell": 2
   },
   "outputs": [],
   "source": [
    "# define the parameter space that will be searched over\n",
    "param_distributions = {'max_depth': randint(5, 10)}\n",
    "tree_search = RandomizedSearchCV(estimator=DecisionTreeClassifier(random_state=0),\n",
    "                             n_iter=10,\n",
    "                             param_distributions=param_distributions,\n",
    "                             random_state=0)\n",
    "tree_search.fit(X_train, y_train)"
   ]
  },
  {
   "cell_type": "code",
   "execution_count": null,
   "id": "22c34dd5",
   "metadata": {},
   "outputs": [],
   "source": [
    "tree_score = tree_search.score(X_test, y_test)"
   ]
  },
  {
   "cell_type": "code",
   "execution_count": null,
   "id": "782b4a16",
   "metadata": {
    "lines_to_next_cell": 2
   },
   "outputs": [],
   "source": [
    "# define the parameter space that will be searched over\n",
    "param_distributions = {'n_estimators': randint(1, 5),\n",
    "                        'max_depth': randint(5, 10)}\n",
    "forest_search = RandomizedSearchCV(estimator=RandomForestClassifier(random_state=0),\n",
    "                             n_iter=10,\n",
    "                             param_distributions=param_distributions,\n",
    "                             random_state=0)\n",
    "forest_search.fit(X_train, y_train)"
   ]
  },
  {
   "cell_type": "code",
   "execution_count": null,
   "id": "f4a7a737",
   "metadata": {},
   "outputs": [],
   "source": [
    "forest_score = forestSearch.score(X_test, y_test)"
   ]
  },
  {
   "cell_type": "code",
   "execution_count": null,
   "id": "05fdc0f7",
   "metadata": {},
   "outputs": [],
   "source": [
    "## so far we have:\n",
    "\n",
    "print(f\"Linear SVM score: {svm_linear_score:.2}\")\n",
    "print(f\"Polynomial SVM score: {svm_poly_score:.2}\")\n",
    "print(f\"forest score: {forest_score}\")"
   ]
  },
  {
   "cell_type": "markdown",
   "id": "e5b72dcd",
   "metadata": {},
   "source": [
    "### Looking at decision boundaries/threshold"
   ]
  },
  {
   "cell_type": "code",
   "execution_count": null,
   "id": "bd8ef543",
   "metadata": {},
   "outputs": [],
   "source": [
    "beta_0 = log_regress.intercept_[0]\n",
    "beta_1 = log_regress.coef_[0][0]\n",
    "\n",
    "# Calculate the cutoff value\n",
    "cutoff = -beta_0 / beta_1\n",
    "\n",
    "print(f\"The cutoff value for the feature is: {cutoff}\")"
   ]
  },
  {
   "cell_type": "code",
   "execution_count": null,
   "id": "e1ea70c7",
   "metadata": {},
   "outputs": [],
   "source": [
    "beta_1"
   ]
  },
  {
   "cell_type": "code",
   "execution_count": null,
   "id": "96a6756d",
   "metadata": {},
   "outputs": [],
   "source": [
    "best_tree = tree_search.best_estimator_\n",
    "plot_tree(best_tree)"
   ]
  },
  {
   "cell_type": "code",
   "execution_count": null,
   "id": "b666347e",
   "metadata": {},
   "outputs": [],
   "source": [
    "y_test"
   ]
  },
  {
   "cell_type": "code",
   "execution_count": null,
   "id": "8c3eec2c",
   "metadata": {
    "lines_to_next_cell": 2
   },
   "outputs": [],
   "source": [
    "plot_decision_regions(X.to_numpy(), y.to_numpy(), clf=svm, legend=2)\n",
    "\n",
    "# Adding axes annotations\n",
    "plt.xlabel('IMMAGE score')\n",
    "plt.title('SVM classification')\n",
    "\n",
    "plt.show()"
   ]
  },
  {
   "cell_type": "code",
   "execution_count": null,
   "id": "df6bcb13",
   "metadata": {},
   "outputs": [],
   "source": [
    "sns"
   ]
  }
 ],
 "metadata": {
  "kernelspec": {
   "display_name": "Python 3 (ipykernel)",
   "language": "python",
   "name": "python3"
  }
 },
 "nbformat": 4,
 "nbformat_minor": 5
}