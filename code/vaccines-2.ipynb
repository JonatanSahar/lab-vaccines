{
 "cells": [
  {
   "cell_type": "code",
   "execution_count": 316,
   "id": "ff4ef3a1",
   "metadata": {
    "lines_to_next_cell": 2
   },
   "outputs": [
    {
     "name": "stdout",
     "output_type": "stream",
     "text": [
      "/home/yonatan/.local/share/jupyter/runtime/kernel-v2-6096873X6bt0PYiF9.json\n"
     ]
    }
   ],
   "source": [
    "from jupyter_client import find_connection_file\n",
    "connection_file = find_connection_file()\n",
    "print(connection_file)"
   ]
  },
  {
   "cell_type": "code",
   "execution_count": 317,
   "id": "2fb9002c",
   "metadata": {
    "editable": true,
    "slideshow": {
     "slide_type": ""
    }
   },
   "outputs": [],
   "source": [
    "#Plotting related\n",
    "import seaborn as sns\n",
    "import matplotlib.pyplot as plt\n",
    "import plotly.express as px\n",
    "import plotly.io as pio\n",
    "pio.renderers.default='notebook'\n",
    "\n",
    "# Scikit-learn related imports\n",
    "import pyarrow\n",
    "import pandas as pd\n",
    "pd.options.mode.copy_on_write = True\n",
    "import numpy as np\n",
    "\n",
    "from sklearn.ensemble import RandomForestClassifier\n",
    "from sklearn.tree import DecisionTreeClassifier, plot_tree\n",
    "from sklearn.model_selection import train_test_split, cross_validate, RandomizedSearchCV\n",
    "from sklearn.metrics import accuracy_score\n",
    "from scipy.stats import randint, ttest_ind\n",
    "from sklearn.svm import SVC\n",
    "from sklearn.linear_model import LogisticRegression\n",
    "from mlxtend.plotting import plot_decision_regions"
   ]
  },
  {
   "cell_type": "code",
   "execution_count": 318,
   "id": "3829fd36",
   "metadata": {
    "lines_to_next_cell": 0
   },
   "outputs": [
    {
     "data": {
      "text/html": [
       "<div>\n",
       "<style scoped>\n",
       "    .dataframe tbody tr th:only-of-type {\n",
       "        vertical-align: middle;\n",
       "    }\n",
       "\n",
       "    .dataframe tbody tr th {\n",
       "        vertical-align: top;\n",
       "    }\n",
       "\n",
       "    .dataframe thead th {\n",
       "        text-align: right;\n",
       "    }\n",
       "</style>\n",
       "<table border=\"1\" class=\"dataframe\">\n",
       "  <thead>\n",
       "    <tr style=\"text-align: right;\">\n",
       "      <th></th>\n",
       "      <th>Dataset</th>\n",
       "      <th>uid</th>\n",
       "      <th>geo_accession</th>\n",
       "      <th>biosample_accession</th>\n",
       "      <th>Donor</th>\n",
       "      <th>Age</th>\n",
       "      <th>IMMAGE</th>\n",
       "      <th>Gender</th>\n",
       "      <th>Virus</th>\n",
       "      <th>Vaccine</th>\n",
       "      <th>Strain</th>\n",
       "      <th>Day</th>\n",
       "      <th>Response</th>\n",
       "      <th>Cohort</th>\n",
       "    </tr>\n",
       "  </thead>\n",
       "  <tbody>\n",
       "    <tr>\n",
       "      <th>0</th>\n",
       "      <td>GSE125921.SDY1529</td>\n",
       "      <td>SUB205386.1529</td>\n",
       "      <td>GSM3584988</td>\n",
       "      <td>NaN</td>\n",
       "      <td>YF00104002</td>\n",
       "      <td>27.0</td>\n",
       "      <td>0.193329</td>\n",
       "      <td>Male</td>\n",
       "      <td>Yellow Fever</td>\n",
       "      <td>YF-17D</td>\n",
       "      <td>Yellow Fever</td>\n",
       "      <td>D0</td>\n",
       "      <td>80.0</td>\n",
       "      <td>healthy aldults</td>\n",
       "    </tr>\n",
       "    <tr>\n",
       "      <th>1</th>\n",
       "      <td>GSE125921.SDY1529</td>\n",
       "      <td>SUB205386.1529</td>\n",
       "      <td>GSM3584988</td>\n",
       "      <td>NaN</td>\n",
       "      <td>YF00104002</td>\n",
       "      <td>27.0</td>\n",
       "      <td>0.193329</td>\n",
       "      <td>Male</td>\n",
       "      <td>Yellow Fever</td>\n",
       "      <td>YF-17D</td>\n",
       "      <td>Yellow Fever</td>\n",
       "      <td>FC</td>\n",
       "      <td>32.0</td>\n",
       "      <td>healthy aldults</td>\n",
       "    </tr>\n",
       "    <tr>\n",
       "      <th>2</th>\n",
       "      <td>GSE125921.SDY1529</td>\n",
       "      <td>SUB205386.1529</td>\n",
       "      <td>GSM3584988</td>\n",
       "      <td>NaN</td>\n",
       "      <td>YF00104002</td>\n",
       "      <td>27.0</td>\n",
       "      <td>0.193329</td>\n",
       "      <td>Male</td>\n",
       "      <td>Yellow Fever</td>\n",
       "      <td>YF-17D</td>\n",
       "      <td>Yellow Fever</td>\n",
       "      <td>D84</td>\n",
       "      <td>2560.0</td>\n",
       "      <td>healthy aldults</td>\n",
       "    </tr>\n",
       "    <tr>\n",
       "      <th>3</th>\n",
       "      <td>GSE125921.SDY1529</td>\n",
       "      <td>SUB205387.1529</td>\n",
       "      <td>GSM3584991</td>\n",
       "      <td>NaN</td>\n",
       "      <td>YF00104005</td>\n",
       "      <td>21.0</td>\n",
       "      <td>0.198895</td>\n",
       "      <td>Male</td>\n",
       "      <td>Yellow Fever</td>\n",
       "      <td>YF-17D</td>\n",
       "      <td>Yellow Fever</td>\n",
       "      <td>D0</td>\n",
       "      <td>80.0</td>\n",
       "      <td>healthy aldults</td>\n",
       "    </tr>\n",
       "    <tr>\n",
       "      <th>4</th>\n",
       "      <td>GSE125921.SDY1529</td>\n",
       "      <td>SUB205387.1529</td>\n",
       "      <td>GSM3584991</td>\n",
       "      <td>NaN</td>\n",
       "      <td>YF00104005</td>\n",
       "      <td>21.0</td>\n",
       "      <td>0.198895</td>\n",
       "      <td>Male</td>\n",
       "      <td>Yellow Fever</td>\n",
       "      <td>YF-17D</td>\n",
       "      <td>Yellow Fever</td>\n",
       "      <td>D84</td>\n",
       "      <td>1280.0</td>\n",
       "      <td>healthy aldults</td>\n",
       "    </tr>\n",
       "  </tbody>\n",
       "</table>\n",
       "</div>"
      ],
      "text/plain": [
       "             Dataset             uid geo_accession biosample_accession  \\\n",
       "0  GSE125921.SDY1529  SUB205386.1529    GSM3584988                 NaN   \n",
       "1  GSE125921.SDY1529  SUB205386.1529    GSM3584988                 NaN   \n",
       "2  GSE125921.SDY1529  SUB205386.1529    GSM3584988                 NaN   \n",
       "3  GSE125921.SDY1529  SUB205387.1529    GSM3584991                 NaN   \n",
       "4  GSE125921.SDY1529  SUB205387.1529    GSM3584991                 NaN   \n",
       "\n",
       "        Donor   Age    IMMAGE Gender         Virus Vaccine        Strain  Day  \\\n",
       "0  YF00104002  27.0  0.193329   Male  Yellow Fever  YF-17D  Yellow Fever   D0   \n",
       "1  YF00104002  27.0  0.193329   Male  Yellow Fever  YF-17D  Yellow Fever   FC   \n",
       "2  YF00104002  27.0  0.193329   Male  Yellow Fever  YF-17D  Yellow Fever  D84   \n",
       "3  YF00104005  21.0  0.198895   Male  Yellow Fever  YF-17D  Yellow Fever   D0   \n",
       "4  YF00104005  21.0  0.198895   Male  Yellow Fever  YF-17D  Yellow Fever  D84   \n",
       "\n",
       "   Response           Cohort  \n",
       "0      80.0  healthy aldults  \n",
       "1      32.0  healthy aldults  \n",
       "2    2560.0  healthy aldults  \n",
       "3      80.0  healthy aldults  \n",
       "4    1280.0  healthy aldults  "
      ]
     },
     "execution_count": 318,
     "metadata": {},
     "output_type": "execute_result"
    }
   ],
   "source": [
    "df = pd.read_csv(\"../data/all_vaccines.csv\")\n",
    "df.head()"
   ]
  },
  {
   "cell_type": "code",
   "execution_count": 319,
   "id": "8c386c04",
   "metadata": {
    "lines_to_next_cell": 2
   },
   "outputs": [],
   "source": [
    "dataset_col = \"Dataset\"\n",
    "uid_col = \"uid\"\n",
    "age_col = \"Age\"\n",
    "day_col = \"Day\"\n",
    "response_col = \"Response\"\n",
    "immage_col = \"IMMAGE\"\n",
    "strain_col = 'Strain'\n",
    "\n",
    "current_dataset_num = 3"
   ]
  },
  {
   "cell_type": "code",
   "execution_count": 320,
   "id": "c55e4310",
   "metadata": {},
   "outputs": [
    {
     "data": {
      "text/html": [
       "<div>\n",
       "<style scoped>\n",
       "    .dataframe tbody tr th:only-of-type {\n",
       "        vertical-align: middle;\n",
       "    }\n",
       "\n",
       "    .dataframe tbody tr th {\n",
       "        vertical-align: top;\n",
       "    }\n",
       "\n",
       "    .dataframe thead th {\n",
       "        text-align: right;\n",
       "    }\n",
       "</style>\n",
       "<table border=\"1\" class=\"dataframe\">\n",
       "  <thead>\n",
       "    <tr style=\"text-align: right;\">\n",
       "      <th></th>\n",
       "      <th>Dataset</th>\n",
       "      <th>uid</th>\n",
       "      <th>Day</th>\n",
       "    </tr>\n",
       "  </thead>\n",
       "  <tbody>\n",
       "    <tr>\n",
       "      <th>0</th>\n",
       "      <td>GSE125921.SDY1529</td>\n",
       "      <td>SUB205386.1529</td>\n",
       "      <td>D0</td>\n",
       "    </tr>\n",
       "    <tr>\n",
       "      <th>1</th>\n",
       "      <td>GSE125921.SDY1529</td>\n",
       "      <td>SUB205386.1529</td>\n",
       "      <td>FC</td>\n",
       "    </tr>\n",
       "    <tr>\n",
       "      <th>2</th>\n",
       "      <td>GSE125921.SDY1529</td>\n",
       "      <td>SUB205386.1529</td>\n",
       "      <td>D84</td>\n",
       "    </tr>\n",
       "    <tr>\n",
       "      <th>3</th>\n",
       "      <td>GSE125921.SDY1529</td>\n",
       "      <td>SUB205387.1529</td>\n",
       "      <td>D0</td>\n",
       "    </tr>\n",
       "    <tr>\n",
       "      <th>4</th>\n",
       "      <td>GSE125921.SDY1529</td>\n",
       "      <td>SUB205387.1529</td>\n",
       "      <td>D84</td>\n",
       "    </tr>\n",
       "    <tr>\n",
       "      <th>...</th>\n",
       "      <td>...</td>\n",
       "      <td>...</td>\n",
       "      <td>...</td>\n",
       "    </tr>\n",
       "    <tr>\n",
       "      <th>46494</th>\n",
       "      <td>SDY89</td>\n",
       "      <td>SUB114784.89</td>\n",
       "      <td>D28</td>\n",
       "    </tr>\n",
       "    <tr>\n",
       "      <th>46495</th>\n",
       "      <td>SDY89</td>\n",
       "      <td>SUB114784.89</td>\n",
       "      <td>D56</td>\n",
       "    </tr>\n",
       "    <tr>\n",
       "      <th>46496</th>\n",
       "      <td>SDY89</td>\n",
       "      <td>SUB114786.89</td>\n",
       "      <td>D196</td>\n",
       "    </tr>\n",
       "    <tr>\n",
       "      <th>46497</th>\n",
       "      <td>SDY89</td>\n",
       "      <td>SUB114786.89</td>\n",
       "      <td>D28</td>\n",
       "    </tr>\n",
       "    <tr>\n",
       "      <th>46498</th>\n",
       "      <td>SDY89</td>\n",
       "      <td>SUB114786.89</td>\n",
       "      <td>D56</td>\n",
       "    </tr>\n",
       "  </tbody>\n",
       "</table>\n",
       "<p>46499 rows × 3 columns</p>\n",
       "</div>"
      ],
      "text/plain": [
       "                 Dataset             uid   Day\n",
       "0      GSE125921.SDY1529  SUB205386.1529    D0\n",
       "1      GSE125921.SDY1529  SUB205386.1529    FC\n",
       "2      GSE125921.SDY1529  SUB205386.1529   D84\n",
       "3      GSE125921.SDY1529  SUB205387.1529    D0\n",
       "4      GSE125921.SDY1529  SUB205387.1529   D84\n",
       "...                  ...             ...   ...\n",
       "46494              SDY89    SUB114784.89   D28\n",
       "46495              SDY89    SUB114784.89   D56\n",
       "46496              SDY89    SUB114786.89  D196\n",
       "46497              SDY89    SUB114786.89   D28\n",
       "46498              SDY89    SUB114786.89   D56\n",
       "\n",
       "[46499 rows x 3 columns]"
      ]
     },
     "execution_count": 320,
     "metadata": {},
     "output_type": "execute_result"
    }
   ],
   "source": [
    "df[[dataset_col, uid_col, day_col]]"
   ]
  },
  {
   "cell_type": "code",
   "execution_count": 321,
   "id": "20107764",
   "metadata": {},
   "outputs": [],
   "source": [
    "# drop missing values\n",
    "df.dropna(inplace=True, subset=[immage_col, dataset_col, day_col, response_col])\n",
    "dataset_names = df.Dataset.unique()"
   ]
  },
  {
   "cell_type": "code",
   "execution_count": 324,
   "id": "97cbb238",
   "metadata": {},
   "outputs": [],
   "source": [
    "# Plot distribution of N values\n",
    "\n",
    "N_vals = df[[dataset_col, uid_col]].groupby(dataset_col, as_index=False)[uid_col].nunique()\n",
    "N_vals = N_vals.rename(columns={uid_col: \"N\"})\n",
    "# sns.histplot(N_vals.N)"
   ]
  },
  {
   "cell_type": "code",
   "execution_count": 326,
   "id": "71b0f363",
   "metadata": {
    "lines_to_next_cell": 2
   },
   "outputs": [
    {
     "data": {
      "text/html": [
       "<div>\n",
       "<style scoped>\n",
       "    .dataframe tbody tr th:only-of-type {\n",
       "        vertical-align: middle;\n",
       "    }\n",
       "\n",
       "    .dataframe tbody tr th {\n",
       "        vertical-align: top;\n",
       "    }\n",
       "\n",
       "    .dataframe thead th {\n",
       "        text-align: right;\n",
       "    }\n",
       "</style>\n",
       "<table border=\"1\" class=\"dataframe\">\n",
       "  <thead>\n",
       "    <tr style=\"text-align: right;\">\n",
       "      <th></th>\n",
       "      <th>Dataset</th>\n",
       "      <th>N</th>\n",
       "    </tr>\n",
       "  </thead>\n",
       "  <tbody>\n",
       "    <tr>\n",
       "      <th>6</th>\n",
       "      <td>GSE41080.SDY212</td>\n",
       "      <td>89</td>\n",
       "    </tr>\n",
       "    <tr>\n",
       "      <th>9</th>\n",
       "      <td>GSE48018.SDY1276</td>\n",
       "      <td>115</td>\n",
       "    </tr>\n",
       "    <tr>\n",
       "      <th>10</th>\n",
       "      <td>GSE48023.SDY1276</td>\n",
       "      <td>110</td>\n",
       "    </tr>\n",
       "    <tr>\n",
       "      <th>22</th>\n",
       "      <td>SDY67</td>\n",
       "      <td>159</td>\n",
       "    </tr>\n",
       "  </tbody>\n",
       "</table>\n",
       "</div>"
      ],
      "text/plain": [
       "             Dataset    N\n",
       "6    GSE41080.SDY212   89\n",
       "9   GSE48018.SDY1276  115\n",
       "10  GSE48023.SDY1276  110\n",
       "22             SDY67  159"
      ]
     },
     "execution_count": 326,
     "metadata": {},
     "output_type": "execute_result"
    }
   ],
   "source": [
    "# Narrow N_v to large datasets only\n",
    "\n",
    "N_vals = N_vals.loc[N_vals[\"N\"]> 70]\n",
    "datasets = df.loc[df[\"Dataset\"].isin(N_vals[\"Dataset\"])]\n",
    "dataset_names = datasets[\"Dataset\"].unique()\n",
    "N_vals"
   ]
  },
  {
   "cell_type": "code",
   "execution_count": 327,
   "id": "a9d15d92",
   "metadata": {},
   "outputs": [
    {
     "name": "stdout",
     "output_type": "stream",
     "text": [
      "Dataset: GSE41080.SDY212\n",
      "Days: ['HAI.D0' 'FC.HAI' 'HAI.D28' 'HAI.maxRBA' 'HAI.RBA.Post' 'HAI.MFC.Post'\n",
      " 'HAI.MFC']\n",
      "\n",
      "\n",
      "Dataset: GSE48018.SDY1276\n",
      "Days: ['nAb.D14' 'nAb.D28' 'nAb.D0' 'nAb.FC' 'HAI.D14' 'HAI.D28' 'HAI.D0'\n",
      " 'HAI.FC' 'HAI.MFC' 'HAI.RBA.Post' 'HAI.MFC.Post' 'HAI.maxRBA']\n",
      "\n",
      "\n",
      "Dataset: GSE48023.SDY1276\n",
      "Days: ['nAb.FC' 'nAb.D0' 'nAb.D28' 'nAb.D14' 'HAI.FC' 'HAI.D14' 'HAI.D28'\n",
      " 'HAI.D0']\n",
      "\n",
      "\n",
      "Dataset: SDY67\n",
      "Days: ['HAI.D0' 'HAI.MFC.Post' 'nAb.D0' 'nAb.D28' 'HAI.maxRBA' 'FC.D28.HAI'\n",
      " 'HAI.D28' 'HAI.MFC' 'FC.D75.HAI' 'FC.D75.nAb' 'HAI.D3' 'nAb.D3'\n",
      " 'FC.D28.nAb' 'HAI.D75' 'HAI.RBA.Post' 'nAb.D75']\n",
      "\n",
      "\n"
     ]
    }
   ],
   "source": [
    "# Examine available days per dataset\n",
    "days = datasets[[dataset_col, uid_col, day_col]].groupby(dataset_col, as_index=False)[day_col].unique()\n",
    "t = pd.Series(days.loc[[True, False, False, False], \"Day\"])\n",
    "with pd.option_context('display.max_colwidth', None):\n",
    "   for index, row in days.iterrows():\n",
    "    print(f\"Dataset: {row['Dataset']}\\nDays: {row['Day']}\\n\\n\")\n",
    " \n"
   ]
  },
  {
   "cell_type": "code",
   "execution_count": 375,
   "id": "79718552",
   "metadata": {
    "lines_to_next_cell": 2
   },
   "outputs": [
    {
     "data": {
      "text/plain": [
       "'HAI.D28'"
      ]
     },
     "execution_count": 375,
     "metadata": {},
     "output_type": "execute_result"
    }
   ],
   "source": [
    "# Collect day info from papers here\n",
    "dataset_day_dict = {}\n",
    "\n",
    "dataset_day_dict[\"GSE41080.SDY212\"] = \"HAI.D28\"\n",
    "dataset_day_dict[\"GSE48018.SDY1276\"] = \"nAb.D28\"\n",
    "dataset_day_dict[\"GSE48023.SDY1276\"] = \"nAb.D28\"\n",
    "dataset_day_dict[\"SDY67\"] = \"nAb.D28\"\n",
    "dataset_day_dict[dataset_names[0]]"
   ]
  },
  {
   "cell_type": "code",
   "execution_count": 376,
   "id": "47457a6c",
   "metadata": {},
   "outputs": [
    {
     "data": {
      "text/plain": [
       "'GSE41080.SDY212'"
      ]
     },
     "execution_count": 376,
     "metadata": {},
     "output_type": "execute_result"
    }
   ],
   "source": [
    "# Narrow to a specific dataset and day, then keep only relevant columns\n",
    "dataset_name = dataset_names[0]\n",
    "name_mask = datasets[dataset_col] == dataset_name\n",
    "day_mask = datasets[day_col] == dataset_day_dict[dataset_name]\n",
    "\n",
    "data = datasets.loc[(name_mask) & (day_mask)].reset_index()\n",
    "\n",
    "# Somtimes there are multiple strains - so multiple rows per day\n",
    "strains = data[strain_col].unique()\n",
    "if len(strains) > 1:\n",
    "   data = data.loc[data[strain_col] == strains[0]].reset_index()\n",
    "\n",
    "# Take relevant columns only\n",
    "data = data[[immage_col, response_col, age_col]]\n",
    "\n",
    "dataset_name"
   ]
  },
  {
   "cell_type": "code",
   "execution_count": 377,
   "id": "29a23d95",
   "metadata": {},
   "outputs": [
    {
     "data": {
      "text/html": [
       "<div>\n",
       "<style scoped>\n",
       "    .dataframe tbody tr th:only-of-type {\n",
       "        vertical-align: middle;\n",
       "    }\n",
       "\n",
       "    .dataframe tbody tr th {\n",
       "        vertical-align: top;\n",
       "    }\n",
       "\n",
       "    .dataframe thead th {\n",
       "        text-align: right;\n",
       "    }\n",
       "</style>\n",
       "<table border=\"1\" class=\"dataframe\">\n",
       "  <thead>\n",
       "    <tr style=\"text-align: right;\">\n",
       "      <th></th>\n",
       "      <th>IMMAGE</th>\n",
       "      <th>Response</th>\n",
       "      <th>Age</th>\n",
       "      <th>y</th>\n",
       "      <th>Label text</th>\n",
       "    </tr>\n",
       "  </thead>\n",
       "  <tbody>\n",
       "    <tr>\n",
       "      <th>0</th>\n",
       "      <td>0.237785</td>\n",
       "      <td>160.0</td>\n",
       "      <td>24.07</td>\n",
       "      <td>1</td>\n",
       "      <td>Responders</td>\n",
       "    </tr>\n",
       "    <tr>\n",
       "      <th>1</th>\n",
       "      <td>0.155243</td>\n",
       "      <td>40.0</td>\n",
       "      <td>24.97</td>\n",
       "      <td>0</td>\n",
       "      <td>Non-Responders</td>\n",
       "    </tr>\n",
       "    <tr>\n",
       "      <th>2</th>\n",
       "      <td>0.112590</td>\n",
       "      <td>160.0</td>\n",
       "      <td>84.06</td>\n",
       "      <td>1</td>\n",
       "      <td>Responders</td>\n",
       "    </tr>\n",
       "    <tr>\n",
       "      <th>3</th>\n",
       "      <td>-0.100949</td>\n",
       "      <td>320.0</td>\n",
       "      <td>61.84</td>\n",
       "      <td>1</td>\n",
       "      <td>Responders</td>\n",
       "    </tr>\n",
       "    <tr>\n",
       "      <th>4</th>\n",
       "      <td>-0.226173</td>\n",
       "      <td>320.0</td>\n",
       "      <td>62.86</td>\n",
       "      <td>1</td>\n",
       "      <td>Responders</td>\n",
       "    </tr>\n",
       "    <tr>\n",
       "      <th>...</th>\n",
       "      <td>...</td>\n",
       "      <td>...</td>\n",
       "      <td>...</td>\n",
       "      <td>...</td>\n",
       "      <td>...</td>\n",
       "    </tr>\n",
       "    <tr>\n",
       "      <th>84</th>\n",
       "      <td>-0.128028</td>\n",
       "      <td>160.0</td>\n",
       "      <td>28.11</td>\n",
       "      <td>1</td>\n",
       "      <td>Responders</td>\n",
       "    </tr>\n",
       "    <tr>\n",
       "      <th>85</th>\n",
       "      <td>0.042327</td>\n",
       "      <td>1280.0</td>\n",
       "      <td>23.82</td>\n",
       "      <td>1</td>\n",
       "      <td>Responders</td>\n",
       "    </tr>\n",
       "    <tr>\n",
       "      <th>86</th>\n",
       "      <td>0.052453</td>\n",
       "      <td>320.0</td>\n",
       "      <td>20.68</td>\n",
       "      <td>1</td>\n",
       "      <td>Responders</td>\n",
       "    </tr>\n",
       "    <tr>\n",
       "      <th>87</th>\n",
       "      <td>0.193562</td>\n",
       "      <td>1280.0</td>\n",
       "      <td>84.28</td>\n",
       "      <td>1</td>\n",
       "      <td>Responders</td>\n",
       "    </tr>\n",
       "    <tr>\n",
       "      <th>88</th>\n",
       "      <td>0.178314</td>\n",
       "      <td>20.0</td>\n",
       "      <td>25.39</td>\n",
       "      <td>0</td>\n",
       "      <td>Non-Responders</td>\n",
       "    </tr>\n",
       "  </tbody>\n",
       "</table>\n",
       "<p>89 rows × 5 columns</p>\n",
       "</div>"
      ],
      "text/plain": [
       "      IMMAGE  Response    Age  y      Label text\n",
       "0   0.237785     160.0  24.07  1      Responders\n",
       "1   0.155243      40.0  24.97  0  Non-Responders\n",
       "2   0.112590     160.0  84.06  1      Responders\n",
       "3  -0.100949     320.0  61.84  1      Responders\n",
       "4  -0.226173     320.0  62.86  1      Responders\n",
       "..       ...       ...    ... ..             ...\n",
       "84 -0.128028     160.0  28.11  1      Responders\n",
       "85  0.042327    1280.0  23.82  1      Responders\n",
       "86  0.052453     320.0  20.68  1      Responders\n",
       "87  0.193562    1280.0  84.28  1      Responders\n",
       "88  0.178314      20.0  25.39  0  Non-Responders\n",
       "\n",
       "[89 rows x 5 columns]"
      ]
     },
     "execution_count": 377,
     "metadata": {},
     "output_type": "execute_result"
    }
   ],
   "source": [
    "# Get a boolean map of sub and super threshold values\n",
    "# Note that we define y=1 for all responses >= 30th percentile (and not >)\n",
    "\n",
    "low_response_thr = data[[response_col]].quantile(q=0.3).item()\n",
    "# high_response_thr = responses.quantile(q=0.7).item()  \n",
    "\n",
    "# Generate labels\n",
    "data.loc[data[response_col] < low_response_thr, 'y'] = 0\n",
    "data.loc[data[response_col] >= low_response_thr, 'y'] = 1\n",
    "data.y = data.y.astype(int)\n",
    "\n",
    "# Add a text label for plot legends\n",
    "data['Label text'] = data['y'].apply(lambda x: 'Responders' if x == 1 else 'Non-Responders')\n",
    " \n",
    "data"
   ]
  },
  {
   "cell_type": "code",
   "execution_count": 378,
   "id": "c77ecbed",
   "metadata": {},
   "outputs": [
    {
     "name": "stdout",
     "output_type": "stream",
     "text": [
      "Total N=89\n"
     ]
    }
   ],
   "source": [
    "print(f\"Total N={data.shape[0]}\")"
   ]
  },
  {
   "cell_type": "code",
   "execution_count": 379,
   "id": "4d0d4081",
   "metadata": {},
   "outputs": [
    {
     "data": {
      "text/plain": [
       "'GSE41080.SDY212'"
      ]
     },
     "execution_count": 379,
     "metadata": {},
     "output_type": "execute_result"
    }
   ],
   "source": [
    "# # sanity check for logistic regression - create a seperable dataset\n",
    "\n",
    "# mask =  pd.Series(data['y'] == 1)\n",
    "# counts = mask.value_counts()\n",
    "\n",
    "# data.loc[~mask, immage_col] = np.random.uniform(low=0, high=0.4, size=[counts[False], 1])\n",
    "# data.loc[mask, immage_col] = np.random.uniform(high=1, low=0.6, size=[counts[True], 1])\n",
    "# # data = pd.concat([data, data[data[\"Labels\"] == False].tail(3)], ignore_index=True)\n",
    "dataset_name"
   ]
  },
  {
   "cell_type": "code",
   "execution_count": 380,
   "id": "5272c852",
   "metadata": {},
   "outputs": [
    {
     "data": {
      "image/png": "[encoded data removed]",
      "text/plain": [
       "<Figure size 1800x500 with 3 Axes>"
      ]
     },
     "metadata": {},
     "output_type": "display_data"
    }
   ],
   "source": [
    "# Plot IMMAGE, response, and age values to look at the dynamic range\n",
    "fig, axs = plt.subplots(1, 3, figsize=(18, 5))  # Adjust figsize as needed\n",
    "pd.concat\n",
    "sns.histplot(data=data, x=immage_col, bins=50, ax=axs[0])\n",
    "axs[0].set_title(f' {immage_col}')\n",
    "\n",
    "sns.histplot(data=data, x=response_col, bins=50, ax=axs[1])\n",
    "axs[1].set_title(f' {response_col}')\n",
    "\n",
    "sns.histplot(data=data, x=age_col, bins=50, ax=axs[2])\n",
    "axs[2].set_title(f' {age_col}')\n",
    "\n",
    "fig.suptitle(f'Values Distribution in {dataset_name}')\n",
    "\n",
    "plt.show()"
   ]
  },
  {
   "cell_type": "code",
   "execution_count": 381,
   "id": "b868fddb",
   "metadata": {
    "lines_to_next_cell": 2
   },
   "outputs": [
    {
     "data": {
      "image/png": "[encoded data removed]",
      "text/plain": [
       "<Figure size 640x480 with 1 Axes>"
      ]
     },
     "metadata": {},
     "output_type": "display_data"
    }
   ],
   "source": [
    "# Is there a trend like we expect?\n",
    "# Plot the response value against sorted IMMAGE, with markers signifying labels\n",
    "sorted_data = data.sort_values(by=\"IMMAGE\")\n",
    "sns.scatterplot(data=sorted_data, x=\"IMMAGE\", y=\"Response\", hue=\"Label text\", palette='Set1')\n",
    "plt.title(f'Vaccine response vs IMMAGE ({dataset_name})')\n",
    "plt.show()"
   ]
  },
  {
   "cell_type": "code",
   "execution_count": 382,
   "id": "caea59ac",
   "metadata": {},
   "outputs": [
    {
     "name": "stdout",
     "output_type": "stream",
     "text": [
      "low group N=27, high group N=62\n",
      "pvalue: 0.001701136116823267\n"
     ]
    }
   ],
   "source": [
    "# Running a t-test\n",
    "low_group = data.loc[data[response_col]  < low_response_thr, immage_col]\n",
    "high_group = data.loc[data[response_col]  >= low_response_thr, immage_col]\n",
    "print(f\"low group N={low_group.shape[0]}, high group N={high_group.shape[0]}\")\n",
    "\n",
    "ttest = ttest_ind(low_group, high_group)\n",
    "print(f\"pvalue: {ttest.pvalue}\")"
   ]
  },
  {
   "cell_type": "code",
   "execution_count": 383,
   "id": "b3155f73",
   "metadata": {},
   "outputs": [
    {
     "data": {
      "text/plain": [
       "0.6967320261437908"
      ]
     },
     "execution_count": 383,
     "metadata": {},
     "output_type": "execute_result"
    }
   ],
   "source": [
    "# Classifying with logistic regression\n",
    "log_regress = LogisticRegression()\n",
    "regression_result = cross_validate(log_regress, data[[immage_col]],  data[\"y\"])\n",
    "regression_result['test_score'].mean()"
   ]
  },
  {
   "cell_type": "code",
   "execution_count": 384,
   "id": "ca6d83cb",
   "metadata": {},
   "outputs": [
    {
     "name": "stdout",
     "output_type": "stream",
     "text": [
      "0.893363987174833, -1.2410188403672195\n",
      "IMMAGE cutoff value is: 0.719863355910443\n"
     ]
    }
   ],
   "source": [
    "# Split the data into training and testing sets\n",
    "X_train, X_test, labels_train, labels_test = train_test_split(data[[immage_col]], data[\"y\"], test_size=0.2, random_state=42)\n",
    "\n",
    "log_regress.fit(X_train, labels_train)\n",
    "log_regress.score(X_test, labels_test)\n",
    "\n",
    "beta_0 = log_regress.intercept_[0]\n",
    "beta_1 = log_regress.coef_[0][0]\n",
    "\n",
    "\n",
    "print(f'{beta_0}, {beta_1}')\n",
    "# Calculate the cutoff value\n",
    "cutoff = -beta_0 / beta_1\n",
    "\n",
    "print(f\"IMMAGE cutoff value is: {cutoff}\")"
   ]
  },
  {
   "cell_type": "code",
   "execution_count": 385,
   "id": "f9e7be9f",
   "metadata": {},
   "outputs": [
    {
     "data": {
      "image/png": "[encoded data removed]",
      "text/plain": [
       "<Figure size 640x480 with 1 Axes>"
      ]
     },
     "metadata": {},
     "output_type": "display_data"
    }
   ],
   "source": [
    "# Plot the logistic regression decision function\n",
    "from scipy.special import expit\n",
    "dft = pd.DataFrame()\n",
    "dft[\"x\"] = np.linspace(-1, 1, 500)\n",
    "dft[\"y\"] = beta_0 + dft.x * beta_1\n",
    "dft[\"y2\"] = expit(dft.x)\n",
    "dft[\"y3\"] = expit(dft.y)\n",
    "sns.lineplot(data=dft, x=\"x\", y=\"y2\")\n",
    "sns.lineplot(data=dft, x=\"x\", y=\"y3\")\n",
    "plt.title(f'expit and expit(a*X + b) ({dataset_name})')\n",
    "plt.show()"
   ]
  },
  {
   "cell_type": "code",
   "execution_count": 386,
   "id": "bcb907b3",
   "metadata": {},
   "outputs": [
    {
     "data": {
      "image/png": "[encoded data removed]",
      "text/plain": [
       "<Figure size 640x480 with 1 Axes>"
      ]
     },
     "metadata": {},
     "output_type": "display_data"
    }
   ],
   "source": [
    "# Plot IMMAGE values and the cutoff\n",
    "sns.scatterplot(data=data.sort_values(immage_col, ignore_index=True).reset_index(), x=\"index\", y=immage_col, hue=\"Label text\")\n",
    "# commented out since cutoff is much higher and messes with the plot\n",
    "plt.axhline(y=cutoff)\n",
    "plt.title(f'sorted IMMAGE vs Index ({dataset_name})')\n",
    "plt.show()"
   ]
  },
  {
   "cell_type": "code",
   "execution_count": 431,
   "id": "c6e9170b",
   "metadata": {},
   "outputs": [
    {
     "name": "stdout",
     "output_type": "stream",
     "text": [
      "0    1\n",
      "1    0\n",
      "2   -1\n",
      "3   -2\n",
      "4   -3\n",
      "5   -4\n",
      "Name: bin, dtype: int64\n",
      "0    0.000000\n",
      "1    0.000000\n",
      "2    0.153846\n",
      "3    0.416667\n",
      "4    0.315789\n",
      "5    0.700000\n",
      "Name: y, dtype: float64\n"
     ]
    },
    {
     "data": {
      "text/plain": [
       "bin    None\n",
       "y      None\n",
       "dtype: object"
      ]
     },
     "execution_count": 431,
     "metadata": {},
     "output_type": "execute_result"
    }
   ],
   "source": [
    "n_bins = 6\n",
    "B = pd.cut(data[\"IMMAGE\"], bins=n_bins, labels=range(n_bins))\n",
    "data[\"bin\"] = B.values.astype(int)\n",
    "\n",
    "grouped = data.groupby(\"bin\", as_index=False)['y'].mean().apply(lambda x: 1-x)\n",
    "grouped.apply(print)\n",
    "# for key, item in grouped:\n",
    "#     print(grouped.get_group(key), \"\\n\\n\")\n"
   ]
  },
  {
   "cell_type": "code",
   "execution_count": 432,
   "id": "181db80e",
   "metadata": {},
   "outputs": [
    {
     "data": {
      "text/plain": [
       "0     3\n",
       "1     2\n",
       "2     2\n",
       "3     1\n",
       "4     0\n",
       "     ..\n",
       "84    1\n",
       "85    2\n",
       "86    2\n",
       "87    3\n",
       "88    3\n",
       "Name: IMMAGE, Length: 89, dtype: category\n",
       "Categories (6, int64): [0 < 1 < 2 < 3 < 4 < 5]"
      ]
     },
     "execution_count": 432,
     "metadata": {},
     "output_type": "execute_result"
    }
   ],
   "source": [
    "B"
   ]
  },
  {
   "cell_type": "code",
   "execution_count": null,
   "id": "1f8c5727",
   "metadata": {},
   "outputs": [],
   "source": [
    "from sklearn.metrics import auc, roc_auc_score, roc_curve\n",
    "\n",
    "pr, tpr, thresholds = roc_curve(y_true, y_scores)\n",
    "roc_auc = auc(fpr, tpr)\n",
    "\n",
    "# Plot ROC curve\n",
    "plt.figure()\n",
    "plt.plot(fpr, tpr, label='ROC curve (area = %0.2f)' % roc_auc)\n",
    "plt.plot([0, 1], [0, 1], 'k--')  # Random chance line\n",
    "plt.xlim([0.0, 1.0])\n",
    "plt.ylim([0.0, 1.05])\n",
    "plt.xlabel('False Positive Rate')\n",
    "plt.ylabel('True Positive Rate')\n",
    "plt.title('Receiver Operating Characteristic')\n",
    "plt.legend(loc=\"lower right\")\n",
    "plt.show()\n",
    "\n",
    "# Identifying the optimal threshold (example using Youden’s Index)\n",
    "optimal_idx = np.argmax(tpr - fpr)\n",
    "optimal_threshold = thresholds[optimal_idx]"
   ]
  }
 ],
 "metadata": {
  "kernelspec": {
   "display_name": "Python 3 (ipykernel)",
   "language": "python",
   "name": "python3"
  }
 },
 "nbformat": 4,
 "nbformat_minor": 5
}
