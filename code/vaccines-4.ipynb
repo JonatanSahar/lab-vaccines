{
 "cells": [
  {
   "cell_type": "code",
   "execution_count": null,
   "id": "7b241f6b",
   "metadata": {
    "lines_to_next_cell": 2
   },
   "outputs": [],
   "source": [
    "from jupyter_client import find_connection_file\n",
    "\n",
    "connection_file = find_connection_file()\n",
    "print(connection_file)"
   ]
  },
  {
   "cell_type": "code",
   "execution_count": null,
   "id": "c6aa4c16",
   "metadata": {
    "editable": true,
    "lines_to_next_cell": 2,
    "slideshow": {
     "slide_type": ""
    }
   },
   "outputs": [],
   "source": [
    "# Plotting related\n",
    "import os\n",
    "import seaborn as sns\n",
    "import matplotlib.pyplot as plt\n",
    "import plotly.express as px\n",
    "import plotly.io as pio\n",
    "\n",
    "pio.renderers.default = \"notebook\"\n",
    "\n",
    "# Scikit-learn related imports\n",
    "import pyarrow\n",
    "import pandas as pd\n",
    "\n",
    "pd.options.mode.copy_on_write = True\n",
    "import numpy as np\n",
    "\n",
    "from sklearn.ensemble import RandomForestClassifier\n",
    "from sklearn.tree import DecisionTreeClassifier, plot_tree\n",
    "from sklearn.model_selection import train_test_split, cross_validate, RandomizedSearchCV\n",
    "from sklearn.metrics import accuracy_score\n",
    "from scipy.stats import randint, ttest_ind\n",
    "from sklearn.svm import SVC\n",
    "from sklearn.linear_model import LogisticRegression\n",
    "from mlxtend.plotting import plot_decision_regions"
   ]
  },
  {
   "cell_type": "code",
   "execution_count": null,
   "id": "02ca1736",
   "metadata": {},
   "outputs": [],
   "source": [
    "dataset_col = \"Dataset\"\n",
    "uid_col = \"uid\"\n",
    "age_col = \"Age\"\n",
    "day_col = \"Day\"\n",
    "response_col = \"Response\"\n",
    "immage_col = \"IMMAGE\"\n",
    "strain_col = \"Strain\""
   ]
  },
  {
   "cell_type": "code",
   "execution_count": null,
   "id": "84b3f9bc",
   "metadata": {},
   "outputs": [],
   "source": [
    "def get_data_dir():\n",
    "    # Define the starting directory\n",
    "    current_dir = os.getcwd()\n",
    "\n",
    "    # Traverse up the directory tree until we find a directory named \"data\"\n",
    "    while current_dir != \"/\":\n",
    "        if \"data\" in os.listdir(current_dir):\n",
    "            data_dir = os.path.join(current_dir, \"data\")\n",
    "            return data_dir\n",
    "        current_dir = os.path.dirname(current_dir)\n",
    "    else:\n",
    "        print(\"Directory 'data' not found in the parent directories.\")\n",
    "        raise ()"
   ]
  },
  {
   "cell_type": "code",
   "execution_count": null,
   "id": "651bcb1d",
   "metadata": {},
   "outputs": [],
   "source": [
    "# Read in Data and drop missing values\n",
    "data_dir = get_data_dir()\n",
    "df = pd.read_csv(os.path.join(data_dir, \"../data/all_vaccines.csv\"))\n",
    "df.dropna(inplace=True, subset=[immage_col, dataset_col, day_col, response_col])\n",
    "\n",
    "dataset_names = df.Dataset.unique()"
   ]
  },
  {
   "cell_type": "markdown",
   "id": "6869f1d3",
   "metadata": {},
   "source": [
    "##### Plot distribution of studies' N values"
   ]
  },
  {
   "cell_type": "code",
   "execution_count": null,
   "id": "ee0b927b",
   "metadata": {},
   "outputs": [],
   "source": [
    "# Plot distribution of N values\n",
    "N_vals = df[[dataset_col, uid_col]].groupby(dataset_col, as_index=False)[uid_col].nunique()\n",
    "N_vals = N_vals.rename(columns={uid_col: \"N\"})\n",
    "sns.histplot(N_vals.N)\n",
    "plt.title(\"N values across studies\")"
   ]
  },
  {
   "cell_type": "markdown",
   "id": "ce87e809",
   "metadata": {},
   "source": [
    "##### Narrow to large datasets only (N > 70)"
   ]
  },
  {
   "cell_type": "code",
   "execution_count": null,
   "id": "acabc339",
   "metadata": {},
   "outputs": [],
   "source": [
    "# Narrow N_v to large datasets only\n",
    "N_vals = N_vals.loc[N_vals[\"N\"] > 70]\n",
    "datasets = df.loc[df[\"Dataset\"].isin(N_vals[\"Dataset\"])]\n",
    "dataset_names = datasets[\"Dataset\"].unique()\n",
    "N_vals"
   ]
  },
  {
   "cell_type": "code",
   "execution_count": null,
   "id": "c2979e59",
   "metadata": {
    "lines_to_next_cell": 2
   },
   "outputs": [],
   "source": [
    "# Examine available days per dataset\n",
    "days = (\n",
    "    datasets[[dataset_col, uid_col, day_col]].groupby(dataset_col, as_index=False)[day_col].unique()\n",
    ")\n",
    "t = pd.Series(days.loc[[True, False, False, False], \"Day\"])\n",
    "# with pd.option_context('display.max_colwidth', None):\n",
    "#    for index, row in days.iterrows():\n",
    "#     print(f\"Dataset: {row['Dataset']}\\nDays: {row['Day']}\\n\\n\")"
   ]
  },
  {
   "cell_type": "code",
   "execution_count": null,
   "id": "cc031b68",
   "metadata": {},
   "outputs": [],
   "source": [
    "# Collect day info from papers here\n",
    "dataset_day_dict = {}\n",
    "\n",
    "dataset_day_dict[\"GSE41080.SDY212\"] = \"HAI.D28\"\n",
    "dataset_day_dict[\"GSE48018.SDY1276\"] = \"nAb.D28\"\n",
    "dataset_day_dict[\"GSE48023.SDY1276\"] = \"nAb.D28\"\n",
    "dataset_day_dict[\"SDY67\"] = \"nAb.D28\"\n",
    "# dataset_day_dict[dataset_names[0]]"
   ]
  },
  {
   "cell_type": "markdown",
   "id": "0a81bda3",
   "metadata": {},
   "source": [
    "##### Narrow to a specific dataset and day, then keep only relevant columns"
   ]
  },
  {
   "cell_type": "code",
   "execution_count": null,
   "id": "37009236",
   "metadata": {
    "tags": [
     "parameters",
     "test"
    ]
   },
   "outputs": [],
   "source": [
    "# Narrow to a specific dataset and day, then keep only relevant columns\n",
    "strain_index = 0\n",
    "dataset_name = dataset_names[0]"
   ]
  },
  {
   "cell_type": "code",
   "execution_count": null,
   "id": "ad651ee9",
   "metadata": {
    "tags": [
     "noexport"
    ]
   },
   "outputs": [],
   "source": [
    "name_mask = datasets[dataset_col] == dataset_name\n",
    "day_mask = datasets[day_col] == dataset_day_dict[dataset_name]\n",
    "\n",
    "data = datasets.loc[(name_mask) & (day_mask)].reset_index()\n",
    "\n",
    "# Somtimes there are multiple strains - so multiple rows per day\n",
    "strains = data[strain_col].unique()\n",
    "if len(strains) > 1:\n",
    "    data = data.loc[data[strain_col] == strains[strain_index]].reset_index()\n",
    "\n",
    "strains_t = data[strain_col].unique()\n",
    "assert len(strains_t) == 1\n",
    "strain = strains_t[0]\n",
    "\n",
    "# Sometimes there are multiple geo_accession numbers, like in GSE48018.SDY1276, average the IMMAGE, since all else is the same\n",
    "accessions = data[\"geo_accession\"].unique()\n",
    "if len(accessions) > 1:\n",
    "    print(f\"*** Multiple accession detected! Collapsing by averaging on IMMAGE value ***\\n\")\n",
    "    data = data.groupby(uid_col, as_index=False).agg(\n",
    "        {\n",
    "            immage_col: \"mean\",\n",
    "            **{col: \"first\" for col in data.columns if col not in [uid_col, immage_col]},\n",
    "        }\n",
    "    )\n",
    "\n",
    "# Take relevant columns only\n",
    "data = data[[immage_col, response_col, age_col]]\n",
    "\n",
    "print(f\"Working with dataset: {dataset_name}, strain: {strain}\")\n",
    "print(f\"Total subjects in study: N={data.shape[0]}\")\n",
    "print(f\"available strains: {strains}\")\n",
    "\n",
    "# data.head()"
   ]
  },
  {
   "cell_type": "markdown",
   "id": "12b03996",
   "metadata": {},
   "source": []
  },
  {
   "cell_type": "code",
   "execution_count": null,
   "id": "099d352e",
   "metadata": {},
   "outputs": [],
   "source": [
    "# Get a boolean map of sub and super threshold values\n",
    "low_response_thr = data[[response_col]].quantile(q=0.3).item()\n",
    "\n",
    "# Generate labels\n",
    "# Note that we define y=1 for all responses < 30th percentile (and not <=)\n",
    "# Also note that we defined y=1 as *non* responders, since later on that's what we'll care most about detecting\n",
    "\n",
    "data[\"y\"] = data[response_col].apply(lambda x: 1 if x < low_response_thr else 0)\n",
    "\n",
    "# Add a text label for plot legends\n",
    "data[\"Label text\"] = data[\"y\"].apply(lambda x: \"Responders\" if x == 0 else \"Non-Responders\")"
   ]
  },
  {
   "cell_type": "markdown",
   "id": "bbf91a18",
   "metadata": {},
   "source": [
    "##### Plot IMMAGE, response, and age values to look at the dynamic range"
   ]
  },
  {
   "cell_type": "code",
   "execution_count": null,
   "id": "c19a3558",
   "metadata": {
    "lines_to_next_cell": 2
   },
   "outputs": [],
   "source": [
    "# Plot IMMAGE, response, and age values to look at the dynamic range\n",
    "from scipy.stats import probplot\n",
    "\n",
    "fig, axs = plt.subplots(2, 3, figsize=(18, 6))  # Create a figure with two subplots side by side\n",
    "\n",
    "sns.histplot(data=data, x=immage_col, bins=50, ax=axs[0, 0])\n",
    "sns.boxplot(data=data, x=immage_col, ax=axs[1, 0], fill=False)\n",
    "# axs[0].set_title('Box Plot')\n",
    "axs[0, 0].set_title(f\" {immage_col}\")\n",
    "\n",
    "sns.histplot(data=data, x=response_col, bins=50, ax=axs[0, 1])\n",
    "sns.boxplot(data=data, x=response_col, ax=axs[1, 1], fill=False)\n",
    "# axs[1].set_title('Box Plot')\n",
    "axs[0, 1].set_title(f\" {response_col}\")\n",
    "\n",
    "sns.histplot(data=data, x=age_col, bins=50, ax=axs[0, 2])\n",
    "sns.boxplot(data=data, x=age_col, ax=axs[1, 2], fill=False)\n",
    "# axs[1].set_title('Box Plot')\n",
    "axs[0, 2].set_title(f\" {age_col}\")\n",
    "\n",
    "plt.tight_layout(pad=3.0)  # Adjust the layout so everything fits without overlap\n",
    "fig.suptitle(f\"Values Distribution in {dataset_name}, strain: {strain}\")\n",
    "\n",
    "plt.show()"
   ]
  },
  {
   "cell_type": "markdown",
   "id": "c31eb0c0",
   "metadata": {
    "lines_to_next_cell": 0
   },
   "source": [
    "##### Is there a trend like we expect? (High IMMAGE ⇒ low response)\n",
    "#### Also show the distributions of IMMAGE values for responders & non-responders"
   ]
  },
  {
   "cell_type": "code",
   "execution_count": null,
   "id": "ea53d5f1",
   "metadata": {
    "lines_to_next_cell": 2
   },
   "outputs": [],
   "source": [
    "# Classifying with logistic regression - fit on the entire dataset\n",
    "from math import log\n",
    "\n",
    "\n",
    "def get_threshold_from_probability(prob, intercept, slope):\n",
    "    return -1 * (log(1 / prob - 1) + intercept) / slope\n",
    "\n",
    "\n",
    "log_regress_immage = LogisticRegression()\n",
    "log_regress_age = LogisticRegression()\n",
    "log_regress_combined = LogisticRegression()\n",
    "\n",
    "# Train a classifier based on immage and on age for comparison\n",
    "log_regress_immage.fit(data[[immage_col]], data[\"y\"])\n",
    "log_regress_age.fit(data[[age_col]], data[\"y\"])\n",
    "log_regress_combined.fit(data[[immage_col, age_col]], data[\"y\"])\n",
    "\n",
    "non_responder_col = \"p_non_responder\"\n",
    "non_responder_col_age = \"p_non_responder_age\"\n",
    "non_responder_col_combined = \"p_non_responder_combined\"\n",
    "\n",
    "proba = pd.DataFrame(log_regress_immage.predict_proba(data[[immage_col]]))\n",
    "data[non_responder_col] = proba[1]\n",
    "proba = pd.DataFrame(log_regress_age.predict_proba(data[[age_col]]))\n",
    "data[non_responder_col_age] = proba[1]\n",
    "proba = pd.DataFrame(log_regress_combined.predict_proba(data[[immage_col, age_col]]))\n",
    "data[non_responder_col_combined] = proba[1]"
   ]
  },
  {
   "cell_type": "markdown",
   "id": "87f9203a",
   "metadata": {},
   "source": [
    "##### Use a logistic regression's probabilties to look for a threshold based on above-threshold non-responder rate"
   ]
  },
  {
   "cell_type": "code",
   "execution_count": null,
   "id": "24563fdd",
   "metadata": {},
   "outputs": [],
   "source": [
    "# Define auxilary functions\n",
    "from sklearn.metrics import auc, roc_auc_score, roc_curve\n",
    "from math import log\n",
    "\n",
    "\n",
    "def calc_and_plot_prob_threshold(data, classifier, fpr, tpr, thresholds, col_name=\"\", plot=\"both\"):\n",
    "    # plot=['both', 'ROC', 'threshold', 'none']\n",
    "    roc_auc = auc(fpr, tpr)\n",
    "    intercept = classifier.intercept_[0]\n",
    "    slope = classifier.coef_[0][0]\n",
    "\n",
    "    # Identifying the optimal threshold (using Youden’s Index)\n",
    "    optimal_idx = np.argmax(tpr - fpr)\n",
    "    prob_threshold = thresholds[optimal_idx]\n",
    "\n",
    "    # Calculate the cutoff value\n",
    "    feature_threshold = get_threshold_from_probability(\n",
    "        prob_threshold, intercept=intercept, slope=slope\n",
    "    )\n",
    "\n",
    "    if plot != \"none\":\n",
    "        if plot == \"both\":\n",
    "            fig, axs = plt.subplots(\n",
    "                1, 2, figsize=(16, 6)\n",
    "            )  # Creates a figure with two side-by-side subplots\n",
    "        else:\n",
    "            fig, axs = plt.subplots(1, 1, figsize=(8, 6))  # Creates a figure with one subplot\n",
    "            # Make axs subsriptable\n",
    "            axs = [axs]\n",
    "\n",
    "        # Plot ROC curve on the first subplot\n",
    "        axs[0].plot(fpr, tpr, label=f\"ROC curve (area = {roc_auc : 0.2f})\")\n",
    "        axs[0].plot([0, 1], [0, 1], \"k--\")  # Random chance line\n",
    "        axs[0].plot(fpr[optimal_idx], tpr[optimal_idx], marker=\"o\", markersize=5, color=\"red\")\n",
    "        axs[0].set_xlim([0.0, 1.0])\n",
    "        axs[0].set_ylim([0.0, 1.05])\n",
    "        axs[0].set_xlabel(\"False Positive Rate\")\n",
    "        axs[0].set_ylabel(\"True Positive Rate\")\n",
    "        axs[0].set_title(\"ROC curve\")\n",
    "        axs[0].legend(loc=\"lower right\")\n",
    "\n",
    "        if plot == \"both\":\n",
    "            # Plot sorted IMMAGE values vs Index on the second subplot\n",
    "            sorted_data = data.sort_values(col_name, ignore_index=True).reset_index()\n",
    "            sns.scatterplot(ax=axs[1], data=sorted_data, x=\"index\", y=col_name, hue=\"Label text\")\n",
    "            axs[1].axhline(y=feature_threshold, color=\"black\", linestyle=\"--\")\n",
    "            axs[1].set_title(f\"Sorted {col_name} vs Index\")\n",
    "\n",
    "        fig.suptitle(f\"Probability-based threshold with ROC\\n({dataset_name}, {strain})\")\n",
    "        plt.tight_layout()  # Adjusts subplot params so that subplots fit into the figure area.\n",
    "        plt.show()\n",
    "    return (\n",
    "        prob_threshold,\n",
    "        feature_threshold,\n",
    "    )  # feature threshold is meaningless for the multivariate case\n",
    "\n",
    "\n",
    "def get_classifier_stats_prob(data, prob_column, prob_threshold):\n",
    "    # Global measures (entire dataset)\n",
    "    optimal_pred = data[prob_column].apply(lambda x: 1 if x >= prob_threshold else 0)\n",
    "    test_accuracy = accuracy_score(data[\"y\"], optimal_pred)\n",
    "    # Performance above the prob_threshold\n",
    "    y_over_thr = data.loc[data[prob_column] >= prob_threshold, [\"y\"]]\n",
    "    non_response_rate_over_thr = y_over_thr.mean().y\n",
    "    y_under_thr = data.loc[data[prob_column] < prob_threshold, [\"y\"]]\n",
    "    non_response_rate_under_thr = y_under_thr.mean().y\n",
    "    return non_response_rate_over_thr, non_response_rate_under_thr"
   ]
  },
  {
   "cell_type": "code",
   "execution_count": null,
   "id": "bfa567d9",
   "metadata": {},
   "outputs": [],
   "source": [
    "# Run for immage and age to compare\n",
    "# IMMAGE\n",
    "fpr, tpr, thresholds = roc_curve(data[\"y\"], data[non_responder_col])\n",
    "prob_threshold, feature_threshold = calc_and_plot_prob_threshold(\n",
    "    data, log_regress_immage, fpr, tpr, thresholds, col_name=immage_col, plot=\"both\"\n",
    ")\n",
    "non_response_rate_over_thr, non_response_rate_under_thr = get_classifier_stats_prob(\n",
    "    data, non_responder_col, prob_threshold\n",
    ")\n",
    "print(\n",
    "    f\"Optimal threshold: {feature_threshold : 0.2f} (IMMAGE value), None-responder rate: over threshold: {non_response_rate_over_thr : 0.2f}, under threshold: {non_response_rate_under_thr : 0.2f}\"\n",
    ")\n",
    "\n",
    "# Age\n",
    "fpr, tpr, thresholds = roc_curve(data[\"y\"], data[non_responder_col_age])\n",
    "prob_threshold_age, feature_threshold = calc_and_plot_prob_threshold(\n",
    "    data, log_regress_age, fpr, tpr, thresholds, col_name=age_col, plot=\"both\"\n",
    ")\n",
    "non_response_rate_over_thr, non_response_rate_under_thr = get_classifier_stats_prob(\n",
    "    data, non_responder_col_age, prob_threshold_age\n",
    ")\n",
    "print(\n",
    "    f\"Optimal threshold: {feature_threshold : 0.2f} (Age), None-responder rate: over threshold: {non_response_rate_over_thr : 0.2f}, under threshold: {non_response_rate_under_thr : 0.2f}\"\n",
    ")\n",
    "\n",
    "# Combined\n",
    "fpr, tpr, thresholds = roc_curve(data[\"y\"], data[non_responder_col_combined])\n",
    "prob_threshold_combined, _ = calc_and_plot_prob_threshold(\n",
    "    data, log_regress_combined, fpr, tpr, thresholds, plot=\"ROC\"\n",
    ")\n",
    "non_response_rate_over_thr, non_response_rate_under_thr = get_classifier_stats_prob(\n",
    "    data, non_responder_col_combined, prob_threshold_combined\n",
    ")\n",
    "print(\n",
    "    f\"Optimal threshold: {prob_threshold_combined : 0.2f} (probability), None-responder rate: over threshold: {non_response_rate_over_thr : 0.2f}, under threshold: {non_response_rate_under_thr : 0.2f}\"\n",
    ")"
   ]
  },
  {
   "cell_type": "code",
   "execution_count": null,
   "id": "0468fba5",
   "metadata": {
    "lines_to_next_cell": 2
   },
   "outputs": [],
   "source": [
    "# Sliding window instead of bins, plotting non-reponder rate vs window start\n",
    "def generate_windows_and_rates(data, feature_col, num_units, num_units_per_window):\n",
    "    window_starts = np.linspace(\n",
    "        start=data[feature_col].min(), stop=data[feature_col].max(), num=num_units\n",
    "    )\n",
    "    window_size = (\n",
    "        (data[feature_col].max() - data[feature_col].min()) / num_units * num_units_per_window\n",
    "    )\n",
    "    windows = pd.DataFrame(\n",
    "        {\n",
    "            \"start\": window_starts[:-num_units_per_window],\n",
    "            \"end\": window_starts[num_units_per_window:],\n",
    "        }\n",
    "    )\n",
    "    rates = []\n",
    "\n",
    "    for i, start, end in windows.itertuples():\n",
    "        over = data[feature_col] >= windows[\"start\"][i]\n",
    "        under = data[feature_col] < windows[\"end\"][i]\n",
    "        rates.append(data.loc[(over & under), \"y\"].mean())\n",
    "\n",
    "    rates = pd.Series(rates).fillna(0)\n",
    "    windows[\"rate\"] = rates\n",
    "    threshold_idx = rates.argmax()\n",
    "\n",
    "    return windows, window_size\n",
    "\n",
    "\n",
    "def plot_sliding_windows(feature_cols):\n",
    "    num_units = 100\n",
    "    num_features = len(feature_cols)\n",
    "    fig, axs = plt.subplots(1, num_features, figsize=(5 * num_features, 5))\n",
    "\n",
    "    for i, feature_col in enumerate(feature_cols):\n",
    "        windows, window_size = generate_windows_and_rates(data, feature_col, num_units, 20)\n",
    "        sns.lineplot(data=windows, x=\"start\", y=\"rate\", ax=axs[i])\n",
    "        axs[i].axhline(y=0.5, color=\"black\", linestyle=\"--\")\n",
    "        axs[i].set_title(f\"Window size: {window_size:.2f} {feature_col} units\")\n",
    "        axs[i].set_xlabel(\"Start\")\n",
    "        axs[i].set_ylabel(\"Rate\")\n",
    "\n",
    "    fig.suptitle(\n",
    "        f\"Sliding window performance\\nrate of non-responders vs feature columns\\n({dataset_name}, {strain})\"\n",
    "    )\n",
    "    plt.subplots_adjust(top=0.75)\n",
    "\n",
    "    plt.show()\n",
    "\n",
    "\n",
    "plot_sliding_windows([immage_col, age_col])"
   ]
  },
  {
   "cell_type": "code",
   "execution_count": null,
   "id": "9c19dcc6",
   "metadata": {},
   "outputs": [],
   "source": []
  }
 ],
 "metadata": {
  "kernelspec": {
   "display_name": "Python 3 (ipykernel)",
   "language": "python",
   "name": "python3"
  }
 },
 "nbformat": 4,
 "nbformat_minor": 5
}