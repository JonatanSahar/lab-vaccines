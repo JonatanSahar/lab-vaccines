{
 "cells": [
  {
   "cell_type": "code",
   "execution_count": 12,
   "id": "6eaf41e6",
   "metadata": {},
   "outputs": [
    {
     "name": "stdout",
     "output_type": "stream",
     "text": [
      "/home/yonatan/.local/share/jupyter/runtime/kernel-v2-168731RGMx4QOLSQ2.json\n"
     ]
    }
   ],
   "source": [
    "from jupyter_client import find_connection_file\n",
    "connection_file = find_connection_file()\n",
    "print(connection_file)"
   ]
  },
  {
   "cell_type": "code",
   "execution_count": 13,
   "id": "af5ca9cf",
   "metadata": {},
   "outputs": [
    {
     "data": {
      "text/plain": [
       "'export/constants.py'"
      ]
     },
     "execution_count": 13,
     "metadata": {},
     "output_type": "execute_result"
    }
   ],
   "source": [
    "import papermill as pm\n",
    "import pandas as pd\n",
    "import os\n",
    "import sys\n",
    "import shutil\n",
    "\n",
    "sys.tracebacklimit = 0\n",
    "def exception_handler(exception_type, exception, traceback):\n",
    "    # All your trace are belong to us!\n",
    "    # your format\n",
    "    print(f\"{exception_type.__name__}, {exception}\")\n",
    "\n",
    "sys.excepthook = exception_handler\n",
    "\n",
    "from constants import *\n",
    "shutil.copy('constants.py', 'export/')"
   ]
  },
  {
   "cell_type": "code",
   "execution_count": 14,
   "id": "b0385769",
   "metadata": {
    "lines_to_next_cell": 2
   },
   "outputs": [],
   "source": [
    "# Read in Data and drop missing values\n",
    "df = pd.read_csv(\"../data/all_vaccines.csv\")\n",
    "df.dropna(inplace=True, subset=[immage_col, dataset_col, day_col, response_col])\n",
    "dataset_names = df[\"Dataset\"].unique().astype(str)\n",
    "\n",
    "# Plot distribution of N values\n",
    "N_vals = df[[dataset_col, uid_col]].groupby(dataset_col, as_index=False)[uid_col].nunique()\n",
    "N_vals = N_vals.rename(columns={uid_col: \"N\"})\n",
    "\n",
    "# Narrow to large datasets only\n",
    "bNarrow = False\n",
    "N_vals = N_vals.loc[N_vals[\"N\"] > 70]\n",
    "if bNarrow:\n",
    "    filtered_df = df.loc[df[\"Dataset\"].isin(N_vals[\"Dataset\"])]\n",
    "    dataset_names = filtered_df[\"Dataset\"].unique().astype(str)"
   ]
  },
  {
   "cell_type": "code",
   "execution_count": 15,
   "id": "a6f4b9a3",
   "metadata": {},
   "outputs": [],
   "source": [
    "datasets = pd.DataFrame(dataset_day_dicts)\n",
    "dataset_names = datasets[dataset_col].unique().astype(str)\n",
    "filtered_df = df.loc[df[\"Dataset\"].isin(dataset_names)]"
   ]
  },
  {
   "cell_type": "code",
   "execution_count": 16,
   "id": "9979ac8a",
   "metadata": {},
   "outputs": [],
   "source": [
    "exclude_datasets = [\"GSE45735.SDY224\", \"GSE47353.SDY80\"] # , \"GSE48023.SDY1276\", \"SDY296\"]\n",
    "bInfluenza = True\n",
    "bAdjustMFC = False\n",
    "bDiscardSeroprotected = True\n",
    "bOlderOnly = True\n",
    "age_restrict_str = f\"_older-only\" if bOlderOnly else \"\"\n",
    "seroprotected_str = f\"_discard_seroprotected\" if bDiscardSeroprotected else \"\""
   ]
  },
  {
   "cell_type": "code",
   "execution_count": 17,
   "id": "57a73c61",
   "metadata": {},
   "outputs": [],
   "source": [
    "if bInfluenza:\n",
    "    datasets = pd.DataFrame(influenza_dicts)\n",
    "    dataset_names = datasets[\"Dataset\"].unique().astype(str)\n",
    "    dataset_names = list(set(dataset_names) - set(exclude_datasets))\n",
    "    \n",
    "    datasets = datasets.loc[datasets[\"Dataset\"].isin(dataset_names)]\n",
    "    filtered_df = df.loc[df[\"Dataset\"].isin(dataset_names)]\n",
    "\n",
    "parameters = {\n",
    "            \"bAdjustMFC\" : bAdjustMFC,\n",
    "            \"bDiscardSeroprotected\" : bDiscardSeroprotected,\n",
    "            \"bInfluenza\": bInfluenza,\n",
    "            \"bOlderOnly\": bOlderOnly,\n",
    "            }"
   ]
  },
  {
   "cell_type": "code",
   "execution_count": 18,
   "id": "bc92b082",
   "metadata": {},
   "outputs": [
    {
     "data": {
      "text/plain": [
       "['SDY67']"
      ]
     },
     "execution_count": 18,
     "metadata": {},
     "output_type": "execute_result"
    }
   ],
   "source": [
    "dataset_names = dataset_names[:1]\n",
    "dataset_names"
   ]
  },
  {
   "cell_type": "code",
   "execution_count": 10,
   "id": "47b38ab2",
   "metadata": {},
   "outputs": [
    {
     "name": "stdout",
     "output_type": "stream",
     "text": [
      "SDY67\n",
      "FC.D28.HAI\n",
      "['A/Perth/16/2009' 'A/California/7/2009']\n",
      "exporting SDY67, strain no. 0: A_Perth_16_2009, day: FC.D28.HAI\n"
     ]
    },
    {
     "name": "stderr",
     "output_type": "stream",
     "text": [
      "[NbConvertApp] Converting notebook export/SDY67_A_Perth_16_2009_FC.D28.HAI_discard_seroprotected.ipynb to html\n",
      "[NbConvertApp] WARNING | Alternative text is missing on 6 image(s).\n",
      "[NbConvertApp] Writing 735329 bytes to export/SDY67_A_Perth_16_2009_FC.D28.HAI_discard_seroprotected.html\n"
     ]
    },
    {
     "name": "stdout",
     "output_type": "stream",
     "text": [
      "exporting SDY67, strain no. 1: A_California_7_2009, day: FC.D28.HAI\n"
     ]
    },
    {
     "name": "stderr",
     "output_type": "stream",
     "text": [
      "[NbConvertApp] Converting notebook export/SDY67_A_California_7_2009_FC.D28.HAI_discard_seroprotected.ipynb to html\n",
      "[NbConvertApp] WARNING | Alternative text is missing on 6 image(s).\n",
      "[NbConvertApp] Writing 745733 bytes to export/SDY67_A_California_7_2009_FC.D28.HAI_discard_seroprotected.html\n"
     ]
    },
    {
     "name": "stdout",
     "output_type": "stream",
     "text": [
      "HAI.D28\n",
      "['A/Perth/16/2009' 'A/California/7/2009']\n",
      "exporting SDY67, strain no. 0: A_Perth_16_2009, day: HAI.D28\n"
     ]
    },
    {
     "name": "stderr",
     "output_type": "stream",
     "text": [
      "[NbConvertApp] Converting notebook export/SDY67_A_Perth_16_2009_HAI.D28_discard_seroprotected.ipynb to html\n",
      "[NbConvertApp] WARNING | Alternative text is missing on 6 image(s).\n",
      "[NbConvertApp] Writing 738034 bytes to export/SDY67_A_Perth_16_2009_HAI.D28_discard_seroprotected.html\n"
     ]
    },
    {
     "name": "stdout",
     "output_type": "stream",
     "text": [
      "exporting SDY67, strain no. 1: A_California_7_2009, day: HAI.D28\n"
     ]
    },
    {
     "name": "stderr",
     "output_type": "stream",
     "text": [
      "[NbConvertApp] Converting notebook export/SDY67_A_California_7_2009_HAI.D28_discard_seroprotected.ipynb to html\n",
      "[NbConvertApp] WARNING | Alternative text is missing on 6 image(s).\n",
      "[NbConvertApp] Writing 747202 bytes to export/SDY67_A_California_7_2009_HAI.D28_discard_seroprotected.html\n"
     ]
    },
    {
     "name": "stdout",
     "output_type": "stream",
     "text": [
      "GSE48023.SDY1276\n",
      "HAI.FC\n",
      "['A/Brisbane/10/2007' 'A/Brisbane/59/2007' 'B/Florida/4/2006']\n",
      "exporting GSE48023.SDY1276, strain no. 0: A_Brisbane_10_2007, day: HAI.FC\n"
     ]
    },
    {
     "name": "stderr",
     "output_type": "stream",
     "text": [
      "[NbConvertApp] Converting notebook export/GSE48023.SDY1276_A_Brisbane_10_2007_HAI.FC_discard_seroprotected.ipynb to html\n",
      "[NbConvertApp] WARNING | Alternative text is missing on 6 image(s).\n",
      "[NbConvertApp] Writing 817428 bytes to export/GSE48023.SDY1276_A_Brisbane_10_2007_HAI.FC_discard_seroprotected.html\n"
     ]
    },
    {
     "name": "stdout",
     "output_type": "stream",
     "text": [
      "exporting GSE48023.SDY1276, strain no. 1: A_Brisbane_59_2007, day: HAI.FC\n"
     ]
    },
    {
     "name": "stderr",
     "output_type": "stream",
     "text": [
      "[NbConvertApp] Converting notebook export/GSE48023.SDY1276_A_Brisbane_59_2007_HAI.FC_discard_seroprotected.ipynb to html\n",
      "[NbConvertApp] WARNING | Alternative text is missing on 6 image(s).\n",
      "[NbConvertApp] Writing 837764 bytes to export/GSE48023.SDY1276_A_Brisbane_59_2007_HAI.FC_discard_seroprotected.html\n"
     ]
    },
    {
     "name": "stdout",
     "output_type": "stream",
     "text": [
      "exporting GSE48023.SDY1276, strain no. 2: B_Florida_4_2006, day: HAI.FC\n"
     ]
    },
    {
     "name": "stderr",
     "output_type": "stream",
     "text": [
      "[NbConvertApp] Converting notebook export/GSE48023.SDY1276_B_Florida_4_2006_HAI.FC_discard_seroprotected.ipynb to html\n",
      "[NbConvertApp] WARNING | Alternative text is missing on 6 image(s).\n",
      "[NbConvertApp] Writing 819002 bytes to export/GSE48023.SDY1276_B_Florida_4_2006_HAI.FC_discard_seroprotected.html\n"
     ]
    },
    {
     "name": "stdout",
     "output_type": "stream",
     "text": [
      "HAI.D28\n",
      "['B/Florida/4/2006' 'A/Brisbane/10/2007' 'A/Brisbane/59/2007']\n",
      "exporting GSE48023.SDY1276, strain no. 0: B_Florida_4_2006, day: HAI.D28\n"
     ]
    },
    {
     "name": "stderr",
     "output_type": "stream",
     "text": [
      "[NbConvertApp] Converting notebook export/GSE48023.SDY1276_B_Florida_4_2006_HAI.D28_discard_seroprotected.ipynb to html\n",
      "[NbConvertApp] WARNING | Alternative text is missing on 6 image(s).\n",
      "[NbConvertApp] Writing 819371 bytes to export/GSE48023.SDY1276_B_Florida_4_2006_HAI.D28_discard_seroprotected.html\n"
     ]
    },
    {
     "name": "stdout",
     "output_type": "stream",
     "text": [
      "exporting GSE48023.SDY1276, strain no. 1: A_Brisbane_10_2007, day: HAI.D28\n"
     ]
    },
    {
     "name": "stderr",
     "output_type": "stream",
     "text": [
      "[NbConvertApp] Converting notebook export/GSE48023.SDY1276_A_Brisbane_10_2007_HAI.D28_discard_seroprotected.ipynb to html\n",
      "[NbConvertApp] WARNING | Alternative text is missing on 6 image(s).\n",
      "[NbConvertApp] Writing 832149 bytes to export/GSE48023.SDY1276_A_Brisbane_10_2007_HAI.D28_discard_seroprotected.html\n"
     ]
    },
    {
     "name": "stdout",
     "output_type": "stream",
     "text": [
      "exporting GSE48023.SDY1276, strain no. 2: A_Brisbane_59_2007, day: HAI.D28\n"
     ]
    },
    {
     "name": "stderr",
     "output_type": "stream",
     "text": [
      "[NbConvertApp] Converting notebook export/GSE48023.SDY1276_A_Brisbane_59_2007_HAI.D28_discard_seroprotected.ipynb to html\n",
      "[NbConvertApp] WARNING | Alternative text is missing on 6 image(s).\n",
      "[NbConvertApp] Writing 844129 bytes to export/GSE48023.SDY1276_A_Brisbane_59_2007_HAI.D28_discard_seroprotected.html\n"
     ]
    },
    {
     "name": "stdout",
     "output_type": "stream",
     "text": [
      "GSE48018.SDY1276\n",
      "HAI.D28\n",
      "['A/Brisbane/10/2007' 'A/Brisbane/59/2007' 'B/Florida/4/2006']\n",
      "exporting GSE48018.SDY1276, strain no. 0: A_Brisbane_10_2007, day: HAI.D28\n"
     ]
    },
    {
     "name": "stderr",
     "output_type": "stream",
     "text": [
      "[NbConvertApp] Converting notebook export/GSE48018.SDY1276_A_Brisbane_10_2007_HAI.D28_discard_seroprotected.ipynb to html\n",
      "[NbConvertApp] WARNING | Alternative text is missing on 6 image(s).\n",
      "[NbConvertApp] Writing 832529 bytes to export/GSE48018.SDY1276_A_Brisbane_10_2007_HAI.D28_discard_seroprotected.html\n"
     ]
    },
    {
     "name": "stdout",
     "output_type": "stream",
     "text": [
      "exporting GSE48018.SDY1276, strain no. 1: A_Brisbane_59_2007, day: HAI.D28\n"
     ]
    },
    {
     "name": "stderr",
     "output_type": "stream",
     "text": [
      "[NbConvertApp] Converting notebook export/GSE48018.SDY1276_A_Brisbane_59_2007_HAI.D28_discard_seroprotected.ipynb to html\n",
      "[NbConvertApp] WARNING | Alternative text is missing on 6 image(s).\n",
      "[NbConvertApp] Writing 836789 bytes to export/GSE48018.SDY1276_A_Brisbane_59_2007_HAI.D28_discard_seroprotected.html\n"
     ]
    },
    {
     "name": "stdout",
     "output_type": "stream",
     "text": [
      "exporting GSE48018.SDY1276, strain no. 2: B_Florida_4_2006, day: HAI.D28\n"
     ]
    },
    {
     "name": "stderr",
     "output_type": "stream",
     "text": [
      "[NbConvertApp] Converting notebook export/GSE48018.SDY1276_B_Florida_4_2006_HAI.D28_discard_seroprotected.ipynb to html\n",
      "[NbConvertApp] WARNING | Alternative text is missing on 6 image(s).\n",
      "[NbConvertApp] Writing 826499 bytes to export/GSE48018.SDY1276_B_Florida_4_2006_HAI.D28_discard_seroprotected.html\n"
     ]
    },
    {
     "name": "stdout",
     "output_type": "stream",
     "text": [
      "HAI.FC\n",
      "['A/Brisbane/10/2007' 'A/Brisbane/59/2007' 'B/Florida/4/2006']\n",
      "exporting GSE48018.SDY1276, strain no. 0: A_Brisbane_10_2007, day: HAI.FC\n"
     ]
    },
    {
     "name": "stderr",
     "output_type": "stream",
     "text": [
      "[NbConvertApp] Converting notebook export/GSE48018.SDY1276_A_Brisbane_10_2007_HAI.FC_discard_seroprotected.ipynb to html\n",
      "[NbConvertApp] WARNING | Alternative text is missing on 6 image(s).\n",
      "[NbConvertApp] Writing 824324 bytes to export/GSE48018.SDY1276_A_Brisbane_10_2007_HAI.FC_discard_seroprotected.html\n"
     ]
    },
    {
     "name": "stdout",
     "output_type": "stream",
     "text": [
      "exporting GSE48018.SDY1276, strain no. 1: A_Brisbane_59_2007, day: HAI.FC\n"
     ]
    },
    {
     "name": "stderr",
     "output_type": "stream",
     "text": [
      "[NbConvertApp] Converting notebook export/GSE48018.SDY1276_A_Brisbane_59_2007_HAI.FC_discard_seroprotected.ipynb to html\n",
      "[NbConvertApp] WARNING | Alternative text is missing on 6 image(s).\n",
      "[NbConvertApp] Writing 828680 bytes to export/GSE48018.SDY1276_A_Brisbane_59_2007_HAI.FC_discard_seroprotected.html\n"
     ]
    },
    {
     "name": "stdout",
     "output_type": "stream",
     "text": [
      "exporting GSE48018.SDY1276, strain no. 2: B_Florida_4_2006, day: HAI.FC\n"
     ]
    },
    {
     "name": "stderr",
     "output_type": "stream",
     "text": [
      "[NbConvertApp] Converting notebook export/GSE48018.SDY1276_B_Florida_4_2006_HAI.FC_discard_seroprotected.ipynb to html\n",
      "[NbConvertApp] WARNING | Alternative text is missing on 6 image(s).\n",
      "[NbConvertApp] Writing 826354 bytes to export/GSE48018.SDY1276_B_Florida_4_2006_HAI.FC_discard_seroprotected.html\n"
     ]
    },
    {
     "name": "stdout",
     "output_type": "stream",
     "text": [
      "GSE41080.SDY212\n",
      "FC.HAI\n",
      "['B/Florida/4/2006' 'A/Brisbane/10/2007' 'A/Brisbane/59/2007']\n",
      "exporting GSE41080.SDY212, strain no. 0: B_Florida_4_2006, day: FC.HAI\n"
     ]
    },
    {
     "name": "stderr",
     "output_type": "stream",
     "text": [
      "[NbConvertApp] Converting notebook export/GSE41080.SDY212_B_Florida_4_2006_FC.HAI_discard_seroprotected.ipynb to html\n",
      "[NbConvertApp] WARNING | Alternative text is missing on 6 image(s).\n",
      "[NbConvertApp] Writing 774916 bytes to export/GSE41080.SDY212_B_Florida_4_2006_FC.HAI_discard_seroprotected.html\n"
     ]
    },
    {
     "name": "stdout",
     "output_type": "stream",
     "text": [
      "exporting GSE41080.SDY212, strain no. 1: A_Brisbane_10_2007, day: FC.HAI\n"
     ]
    },
    {
     "name": "stderr",
     "output_type": "stream",
     "text": [
      "[NbConvertApp] Converting notebook export/GSE41080.SDY212_A_Brisbane_10_2007_FC.HAI_discard_seroprotected.ipynb to html\n",
      "[NbConvertApp] WARNING | Alternative text is missing on 6 image(s).\n",
      "[NbConvertApp] Writing 775674 bytes to export/GSE41080.SDY212_A_Brisbane_10_2007_FC.HAI_discard_seroprotected.html\n"
     ]
    },
    {
     "name": "stdout",
     "output_type": "stream",
     "text": [
      "exporting GSE41080.SDY212, strain no. 2: A_Brisbane_59_2007, day: FC.HAI\n"
     ]
    },
    {
     "name": "stderr",
     "output_type": "stream",
     "text": [
      "[NbConvertApp] Converting notebook export/GSE41080.SDY212_A_Brisbane_59_2007_FC.HAI_discard_seroprotected.ipynb to html\n",
      "[NbConvertApp] WARNING | Alternative text is missing on 6 image(s).\n",
      "[NbConvertApp] Writing 767062 bytes to export/GSE41080.SDY212_A_Brisbane_59_2007_FC.HAI_discard_seroprotected.html\n"
     ]
    },
    {
     "name": "stdout",
     "output_type": "stream",
     "text": [
      "HAI.D28\n",
      "['A/Brisbane/10/2007' 'B/Florida/4/2006' 'A/Brisbane/59/2007']\n",
      "exporting GSE41080.SDY212, strain no. 0: A_Brisbane_10_2007, day: HAI.D28\n"
     ]
    },
    {
     "name": "stderr",
     "output_type": "stream",
     "text": [
      "[NbConvertApp] Converting notebook export/GSE41080.SDY212_A_Brisbane_10_2007_HAI.D28_discard_seroprotected.ipynb to html\n",
      "[NbConvertApp] WARNING | Alternative text is missing on 6 image(s).\n",
      "[NbConvertApp] Writing 775339 bytes to export/GSE41080.SDY212_A_Brisbane_10_2007_HAI.D28_discard_seroprotected.html\n"
     ]
    },
    {
     "name": "stdout",
     "output_type": "stream",
     "text": [
      "exporting GSE41080.SDY212, strain no. 1: B_Florida_4_2006, day: HAI.D28\n"
     ]
    },
    {
     "name": "stderr",
     "output_type": "stream",
     "text": [
      "[NbConvertApp] Converting notebook export/GSE41080.SDY212_B_Florida_4_2006_HAI.D28_discard_seroprotected.ipynb to html\n",
      "[NbConvertApp] WARNING | Alternative text is missing on 6 image(s).\n",
      "[NbConvertApp] Writing 772937 bytes to export/GSE41080.SDY212_B_Florida_4_2006_HAI.D28_discard_seroprotected.html\n"
     ]
    },
    {
     "name": "stdout",
     "output_type": "stream",
     "text": [
      "exporting GSE41080.SDY212, strain no. 2: A_Brisbane_59_2007, day: HAI.D28\n"
     ]
    },
    {
     "name": "stderr",
     "output_type": "stream",
     "text": [
      "[NbConvertApp] Converting notebook export/GSE41080.SDY212_A_Brisbane_59_2007_HAI.D28_discard_seroprotected.ipynb to html\n",
      "[NbConvertApp] WARNING | Alternative text is missing on 6 image(s).\n",
      "[NbConvertApp] Writing 769195 bytes to export/GSE41080.SDY212_A_Brisbane_59_2007_HAI.D28_discard_seroprotected.html\n"
     ]
    },
    {
     "name": "stdout",
     "output_type": "stream",
     "text": [
      "GSE59743.SDY400\n",
      "FC.HAI\n",
      "['B/Wisonsin/01/2010' 'A/Victoria/361/2011' 'A/California/7/2009']\n",
      "exporting GSE59743.SDY400, strain no. 0: B_Wisonsin_01_2010, day: FC.HAI\n"
     ]
    },
    {
     "name": "stderr",
     "output_type": "stream",
     "text": [
      "[NbConvertApp] Converting notebook export/GSE59743.SDY400_B_Wisonsin_01_2010_FC.HAI_discard_seroprotected.ipynb to html\n",
      "[NbConvertApp] WARNING | Alternative text is missing on 6 image(s).\n",
      "[NbConvertApp] Writing 749213 bytes to export/GSE59743.SDY400_B_Wisonsin_01_2010_FC.HAI_discard_seroprotected.html\n"
     ]
    },
    {
     "name": "stdout",
     "output_type": "stream",
     "text": [
      "exporting GSE59743.SDY400, strain no. 1: A_Victoria_361_2011, day: FC.HAI\n"
     ]
    },
    {
     "name": "stderr",
     "output_type": "stream",
     "text": [
      "[NbConvertApp] Converting notebook export/GSE59743.SDY400_A_Victoria_361_2011_FC.HAI_discard_seroprotected.ipynb to html\n",
      "[NbConvertApp] WARNING | Alternative text is missing on 6 image(s).\n",
      "[NbConvertApp] Writing 747110 bytes to export/GSE59743.SDY400_A_Victoria_361_2011_FC.HAI_discard_seroprotected.html\n"
     ]
    },
    {
     "name": "stdout",
     "output_type": "stream",
     "text": [
      "exporting GSE59743.SDY400, strain no. 2: A_California_7_2009, day: FC.HAI\n"
     ]
    },
    {
     "name": "stderr",
     "output_type": "stream",
     "text": [
      "[NbConvertApp] Converting notebook export/GSE59743.SDY400_A_California_7_2009_FC.HAI_discard_seroprotected.ipynb to html\n",
      "[NbConvertApp] WARNING | Alternative text is missing on 6 image(s).\n",
      "[NbConvertApp] Writing 761022 bytes to export/GSE59743.SDY400_A_California_7_2009_FC.HAI_discard_seroprotected.html\n"
     ]
    },
    {
     "name": "stdout",
     "output_type": "stream",
     "text": [
      "HAI.D28\n",
      "['B/Wisonsin/01/2010' 'A/Victoria/361/2011' 'A/California/7/2009']\n",
      "exporting GSE59743.SDY400, strain no. 0: B_Wisonsin_01_2010, day: HAI.D28\n"
     ]
    },
    {
     "name": "stderr",
     "output_type": "stream",
     "text": [
      "[NbConvertApp] Converting notebook export/GSE59743.SDY400_B_Wisonsin_01_2010_HAI.D28_discard_seroprotected.ipynb to html\n",
      "[NbConvertApp] WARNING | Alternative text is missing on 6 image(s).\n",
      "[NbConvertApp] Writing 740246 bytes to export/GSE59743.SDY400_B_Wisonsin_01_2010_HAI.D28_discard_seroprotected.html\n"
     ]
    },
    {
     "name": "stdout",
     "output_type": "stream",
     "text": [
      "exporting GSE59743.SDY400, strain no. 1: A_Victoria_361_2011, day: HAI.D28\n"
     ]
    },
    {
     "name": "stderr",
     "output_type": "stream",
     "text": [
      "[NbConvertApp] Converting notebook export/GSE59743.SDY400_A_Victoria_361_2011_HAI.D28_discard_seroprotected.ipynb to html\n",
      "[NbConvertApp] WARNING | Alternative text is missing on 6 image(s).\n",
      "[NbConvertApp] Writing 754611 bytes to export/GSE59743.SDY400_A_Victoria_361_2011_HAI.D28_discard_seroprotected.html\n"
     ]
    },
    {
     "name": "stdout",
     "output_type": "stream",
     "text": [
      "exporting GSE59743.SDY400, strain no. 2: A_California_7_2009, day: HAI.D28\n"
     ]
    },
    {
     "name": "stderr",
     "output_type": "stream",
     "text": [
      "[NbConvertApp] Converting notebook export/GSE59743.SDY400_A_California_7_2009_HAI.D28_discard_seroprotected.ipynb to html\n",
      "[NbConvertApp] WARNING | Alternative text is missing on 6 image(s).\n",
      "[NbConvertApp] Writing 734007 bytes to export/GSE59743.SDY400_A_California_7_2009_HAI.D28_discard_seroprotected.html\n"
     ]
    },
    {
     "name": "stdout",
     "output_type": "stream",
     "text": [
      "GSE59635.SDY63\n",
      "FC\n",
      "['B/Brisbane/60/2008' 'A/Perth/16/2009' 'A/California/7/2009']\n",
      "exporting GSE59635.SDY63, strain no. 0: B_Brisbane_60_2008, day: FC\n"
     ]
    },
    {
     "name": "stderr",
     "output_type": "stream",
     "text": [
      "[NbConvertApp] Converting notebook export/GSE59635.SDY63_B_Brisbane_60_2008_FC_discard_seroprotected.ipynb to html\n",
      "[NbConvertApp] WARNING | Alternative text is missing on 6 image(s).\n",
      "[NbConvertApp] Writing 709476 bytes to export/GSE59635.SDY63_B_Brisbane_60_2008_FC_discard_seroprotected.html\n"
     ]
    },
    {
     "name": "stdout",
     "output_type": "stream",
     "text": [
      "exporting GSE59635.SDY63, strain no. 1: A_Perth_16_2009, day: FC\n"
     ]
    },
    {
     "name": "stderr",
     "output_type": "stream",
     "text": [
      "[NbConvertApp] Converting notebook export/GSE59635.SDY63_A_Perth_16_2009_FC_discard_seroprotected.ipynb to html\n",
      "[NbConvertApp] WARNING | Alternative text is missing on 6 image(s).\n",
      "[NbConvertApp] Writing 713625 bytes to export/GSE59635.SDY63_A_Perth_16_2009_FC_discard_seroprotected.html\n"
     ]
    },
    {
     "name": "stdout",
     "output_type": "stream",
     "text": [
      "exporting GSE59635.SDY63, strain no. 2: A_California_7_2009, day: FC\n"
     ]
    },
    {
     "name": "stderr",
     "output_type": "stream",
     "text": [
      "[NbConvertApp] Converting notebook export/GSE59635.SDY63_A_California_7_2009_FC_discard_seroprotected.ipynb to html\n",
      "[NbConvertApp] WARNING | Alternative text is missing on 6 image(s).\n",
      "[NbConvertApp] Writing 716665 bytes to export/GSE59635.SDY63_A_California_7_2009_FC_discard_seroprotected.html\n"
     ]
    },
    {
     "name": "stdout",
     "output_type": "stream",
     "text": [
      "HAI.D28\n",
      "['A/Perth/16/2009' 'B/Brisbane/60/2008' 'A/California/7/2009']\n",
      "exporting GSE59635.SDY63, strain no. 0: A_Perth_16_2009, day: HAI.D28\n"
     ]
    },
    {
     "name": "stderr",
     "output_type": "stream",
     "text": [
      "[NbConvertApp] Converting notebook export/GSE59635.SDY63_A_Perth_16_2009_HAI.D28_discard_seroprotected.ipynb to html\n",
      "[NbConvertApp] WARNING | Alternative text is missing on 6 image(s).\n",
      "[NbConvertApp] Writing 714658 bytes to export/GSE59635.SDY63_A_Perth_16_2009_HAI.D28_discard_seroprotected.html\n"
     ]
    },
    {
     "name": "stdout",
     "output_type": "stream",
     "text": [
      "exporting GSE59635.SDY63, strain no. 1: B_Brisbane_60_2008, day: HAI.D28\n"
     ]
    },
    {
     "name": "stderr",
     "output_type": "stream",
     "text": [
      "[NbConvertApp] Converting notebook export/GSE59635.SDY63_B_Brisbane_60_2008_HAI.D28_discard_seroprotected.ipynb to html\n",
      "[NbConvertApp] WARNING | Alternative text is missing on 6 image(s).\n",
      "[NbConvertApp] Writing 723097 bytes to export/GSE59635.SDY63_B_Brisbane_60_2008_HAI.D28_discard_seroprotected.html\n"
     ]
    },
    {
     "name": "stdout",
     "output_type": "stream",
     "text": [
      "exporting GSE59635.SDY63, strain no. 2: A_California_7_2009, day: HAI.D28\n"
     ]
    },
    {
     "name": "stderr",
     "output_type": "stream",
     "text": [
      "[NbConvertApp] Converting notebook export/GSE59635.SDY63_A_California_7_2009_HAI.D28_discard_seroprotected.ipynb to html\n",
      "[NbConvertApp] WARNING | Alternative text is missing on 6 image(s).\n",
      "[NbConvertApp] Writing 714798 bytes to export/GSE59635.SDY63_A_California_7_2009_HAI.D28_discard_seroprotected.html\n"
     ]
    },
    {
     "name": "stdout",
     "output_type": "stream",
     "text": [
      "GSE59654.SDY404\n",
      "HAI.D28\n",
      "['A/Perth/16/2009' 'A/California/7/2009' 'B/Brisbane/60/2008']\n",
      "exporting GSE59654.SDY404, strain no. 0: A_Perth_16_2009, day: HAI.D28\n"
     ]
    },
    {
     "name": "stderr",
     "output_type": "stream",
     "text": [
      "[NbConvertApp] Converting notebook export/GSE59654.SDY404_A_Perth_16_2009_HAI.D28_discard_seroprotected.ipynb to html\n",
      "[NbConvertApp] WARNING | Alternative text is missing on 6 image(s).\n",
      "[NbConvertApp] Writing 748956 bytes to export/GSE59654.SDY404_A_Perth_16_2009_HAI.D28_discard_seroprotected.html\n"
     ]
    },
    {
     "name": "stdout",
     "output_type": "stream",
     "text": [
      "exporting GSE59654.SDY404, strain no. 1: A_California_7_2009, day: HAI.D28\n"
     ]
    },
    {
     "name": "stderr",
     "output_type": "stream",
     "text": [
      "[NbConvertApp] Converting notebook export/GSE59654.SDY404_A_California_7_2009_HAI.D28_discard_seroprotected.ipynb to html\n",
      "[NbConvertApp] WARNING | Alternative text is missing on 6 image(s).\n",
      "[NbConvertApp] Writing 748376 bytes to export/GSE59654.SDY404_A_California_7_2009_HAI.D28_discard_seroprotected.html\n"
     ]
    },
    {
     "name": "stdout",
     "output_type": "stream",
     "text": [
      "exporting GSE59654.SDY404, strain no. 2: B_Brisbane_60_2008, day: HAI.D28\n"
     ]
    },
    {
     "name": "stderr",
     "output_type": "stream",
     "text": [
      "[NbConvertApp] Converting notebook export/GSE59654.SDY404_B_Brisbane_60_2008_HAI.D28_discard_seroprotected.ipynb to html\n",
      "[NbConvertApp] WARNING | Alternative text is missing on 6 image(s).\n",
      "[NbConvertApp] Writing 756987 bytes to export/GSE59654.SDY404_B_Brisbane_60_2008_HAI.D28_discard_seroprotected.html\n"
     ]
    },
    {
     "name": "stdout",
     "output_type": "stream",
     "text": [
      "FC.HAI\n",
      "['A/Perth/16/2009' 'A/California/7/2009' 'B/Brisbane/60/2008']\n",
      "exporting GSE59654.SDY404, strain no. 0: A_Perth_16_2009, day: FC.HAI\n"
     ]
    },
    {
     "name": "stderr",
     "output_type": "stream",
     "text": [
      "[NbConvertApp] Converting notebook export/GSE59654.SDY404_A_Perth_16_2009_FC.HAI_discard_seroprotected.ipynb to html\n",
      "[NbConvertApp] WARNING | Alternative text is missing on 6 image(s).\n",
      "[NbConvertApp] Writing 758391 bytes to export/GSE59654.SDY404_A_Perth_16_2009_FC.HAI_discard_seroprotected.html\n"
     ]
    },
    {
     "name": "stdout",
     "output_type": "stream",
     "text": [
      "exporting GSE59654.SDY404, strain no. 1: A_California_7_2009, day: FC.HAI\n"
     ]
    },
    {
     "name": "stderr",
     "output_type": "stream",
     "text": [
      "[NbConvertApp] Converting notebook export/GSE59654.SDY404_A_California_7_2009_FC.HAI_discard_seroprotected.ipynb to html\n",
      "[NbConvertApp] WARNING | Alternative text is missing on 6 image(s).\n",
      "[NbConvertApp] Writing 754475 bytes to export/GSE59654.SDY404_A_California_7_2009_FC.HAI_discard_seroprotected.html\n"
     ]
    },
    {
     "name": "stdout",
     "output_type": "stream",
     "text": [
      "exporting GSE59654.SDY404, strain no. 2: B_Brisbane_60_2008, day: FC.HAI\n"
     ]
    },
    {
     "name": "stderr",
     "output_type": "stream",
     "text": [
      "[NbConvertApp] Converting notebook export/GSE59654.SDY404_B_Brisbane_60_2008_FC.HAI_discard_seroprotected.ipynb to html\n",
      "[NbConvertApp] WARNING | Alternative text is missing on 6 image(s).\n",
      "[NbConvertApp] Writing 749410 bytes to export/GSE59654.SDY404_B_Brisbane_60_2008_FC.HAI_discard_seroprotected.html\n"
     ]
    }
   ],
   "source": [
    "# Loop through each combination of dataset and strain\n",
    "if bAdjustMFC == False:\n",
    "    for dataset_name in dataset_names:\n",
    "            dataset = datasets.loc[datasets[dataset_col] == dataset_name]\n",
    "            dataset_df = filtered_df.loc[filtered_df[dataset_col] == dataset_name]\n",
    "            print(dataset_name)\n",
    "            days = dataset[\"Days\"].iloc[0]\n",
    "            for day in days:\n",
    "                    print(day)\n",
    "                    day_mask = dataset_df[day_col] == day\n",
    "                    name_mask = dataset_df[dataset_col] == dataset_name\n",
    "                    data = dataset_df.loc[(name_mask) & (day_mask)].reset_index()\n",
    "                    strains = data[strain_col].unique()\n",
    "                    print(strains)\n",
    "                    for strain_index in range(len(strains)):\n",
    "                            strain_name = strains[strain_index].replace(\"/\", \"_\").replace(\" \", \"_\")\n",
    "                            print(f'exporting {dataset_name}, strain no. {strain_index}: {strain_name}, day: {day}')\n",
    "                            # Define parameters for dataset and strain\n",
    "                            parameters.update({\n",
    "                                \"dataset_name\": dataset_name,\n",
    "                                \"strain_index\": strain_index,\n",
    "                                \"day\": day\n",
    "                            })\n",
    "                            # EXECUTE the notebook with specific parameters\n",
    "                            output_notebook_name = f\"{dataset_name}_{strain_name}_{day}{seroprotected_str}{age_restrict_str}\"\n",
    "                            output_notebook = f\"export/{output_notebook_name}.ipynb\"\n",
    "                            try:\n",
    "                                    pm.execute_notebook(\n",
    "                                            input_path=\"vaccines-4.ipynb\",\n",
    "                                            output_path=output_notebook,\n",
    "                                            parameters=parameters,\n",
    "                                            prepare_only=True\n",
    "                                    )\n",
    "                            except:\n",
    "                                    print (f\"******\\nCaught exception when runnnig {output_notebook}\\n******\\n\")\n",
    "                            # Export the executed notebook to HTML\n",
    "                            output_html = f\"{output_notebook_name}.html\"\n",
    "                            os.system(f\"jupyter nbconvert --execute --no-input --to html {output_notebook} --output {output_html}\")"
   ]
  },
  {
   "cell_type": "code",
   "execution_count": 11,
   "id": "5a7519a1",
   "metadata": {},
   "outputs": [],
   "source": [
    "if bAdjustMFC == True:\n",
    "    for dataset_name in dataset_names:\n",
    "            dataset = datasets.loc[datasets[dataset_col] == dataset_name]\n",
    "            filtered_df = filtered_df.loc[filtered_df[dataset_col] == dataset_name]\n",
    "            print(dataset_name)\n",
    "            strain_name = \"Influenza\"\n",
    "            print(f'exporting {dataset_name}, using adjusted MFC')\n",
    "            # Define parameters for dataset and strain\n",
    "            parameters.update({\n",
    "                \"day0\": dataset[\"Day0\"].iloc[0],\n",
    "                \"dayMFC\": dataset[\"DayMFC\"].iloc[0]\n",
    "            })\n",
    "\n",
    "            # EXECUTE the notebook with specific parameters\n",
    "            day = 'Adjusted_MFC'\n",
    "            output_notebook_name = f\"{dataset_name}_{strain_name}_{day}{seroprotected_str}{age_restrict_str}\"\n",
    "            output_notebook = f\"export/{output_notebook_name}.ipynb\"\n",
    "            try:\n",
    "                pm.execute_notebook(\n",
    "                        input_path=\"vaccines-4.ipynb\",\n",
    "                        output_path=output_notebook,\n",
    "                        parameters=parameters,\n",
    "                        prepare_only=True\n",
    "                )\n",
    "            except Exception as e:\n",
    "                print (f\"******\\nCaught exception when runnnig {output_notebook}\\n******\\n\")\n",
    "                print(e)\n",
    "            # Export the executed notebook to HTML\n",
    "            output_html = f\"{output_notebook_name}.html\"\n",
    "            os.system(f\"jupyter nbconvert --execute --no-input --to html {output_notebook} --output {output_html}\")"
   ]
  }
 ],
 "metadata": {
  "kernelspec": {
   "display_name": "Python 3 (ipykernel)",
   "language": "python",
   "name": "python3"
  }
 },
 "nbformat": 4,
 "nbformat_minor": 5
}
