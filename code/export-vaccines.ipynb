{
 "cells": [
  {
   "cell_type": "code",
   "execution_count": 7,
   "id": "510dd943",
   "metadata": {},
   "outputs": [
    {
     "name": "stdout",
     "output_type": "stream",
     "text": [
      "/home/yonatan/.local/share/jupyter/runtime/kernel-v2-185309nADPHJABIRzS.json\n"
     ]
    }
   ],
   "source": [
    "from jupyter_client import find_connection_file\n",
    "connection_file = find_connection_file()\n",
    "print(connection_file)"
   ]
  },
  {
   "cell_type": "code",
   "execution_count": 8,
   "id": "d758e1ec",
   "metadata": {},
   "outputs": [],
   "source": [
    "import papermill as pm\n",
    "import pandas as pd\n",
    "import os"
   ]
  },
  {
   "cell_type": "code",
   "execution_count": 9,
   "id": "686e01ad",
   "metadata": {
    "lines_to_next_cell": 2
   },
   "outputs": [],
   "source": [
    "dataset_col = \"Dataset\"\n",
    "uid_col = \"uid\"\n",
    "age_col = \"Age\"\n",
    "day_col = \"Day\"\n",
    "response_col = \"Response\"\n",
    "immage_col = \"IMMAGE\"\n",
    "strain_col = 'Strain'"
   ]
  },
  {
   "cell_type": "code",
   "execution_count": 10,
   "id": "d68f8fd6",
   "metadata": {},
   "outputs": [],
   "source": [
    "# Read in Data and drop missing values\n",
    "df = pd.read_csv(\"../data/all_vaccines.csv\")\n",
    "df.dropna(inplace=True, subset=[immage_col, dataset_col, day_col, response_col])\n",
    "\n",
    "dataset_names = df.Dataset.unique()\n",
    "\n",
    "# Plot distribution of N values\n",
    "N_vals = df[[dataset_col, uid_col]].groupby(dataset_col, as_index=False)[uid_col].nunique()\n",
    "N_vals = N_vals.rename(columns={uid_col: \"N\"})\n",
    "\n",
    "# Narrow to large datasets only\n",
    "N_vals = N_vals.loc[N_vals[\"N\"]> 70]\n",
    "datasets = df.loc[df[\"Dataset\"].isin(N_vals[\"Dataset\"])]\n",
    "dataset_names = datasets[\"Dataset\"].unique()"
   ]
  },
  {
   "cell_type": "code",
   "execution_count": 11,
   "id": "61171822",
   "metadata": {},
   "outputs": [],
   "source": [
    "# Collect day info from papers here\n",
    "dataset_day_dict = {}\n",
    "\n",
    "dataset_day_dict[\"GSE41080.SDY212\"] = \"HAI.D28\"\n",
    "dataset_day_dict[\"GSE48018.SDY1276\"] = \"nAb.D28\"\n",
    "dataset_day_dict[\"GSE48023.SDY1276\"] = \"nAb.D28\"\n",
    "dataset_day_dict[\"SDY67\"] = \"nAb.D28\""
   ]
  },
  {
   "cell_type": "code",
   "execution_count": 12,
   "id": "4b3ec783",
   "metadata": {
    "lines_to_next_cell": 2
   },
   "outputs": [
    {
     "name": "stdout",
     "output_type": "stream",
     "text": [
      "exporting GSE41080.SDY212, strain no. 0: A_Brisbane_10_2007\n"
     ]
    },
    {
     "data": {
      "application/vnd.jupyter.widget-view+json": {
       "model_id": "af56cdd6ee9d49339892f8b96f5fc330",
       "version_major": 2,
       "version_minor": 0
      },
      "text/plain": [
       "Executing:   0%|          | 0/41 [00:00<?, ?cell/s]"
      ]
     },
     "metadata": {},
     "output_type": "display_data"
    },
    {
     "name": "stderr",
     "output_type": "stream",
     "text": [
      "[NbConvertApp] Converting notebook export/GSE41080.SDY212_A_Brisbane_10_2007_analysis.ipynb to html\n"
     ]
    },
    {
     "name": "stdout",
     "output_type": "stream",
     "text": [
      "exporting GSE41080.SDY212, strain no. 1: B_Florida_4_2006\n"
     ]
    },
    {
     "name": "stderr",
     "output_type": "stream",
     "text": [
      "[NbConvertApp] WARNING | Alternative text is missing on 13 image(s).\n",
      "[NbConvertApp] Writing 1297305 bytes to export/GSE41080.SDY212_A_Brisbane_10_2007_analysis.html\n"
     ]
    },
    {
     "data": {
      "application/vnd.jupyter.widget-view+json": {
       "model_id": "98045ac43dba4f1bb3f212d66578a717",
       "version_major": 2,
       "version_minor": 0
      },
      "text/plain": [
       "Executing:   0%|          | 0/41 [00:00<?, ?cell/s]"
      ]
     },
     "metadata": {},
     "output_type": "display_data"
    },
    {
     "name": "stderr",
     "output_type": "stream",
     "text": [
      "[NbConvertApp] Converting notebook export/GSE41080.SDY212_B_Florida_4_2006_analysis.ipynb to html\n"
     ]
    },
    {
     "name": "stdout",
     "output_type": "stream",
     "text": [
      "exporting GSE41080.SDY212, strain no. 2: A_Brisbane_59_2007\n"
     ]
    },
    {
     "name": "stderr",
     "output_type": "stream",
     "text": [
      "[NbConvertApp] WARNING | Alternative text is missing on 13 image(s).\n",
      "[NbConvertApp] Writing 1257715 bytes to export/GSE41080.SDY212_B_Florida_4_2006_analysis.html\n"
     ]
    },
    {
     "data": {
      "application/vnd.jupyter.widget-view+json": {
       "model_id": "5a9170400cf643a39d66208ae9c209c7",
       "version_major": 2,
       "version_minor": 0
      },
      "text/plain": [
       "Executing:   0%|          | 0/41 [00:00<?, ?cell/s]"
      ]
     },
     "metadata": {},
     "output_type": "display_data"
    },
    {
     "name": "stderr",
     "output_type": "stream",
     "text": [
      "[NbConvertApp] Converting notebook export/GSE41080.SDY212_A_Brisbane_59_2007_analysis.ipynb to html\n"
     ]
    },
    {
     "name": "stdout",
     "output_type": "stream",
     "text": [
      "exporting GSE48018.SDY1276, strain no. 0: A_Brisbane_10_2007\n"
     ]
    },
    {
     "name": "stderr",
     "output_type": "stream",
     "text": [
      "[NbConvertApp] WARNING | Alternative text is missing on 13 image(s).\n",
      "[NbConvertApp] Writing 1294905 bytes to export/GSE41080.SDY212_A_Brisbane_59_2007_analysis.html\n"
     ]
    },
    {
     "data": {
      "application/vnd.jupyter.widget-view+json": {
       "model_id": "313ab4bda8ca452bba59ca19e96937f1",
       "version_major": 2,
       "version_minor": 0
      },
      "text/plain": [
       "Executing:   0%|          | 0/41 [00:00<?, ?cell/s]"
      ]
     },
     "metadata": {},
     "output_type": "display_data"
    },
    {
     "name": "stderr",
     "output_type": "stream",
     "text": [
      "[NbConvertApp] Converting notebook export/GSE48018.SDY1276_A_Brisbane_10_2007_analysis.ipynb to html\n"
     ]
    },
    {
     "name": "stdout",
     "output_type": "stream",
     "text": [
      "exporting GSE48018.SDY1276, strain no. 1: A_Brisbane_59_2007\n"
     ]
    },
    {
     "name": "stderr",
     "output_type": "stream",
     "text": [
      "[NbConvertApp] WARNING | Alternative text is missing on 13 image(s).\n",
      "[NbConvertApp] Writing 1357941 bytes to export/GSE48018.SDY1276_A_Brisbane_10_2007_analysis.html\n"
     ]
    },
    {
     "data": {
      "application/vnd.jupyter.widget-view+json": {
       "model_id": "889c1db970d24a5399a2323a97814424",
       "version_major": 2,
       "version_minor": 0
      },
      "text/plain": [
       "Executing:   0%|          | 0/41 [00:00<?, ?cell/s]"
      ]
     },
     "metadata": {},
     "output_type": "display_data"
    },
    {
     "name": "stderr",
     "output_type": "stream",
     "text": [
      "[NbConvertApp] Converting notebook export/GSE48018.SDY1276_A_Brisbane_59_2007_analysis.ipynb to html\n"
     ]
    },
    {
     "name": "stdout",
     "output_type": "stream",
     "text": [
      "exporting GSE48018.SDY1276, strain no. 2: B_Florida_4_2006\n"
     ]
    },
    {
     "name": "stderr",
     "output_type": "stream",
     "text": [
      "[NbConvertApp] WARNING | Alternative text is missing on 13 image(s).\n",
      "[NbConvertApp] Writing 1345675 bytes to export/GSE48018.SDY1276_A_Brisbane_59_2007_analysis.html\n"
     ]
    },
    {
     "data": {
      "application/vnd.jupyter.widget-view+json": {
       "model_id": "0dcaf4fc83794a309b188e9e3901b89b",
       "version_major": 2,
       "version_minor": 0
      },
      "text/plain": [
       "Executing:   0%|          | 0/41 [00:00<?, ?cell/s]"
      ]
     },
     "metadata": {},
     "output_type": "display_data"
    },
    {
     "name": "stderr",
     "output_type": "stream",
     "text": [
      "[NbConvertApp] Converting notebook export/GSE48018.SDY1276_B_Florida_4_2006_analysis.ipynb to html\n"
     ]
    },
    {
     "name": "stdout",
     "output_type": "stream",
     "text": [
      "exporting GSE48023.SDY1276, strain no. 0: A_Brisbane_10_2007\n"
     ]
    },
    {
     "name": "stderr",
     "output_type": "stream",
     "text": [
      "[NbConvertApp] WARNING | Alternative text is missing on 13 image(s).\n",
      "[NbConvertApp] Writing 1326432 bytes to export/GSE48018.SDY1276_B_Florida_4_2006_analysis.html\n"
     ]
    },
    {
     "data": {
      "application/vnd.jupyter.widget-view+json": {
       "model_id": "e46d021fb3224734ac1f39206853958b",
       "version_major": 2,
       "version_minor": 0
      },
      "text/plain": [
       "Executing:   0%|          | 0/41 [00:00<?, ?cell/s]"
      ]
     },
     "metadata": {},
     "output_type": "display_data"
    },
    {
     "name": "stderr",
     "output_type": "stream",
     "text": [
      "[NbConvertApp] Converting notebook export/GSE48023.SDY1276_A_Brisbane_10_2007_analysis.ipynb to html\n"
     ]
    },
    {
     "name": "stdout",
     "output_type": "stream",
     "text": [
      "exporting GSE48023.SDY1276, strain no. 1: A_Brisbane_59_2007\n"
     ]
    },
    {
     "name": "stderr",
     "output_type": "stream",
     "text": [
      "[NbConvertApp] WARNING | Alternative text is missing on 13 image(s).\n",
      "[NbConvertApp] Writing 1361488 bytes to export/GSE48023.SDY1276_A_Brisbane_10_2007_analysis.html\n"
     ]
    },
    {
     "data": {
      "application/vnd.jupyter.widget-view+json": {
       "model_id": "ca4eb7a7714c4b8aa45e8d1d760c79f9",
       "version_major": 2,
       "version_minor": 0
      },
      "text/plain": [
       "Executing:   0%|          | 0/41 [00:00<?, ?cell/s]"
      ]
     },
     "metadata": {},
     "output_type": "display_data"
    },
    {
     "name": "stderr",
     "output_type": "stream",
     "text": [
      "[NbConvertApp] Converting notebook export/GSE48023.SDY1276_A_Brisbane_59_2007_analysis.ipynb to html\n"
     ]
    },
    {
     "name": "stdout",
     "output_type": "stream",
     "text": [
      "exporting GSE48023.SDY1276, strain no. 2: B_Florida_4_2006\n"
     ]
    },
    {
     "name": "stderr",
     "output_type": "stream",
     "text": [
      "[NbConvertApp] WARNING | Alternative text is missing on 13 image(s).\n",
      "[NbConvertApp] Writing 1333168 bytes to export/GSE48023.SDY1276_A_Brisbane_59_2007_analysis.html\n"
     ]
    },
    {
     "data": {
      "application/vnd.jupyter.widget-view+json": {
       "model_id": "ee235e70273541de8cf450cc4da0b83b",
       "version_major": 2,
       "version_minor": 0
      },
      "text/plain": [
       "Executing:   0%|          | 0/41 [00:00<?, ?cell/s]"
      ]
     },
     "metadata": {},
     "output_type": "display_data"
    },
    {
     "name": "stderr",
     "output_type": "stream",
     "text": [
      "[NbConvertApp] Converting notebook export/GSE48023.SDY1276_B_Florida_4_2006_analysis.ipynb to html\n"
     ]
    },
    {
     "name": "stdout",
     "output_type": "stream",
     "text": [
      "exporting SDY67, strain no. 0: A_California_7_2009\n"
     ]
    },
    {
     "name": "stderr",
     "output_type": "stream",
     "text": [
      "[NbConvertApp] WARNING | Alternative text is missing on 13 image(s).\n",
      "[NbConvertApp] Writing 1308580 bytes to export/GSE48023.SDY1276_B_Florida_4_2006_analysis.html\n"
     ]
    },
    {
     "data": {
      "application/vnd.jupyter.widget-view+json": {
       "model_id": "d00aa4d3b2534ae585b80c8a3b3bb9a4",
       "version_major": 2,
       "version_minor": 0
      },
      "text/plain": [
       "Executing:   0%|          | 0/41 [00:00<?, ?cell/s]"
      ]
     },
     "metadata": {},
     "output_type": "display_data"
    },
    {
     "name": "stderr",
     "output_type": "stream",
     "text": [
      "[NbConvertApp] Converting notebook export/SDY67_A_California_7_2009_analysis.ipynb to html\n",
      "[NbConvertApp] WARNING | Alternative text is missing on 13 image(s).\n",
      "[NbConvertApp] Writing 1343885 bytes to export/SDY67_A_California_7_2009_analysis.html\n"
     ]
    }
   ],
   "source": [
    "# Loop through each combination of dataset and strain\n",
    "for dataset_name in dataset_names:\n",
    "        day_mask = datasets[day_col] == dataset_day_dict[dataset_name]\n",
    "        name_mask = datasets[dataset_col] == dataset_name\n",
    "        data = datasets.loc[(name_mask) & (day_mask)].reset_index()\n",
    "        strains = data[strain_col].unique()\n",
    "        for strain_index in range(len(strains)):\n",
    "            strain_name = strains[strain_index].replace(\"/\", \"_\")\n",
    "            print(f'exporting {dataset_name}, strain no. {strain_index}: {strain_name}')\n",
    "            # Define parameters for dataset and strain\n",
    "            parameters = {\"dataset_name\": dataset_name, \"strain_index\": strain_index}\n",
    "\n",
    "            # Execute the notebook with specific parameters\n",
    "            output_notebook = f\"export/{dataset_name}_{strain_name}_analysis.ipynb\"\n",
    "            pm.execute_notebook(\n",
    "                input_path=\"vaccines-3.ipynb\",\n",
    "                output_path=output_notebook,\n",
    "                parameters=parameters\n",
    "            )\n",
    "            # Export the executed notebook to HTML\n",
    "            output_html = f\"{dataset_name}_{strain_name}_analysis.html\"\n",
    "            os.system(f\"jupyter nbconvert --execute --no-input --to html {output_notebook} --output {output_html}\")"
   ]
  }
 ],
 "metadata": {
  "kernelspec": {
   "display_name": "Python 3 (ipykernel)",
   "language": "python",
   "name": "python3"
  },
  "language_info": {
   "codemirror_mode": {
    "name": "ipython",
    "version": 3
   },
   "file_extension": ".py",
   "mimetype": "text/x-python",
   "name": "python",
   "nbconvert_exporter": "python",
   "pygments_lexer": "ipython3",
   "version": "3.8.18"
  }
 },
 "nbformat": 4,
 "nbformat_minor": 5
}
