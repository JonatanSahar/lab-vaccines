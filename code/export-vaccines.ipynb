{
 "cells": [
  {
   "cell_type": "code",
   "execution_count": null,
   "id": "510dd943",
   "metadata": {},
   "outputs": [],
   "source": [
    "from jupyter_client import find_connection_file\n",
    "connection_file = find_connection_file()\n",
    "print(connection_file)"
   ]
  },
  {
   "cell_type": "code",
   "execution_count": null,
   "id": "d758e1ec",
   "metadata": {},
   "outputs": [],
   "source": [
    "import papermill as pm\n",
    "import pandas as pd\n",
    "import os"
   ]
  },
  {
   "cell_type": "code",
   "execution_count": null,
   "id": "686e01ad",
   "metadata": {
    "lines_to_next_cell": 2
   },
   "outputs": [],
   "source": [
    "dataset_col = \"Dataset\"\n",
    "uid_col = \"uid\"\n",
    "age_col = \"Age\"\n",
    "day_col = \"Day\"\n",
    "response_col = \"Response\"\n",
    "immage_col = \"IMMAGE\"\n",
    "strain_col = 'Strain'"
   ]
  },
  {
   "cell_type": "code",
   "execution_count": null,
   "id": "d68f8fd6",
   "metadata": {},
   "outputs": [],
   "source": [
    "# Read in Data and drop missing values\n",
    "df = pd.read_csv(\"../data/all_vaccines.csv\")\n",
    "df.dropna(inplace=True, subset=[immage_col, dataset_col, day_col, response_col])\n",
    "\n",
    "dataset_names = df.Dataset.unique()\n",
    "\n",
    "# Plot distribution of N values\n",
    "N_vals = df[[dataset_col, uid_col]].groupby(dataset_col, as_index=False)[uid_col].nunique()\n",
    "N_vals = N_vals.rename(columns={uid_col: \"N\"})\n",
    "\n",
    "# Narrow to large datasets only\n",
    "N_vals = N_vals.loc[N_vals[\"N\"]> 70]\n",
    "datasets = df.loc[df[\"Dataset\"].isin(N_vals[\"Dataset\"])]\n",
    "dataset_names = datasets[\"Dataset\"].unique()"
   ]
  },
  {
   "cell_type": "code",
   "execution_count": null,
   "id": "61171822",
   "metadata": {},
   "outputs": [],
   "source": [
    "# Collect day info from papers here\n",
    "dataset_day_dict = {}\n",
    "\n",
    "dataset_day_dict[\"GSE41080.SDY212\"] = \"HAI.D28\"\n",
    "dataset_day_dict[\"GSE48018.SDY1276\"] = \"nAb.D28\"\n",
    "dataset_day_dict[\"GSE48023.SDY1276\"] = \"nAb.D28\"\n",
    "dataset_day_dict[\"SDY67\"] = \"nAb.D28\""
   ]
  },
  {
   "cell_type": "code",
   "execution_count": null,
   "id": "4b3ec783",
   "metadata": {
    "lines_to_next_cell": 2
   },
   "outputs": [],
   "source": [
    "# Loop through each combination of dataset and strain\n",
    "for dataset_name in dataset_names:\n",
    "        day_mask = datasets[day_col] == dataset_day_dict[dataset_name]\n",
    "        name_mask = datasets[dataset_col] == dataset_name\n",
    "        data = datasets.loc[(name_mask) & (day_mask)].reset_index()\n",
    "        strains = data[strain_col].unique()\n",
    "        for strain_index in range(len(strains)):\n",
    "            strain_name = strains[strain_index].replace(\"/\", \"_\")\n",
    "            print(f'exporting {dataset_name}, strain no. {strain_index}: {strain_name}')\n",
    "            # Define parameters for dataset and strain\n",
    "            parameters = {\"dataset_name\": dataset_name, \"strain_index\": strain_index}\n",
    "\n",
    "            # Execute the notebook with specific parameters\n",
    "            output_notebook = f\"export/{dataset_name}_{strain_name}_analysis.ipynb\"\n",
    "            pm.execute_notebook(\n",
    "                input_path=\"vaccines-2.ipynb\",\n",
    "                output_path=output_notebook,\n",
    "                parameters=parameters\n",
    "            )\n",
    "            # Export the executed notebook to HTML\n",
    "            output_html = f\"{dataset_name}_{strain_name}_analysis.html\"\n",
    "            os.system(f\"jupyter nbconvert --execute --no-input --to html {output_notebook} --output {output_html}\")"
   ]
  }
 ],
 "metadata": {
  "kernelspec": {
   "display_name": "Python 3 (ipykernel)",
   "language": "python",
   "name": "python3"
  }
 },
 "nbformat": 4,
 "nbformat_minor": 5
}
