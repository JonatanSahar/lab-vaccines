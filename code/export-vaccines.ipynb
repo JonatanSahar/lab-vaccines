{
 "cells": [
  {
   "cell_type": "code",
   "execution_count": null,
   "id": "6608d5cd",
   "metadata": {},
   "outputs": [],
   "source": [
    "from jupyter_client import find_connection_file\n",
    "connection_file = find_connection_file()\n",
    "print(connection_file)"
   ]
  },
  {
   "cell_type": "code",
   "execution_count": null,
   "id": "a7aec88a",
   "metadata": {},
   "outputs": [],
   "source": [
    "import papermill as pm\n",
    "import pandas as pd\n",
    "import os\n",
    "import sys\n",
    "import shutil\n",
    "\n",
    "sys.tracebacklimit = 0\n",
    "def exception_handler(exception_type, exception, traceback):\n",
    "    # All your trace are belong to us!\n",
    "    # your format\n",
    "    print(f\"{exception_type.__name__}, {exception}\")\n",
    "\n",
    "sys.excepthook = exception_handler\n",
    "\n",
    "from constants import *\n",
    "shutil.copy('constants.py', 'export/')"
   ]
  },
  {
   "cell_type": "code",
   "execution_count": null,
   "id": "e8ca7849",
   "metadata": {
    "lines_to_next_cell": 2
   },
   "outputs": [],
   "source": [
    "# Read in Data and drop missing values\n",
    "df = pd.read_csv(\"../data/all_vaccines.csv\")\n",
    "df.dropna(inplace=True, subset=[immage_col, dataset_col, day_col, response_col])\n",
    "dataset_names = df[\"Dataset\"].unique().astype(str)\n",
    "\n",
    "# Plot distribution of N values\n",
    "N_vals = df[[dataset_col, uid_col]].groupby(dataset_col, as_index=False)[uid_col].nunique()\n",
    "N_vals = N_vals.rename(columns={uid_col: \"N\"})\n",
    "\n",
    "# Narrow to large datasets only\n",
    "bNarrow = False\n",
    "N_vals = N_vals.loc[N_vals[\"N\"] > 70]\n",
    "if bNarrow:\n",
    "    filtered_df = df.loc[df[\"Dataset\"].isin(N_vals[\"Dataset\"])]\n",
    "    dataset_names = filtered_df[\"Dataset\"].unique().astype(str)"
   ]
  },
  {
   "cell_type": "code",
   "execution_count": null,
   "id": "6d23518d",
   "metadata": {},
   "outputs": [],
   "source": [
    "datasets = pd.DataFrame(dataset_day_dicts)\n",
    "dataset_names = datasets[dataset_col].unique().astype(str)\n",
    "filtered_df = df.loc[df[\"Dataset\"].isin(dataset_names)]"
   ]
  },
  {
   "cell_type": "code",
   "execution_count": null,
   "id": "42ed27b9",
   "metadata": {},
   "outputs": [],
   "source": [
    "exclude_datasets = [\"GSE45735.SDY224\", \"GSE47353.SDY80\"] # , \"GSE48023.SDY1276\", \"SDY296\"]\n",
    "bInfluenza = True\n",
    "bAdjustMFC = False\n",
    "bDiscardSeroprotected = True\n",
    "bOlderOnly = True\n",
    "age_restrict_str = f\"_older-only\" if bOlderOnly else \"\"\n",
    "seroprotected_str = f\"_discard_seroprotected\" if bDiscardSeroprotected else \"\""
   ]
  },
  {
   "cell_type": "code",
   "execution_count": null,
   "id": "19568ca1",
   "metadata": {},
   "outputs": [],
   "source": [
    "if bInfluenza:\n",
    "    datasets = pd.DataFrame(influenza_dicts)\n",
    "    dataset_names = datasets[\"Dataset\"].unique().astype(str)\n",
    "    dataset_names = list(set(dataset_names) - set(exclude_datasets))\n",
    "    \n",
    "    datasets = datasets.loc[datasets[\"Dataset\"].isin(dataset_names)]\n",
    "    filtered_df = df.loc[df[\"Dataset\"].isin(dataset_names)]\n",
    "\n",
    "parameters = {\n",
    "            \"bAdjustMFC\" : bAdjustMFC,\n",
    "            \"bDiscardSeroprotected\" : bDiscardSeroprotected,\n",
    "            \"bInfluenza\": bInfluenza,\n",
    "            \"bOlderOnly\": bOlderOnly,\n",
    "            }"
   ]
  },
  {
   "cell_type": "code",
   "execution_count": null,
   "id": "1f58786c",
   "metadata": {},
   "outputs": [],
   "source": [
    "# dataset_names = dataset_names[:1]\n",
    "# dataset_names"
   ]
  },
  {
   "cell_type": "code",
   "execution_count": null,
   "id": "e57816fe",
   "metadata": {},
   "outputs": [],
   "source": [
    "# Loop through each combination of dataset and strain\n",
    "if bAdjustMFC == False:\n",
    "    for dataset_name in dataset_names:\n",
    "            dataset = datasets.loc[datasets[dataset_col] == dataset_name]\n",
    "            dataset_df = filtered_df.loc[filtered_df[dataset_col] == dataset_name]\n",
    "            print(dataset_name)\n",
    "            days = dataset[\"Days\"].iloc[0]\n",
    "            for day in days:\n",
    "                    print(day)\n",
    "                    day_mask = dataset_df[day_col] == day\n",
    "                    name_mask = dataset_df[dataset_col] == dataset_name\n",
    "                    data = dataset_df.loc[(name_mask) & (day_mask)].reset_index()\n",
    "                    strains = data[strain_col].unique()\n",
    "                    print(strains)\n",
    "                    for strain_index in range(len(strains)):\n",
    "                            strain_name = strains[strain_index].replace(\"/\", \"_\").replace(\" \", \"_\")\n",
    "                            print(f'exporting {dataset_name}, strain no. {strain_index}: {strain_name}, day: {day}')\n",
    "                            # Define parameters for dataset and strain\n",
    "                            parameters.update({\n",
    "                                \"dataset_name\": dataset_name,\n",
    "                                \"strain_index\": strain_index,\n",
    "                                \"day\": day\n",
    "                            })\n",
    "                            # EXECUTE the notebook with specific parameters\n",
    "                            output_notebook_name = f\"{dataset_name}_{strain_name}_{day}{seroprotected_str}{age_restrict_str}\"\n",
    "                            output_notebook = f\"export/{output_notebook_name}.ipynb\"\n",
    "                            try:\n",
    "                                    pm.execute_notebook(\n",
    "                                            input_path=\"vaccines-4.ipynb\",\n",
    "                                            output_path=output_notebook,\n",
    "                                            parameters=parameters,\n",
    "                                            prepare_only=True\n",
    "                                    )\n",
    "                            except:\n",
    "                                    print (f\"******\\nCaught exception when runnnig {output_notebook}\\n******\\n\")\n",
    "                            # Export the executed notebook to HTML\n",
    "                            output_html = f\"{output_notebook_name}.html\"\n",
    "                            os.system(f\"jupyter nbconvert --execute --no-input --to html {output_notebook} --output {output_html}\")"
   ]
  },
  {
   "cell_type": "code",
   "execution_count": null,
   "id": "9fb61390",
   "metadata": {},
   "outputs": [],
   "source": [
    "if bAdjustMFC == True:\n",
    "    for dataset_name in dataset_names:\n",
    "            dataset = datasets.loc[datasets[dataset_col] == dataset_name]\n",
    "            filtered_df = filtered_df.loc[filtered_df[dataset_col] == dataset_name]\n",
    "            print(dataset_name)\n",
    "            strain_name = \"Influenza\"\n",
    "            print(f'exporting {dataset_name}, using adjusted MFC')\n",
    "            # Define parameters for dataset and strain\n",
    "            parameters.update({\n",
    "                \"day0\": dataset[\"Day0\"].iloc[0],\n",
    "                \"dayMFC\": dataset[\"DayMFC\"].iloc[0]\n",
    "            })\n",
    "\n",
    "            # EXECUTE the notebook with specific parameters\n",
    "            day = 'Adjusted_MFC'\n",
    "            output_notebook_name = f\"{dataset_name}_{strain_name}_{day}{seroprotected_str}{age_restrict_str}\"\n",
    "            output_notebook = f\"export/{output_notebook_name}.ipynb\"\n",
    "            try:\n",
    "                pm.execute_notebook(\n",
    "                        input_path=\"vaccines-4.ipynb\",\n",
    "                        output_path=output_notebook,\n",
    "                        parameters=parameters,\n",
    "                        prepare_only=True\n",
    "                )\n",
    "            except Exception as e:\n",
    "                print (f\"******\\nCaught exception when runnnig {output_notebook}\\n******\\n\")\n",
    "                print(e)\n",
    "            # Export the executed notebook to HTML\n",
    "            output_html = f\"{output_notebook_name}.html\"\n",
    "            os.system(f\"jupyter nbconvert --execute --no-input --to html {output_notebook} --output {output_html}\")"
   ]
  }
 ],
 "metadata": {
  "kernelspec": {
   "display_name": "Python 3 (ipykernel)",
   "language": "python",
   "name": "python3"
  }
 },
 "nbformat": 4,
 "nbformat_minor": 5
}