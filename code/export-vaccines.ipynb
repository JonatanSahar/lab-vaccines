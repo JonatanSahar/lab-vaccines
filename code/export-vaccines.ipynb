{
 "cells": [
  {
   "cell_type": "code",
   "execution_count": null,
   "id": "606e1aaf",
   "metadata": {
    "editable": true,
    "slideshow": {
     "slide_type": ""
    }
   },
   "outputs": [],
   "source": [
    "from jupyter_client import find_connection_file\n",
    "connection_file = find_connection_file()\n",
    "print(connection_file)"
   ]
  },
  {
   "cell_type": "code",
   "execution_count": null,
   "id": "39b2531c",
   "metadata": {
    "lines_to_next_cell": 2
   },
   "outputs": [],
   "source": [
    "import papermill as pm\n",
    "import pandas as pd\n",
    "import os\n",
    "import sys\n",
    "sys.tracebacklimit = 0\n",
    "def exception_handler(exception_type, exception, traceback):\n",
    "    # All your trace are belong to us!\n",
    "    # your format\n",
    "    print(f\"{exception_type.__name__}, {exception}\")\n",
    "\n",
    "sys.excepthook = exception_handler"
   ]
  },
  {
   "cell_type": "code",
   "execution_count": null,
   "id": "c3f5f0c5",
   "metadata": {
    "lines_to_next_cell": 2
   },
   "outputs": [],
   "source": [
    "dataset_col = \"Dataset\"\n",
    "uid_col = \"uid\"\n",
    "age_col = \"Age\"\n",
    "day_col = \"Day\"\n",
    "response_col = \"Response\"\n",
    "immage_col = \"IMMAGE\"\n",
    "strain_col = 'Strain'"
   ]
  },
  {
   "cell_type": "code",
   "execution_count": null,
   "id": "516e5f03",
   "metadata": {
    "lines_to_next_cell": 2
   },
   "outputs": [],
   "source": [
    "# Read in Data and drop missing values\n",
    "df = pd.read_csv(\"../data/all_vaccines.csv\")\n",
    "df.dropna(inplace=True, subset=[immage_col, dataset_col, day_col, response_col])\n",
    "datasets = df\n",
    "\n",
    "\n",
    "# Plot distribution of N values\n",
    "N_vals = df[[dataset_col, uid_col]].groupby(dataset_col, as_index=False)[uid_col].nunique()\n",
    "N_vals = N_vals.rename(columns={uid_col: \"N\"})\n",
    "\n",
    "# Narrow to large datasets only\n",
    "bNarrow = False\n",
    "N_vals = N_vals.loc[N_vals[\"N\"] > 70]\n",
    "if bNarrow:\n",
    "    datasets = df.loc[df[\"Dataset\"].isin(N_vals[\"Dataset\"])]\n",
    "dataset_names = datasets[\"Dataset\"].unique()"
   ]
  },
  {
   "cell_type": "code",
   "execution_count": null,
   "id": "9d31a970",
   "metadata": {},
   "outputs": [],
   "source": [
    "#Collect day info from papers here\n",
    "dataset_day_dict = {\n",
    "        \"GSE125921.SDY1529\": ['FC', 'D84'],\n",
    "        \"GSE13485.SDY1264\": ['D60'],\n",
    "        \"GSE13699.SDY1289\": ['D28'],\n",
    "        \"GSE169159\": ['FC.D42', 'D42'],\n",
    "        \"GSE41080.SDY212\": ['HAI.D28'],\n",
    "        \"GSE45735.SDY224\": ['HAI.D21'],\n",
    "        \"GSE47353.SDY80\": ['D70.nAb', 'FC.D70.nAb'],\n",
    "        \"GSE48018.SDY1276\": ['nAb.D28', 'nAb.FC'],\n",
    "        \"GSE48023.SDY1276\": ['nAb.FC', 'nAb.D14'],\n",
    "        \"GSE59635.SDY63\": ['HAI.D28'],\n",
    "        \"GSE59654.SDY180\": ['FC.HAI', 'HAI.D28'],\n",
    "        \"GSE59654.SDY404\": ['FC.HAI', 'HAI.D28'],\n",
    "        \"GSE59654.SDY520\": ['FC.HAI', 'HAI.D28'],\n",
    "        \"GSE59743.SDY400\": ['FC.HAI', 'HAI.D28'],\n",
    "        \"GSE65834.SDY1328\": ['D7', 'FC'],\n",
    "        \"GSE79396.SDY984\": ['D28', 'FC.D28'],\n",
    "        \"GSE82152.SDY1294\": ['D28', 'FC'],\n",
    "        \"SDY1325\": ['FC.D28', 'D28'],\n",
    "        \"SDY296\": ['D28.nAb', 'FC.nAb'],\n",
    "        \"SDY67\": ['nAb.D28', 'FC.D28.nAb'],\n",
    "        \"SDY89\": ['D28']\n",
    "}\n",
    "dataset_names = dataset_day_dict.keys()"
   ]
  },
  {
   "cell_type": "code",
   "execution_count": null,
   "id": "c3b587c8",
   "metadata": {},
   "outputs": [],
   "source": [
    "# Keep only Influenze datasets for now\n",
    "# influenza_sets = ['GSE41080.SDY212', 'GSE48018.SDY1276', 'GSE48023.SDY1276', 'SDY67', 'GSE125921.SDY1529', 'GSE45735.SDY224', 'GSE47353.SDY80', 'GSE48023.SDY1276', 'GSE59635.SDY63', 'GSE59654.SDY404', 'GSE59743.SDY400', 'SDY296']\n",
    "\n",
    "bInfluenza = True\n",
    "if bInfluenza:\n",
    "    influenza_dict = [\n",
    "        {\"Dataset\": \"GSE125921.SDY1529\", \"Days\": [\"FC\", \"D84\"], \"Day0\": \"D0\"},\n",
    "        {\"Dataset\": \"GSE41080.SDY212\", \"Days\": [\"FC.HAI\", \"HAI.D28\"], \"Day0\": \"HAI.D0\"},\n",
    "        {\"Dataset\": \"GSE45735.SDY224\", \"Days\": [\"FC.HAI\", \"HAI.D21\"], \"Day0\": \"HAI.D0\"},\n",
    "        # start with sets that have a HAI measurement\n",
    "        # {\"Dataset\": \"GSE47353.SDY80\", \"Days\": [\"D70.nAb\", \"FC.D70.nAb\"], \"Day0\": \"D0.nAb\"},\n",
    "        {\"Dataset\": \"GSE48018.SDY1276\", \"Days\": [\"HAI.D28\", \"HAI.FC\"], \"Day0\": \"HAI.D0\"},\n",
    "        {\"Dataset\": \"GSE48023.SDY1276\", \"Days\": [\"HAI.FC\", \"HAI.D28\"], \"Day0\": \"HAI.D0\"},\n",
    "        {\"Dataset\": \"GSE59635.SDY63\", \"Days\": [\"FC\", \"HAI.D28\"], \"Day0\": \"HAI.D0\"},\n",
    "        {\"Dataset\": \"GSE59654.SDY404\", \"Days\": [\"HAI.D28\", \"FC.HAI\"], \"Day0\": \"HAI.D0\"},\n",
    "        {\"Dataset\": \"GSE59743.SDY400\", \"Days\": [\"FC.HAI\", \"HAI.D28\"], \"Day0\": \"None\"},\n",
    "        {\"Dataset\": \"SDY296\", \"Days\": [\"D28.HAI\", \"FC.HAI\"], \"Day0\": \"D0.HAI\"},\n",
    "        {\"Dataset\": \"SDY67\", \"Days\": [\"FC.D28.HAI\", \"HAI.D28\"], \"Day0\": \"HAI.D0\"}\n",
    "    ]\n",
    "\n",
    "    tmp_df = pd.DataFrame(influenza_dict)\n",
    "    datasets = tmp_df.loc[tmp_df[\"Dataset\"].isin(tmp_df[\"Dataset\"])]\n",
    "    dataset_names = datasets[\"Dataset\"].unique()\n",
    "    # df['Days'] = df['Days'].apply(lambda x: ', '.join(x) if isinstance(x, list) else x)  # Convert list to string for display"
   ]
  },
  {
   "cell_type": "code",
   "execution_count": null,
   "id": "57970350",
   "metadata": {
    "editable": true,
    "slideshow": {
     "slide_type": ""
    }
   },
   "outputs": [],
   "source": [
    "# Loop through each combination of dataset and strain\n",
    "for dataset_name in dataset_names:\n",
    "        dataset = datasets.loc[datasets[dataset_col] == dataset_name] \n",
    "        print(dataset_name)\n",
    "        days = dataset_day_dict[dataset_name]\n",
    "        for day in days:\n",
    "                print(day)\n",
    "                day_mask = dataset[day_col] == day\n",
    "                name_mask = dataset[dataset_col] == dataset_name\n",
    "                data = dataset.loc[(name_mask) & (day_mask)].reset_index()\n",
    "                strains = data[strain_col].unique()\n",
    "                print(strains)\n",
    "                for strain_index in range(len(strains)):\n",
    "                        strain_name = strains[strain_index].replace(\"/\", \"_\").replace(\" \", \"_\")\n",
    "                        print(f'exporting {dataset_name}, strain no. {strain_index}: {strain_name}, day: {day}')\n",
    "                        # Define parameters for dataset and strain\n",
    "                        parameters = {\"dataset_name\": dataset_name, \"strain_index\": strain_index, \"day\": day}\n",
    "\n",
    "                        # Execute the notebook with specific parameters\n",
    "                        output_notebook = f\"export/{dataset_name}_{strain_name}_{day}_analysis.ipynb\"\n",
    "                        try:\n",
    "                                pm.execute_notebook(\n",
    "                                        input_path=\"vaccines-4.ipynb\",\n",
    "                                        output_path=output_notebook,\n",
    "                                        parameters=parameters,\n",
    "                                        prepare_only=True\n",
    "                                )\n",
    "                        except:\n",
    "                                print (f\"******\\nCaught exception when runnnig {output_notebook}\\n******\\n\")\n",
    "                        # Export the executed notebook to HTML\n",
    "                        output_html = f\"{dataset_name}_{strain_name}_{day}_analysis.html\"\n",
    "                        os.system(f\"jupyter nbconvert --execute --no-input --to html {output_notebook} --output {output_html}\")"
   ]
  },
  {
   "cell_type": "code",
   "execution_count": null,
   "id": "33e1503e",
   "metadata": {},
   "outputs": [],
   "source": []
  }
 ],
 "metadata": {
  "kernelspec": {
   "display_name": "Python 3 (ipykernel)",
   "language": "python",
   "name": "python3"
  }
 },
 "nbformat": 4,
 "nbformat_minor": 5
}