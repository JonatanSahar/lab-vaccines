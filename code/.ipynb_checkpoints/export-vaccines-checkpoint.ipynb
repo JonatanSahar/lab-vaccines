{
 "cells": [
  {
   "cell_type": "code",
   "execution_count": 7,
   "id": "6f4cb710",
   "metadata": {
    "editable": true,
    "slideshow": {
     "slide_type": ""
    }
   },
   "outputs": [
    {
     "name": "stdout",
     "output_type": "stream",
     "text": [
      "/home/yonatan/.local/share/jupyter/runtime/kernel-v2-97293It3KknT3tEM9.json\n"
     ]
    }
   ],
   "source": [
    "from jupyter_client import find_connection_file\n",
    "connection_file = find_connection_file()\n",
    "print(connection_file)"
   ]
  },
  {
   "cell_type": "code",
   "execution_count": 8,
   "id": "a0e19344",
   "metadata": {},
   "outputs": [],
   "source": [
    "import papermill as pm\n",
    "import pandas as pd\n",
    "import os"
   ]
  },
  {
   "cell_type": "code",
   "execution_count": 9,
   "id": "8d1f46ac",
   "metadata": {
    "lines_to_next_cell": 2
   },
   "outputs": [],
   "source": [
    "dataset_col = \"Dataset\"\n",
    "uid_col = \"uid\"\n",
    "age_col = \"Age\"\n",
    "day_col = \"Day\"\n",
    "response_col = \"Response\"\n",
    "immage_col = \"IMMAGE\"\n",
    "strain_col = 'Strain'"
   ]
  },
  {
   "cell_type": "code",
   "execution_count": 10,
   "id": "21e82a65",
   "metadata": {},
   "outputs": [],
   "source": [
    "# Read in Data and drop missing values\n",
    "df = pd.read_csv(\"../data/all_vaccines.csv\")\n",
    "df.dropna(inplace=True, subset=[immage_col, dataset_col, day_col, response_col])\n",
    "\n",
    "dataset_names = df.Dataset.unique()\n",
    "\n",
    "# Plot distribution of N values\n",
    "N_vals = df[[dataset_col, uid_col]].groupby(dataset_col, as_index=False)[uid_col].nunique()\n",
    "N_vals = N_vals.rename(columns={uid_col: \"N\"})\n",
    "\n",
    "# Narrow to large datasets only\n",
    "N_vals = N_vals.loc[N_vals[\"N\"]> 70]\n",
    "datasets = df.loc[df[\"Dataset\"].isin(N_vals[\"Dataset\"])]\n",
    "dataset_names = datasets[\"Dataset\"].unique()"
   ]
  },
  {
   "cell_type": "code",
   "execution_count": 13,
   "id": "9b2da5ba",
   "metadata": {},
   "outputs": [],
   "source": [
    "dataset_names = [\"GSE125921.SDY1529\"]\n",
    "# Collect day info from papers here\n",
    "dataset_day_dict = {\n",
    "        \"GSE125921.SDY1529\": ['FC' 'D84']}\n",
    "#         \"GSE13485.SDY1264\": ['D60']\n",
    "#         \"GSE13699.SDY1289\": ['D28']\n",
    "#         \"GSE169159\": ['FC.D42' 'D42']\n",
    "#         \"GSE190001\": ['D14' 'FC.D14']\n",
    "#         \"GSE41080.SDY212\": ['HAI.D28']\n",
    "#         \"GSE45735.SDY224\": ['HAI.D21']\n",
    "#         \"GSE47353.SDY80\": ['D70.nAb' 'FC.D70.nAb']\n",
    "#         \"GSE48018.SDY1276\": ['nAb.D28' 'nAb.FC']\n",
    "#         \"GSE48023.SDY1276\": ['nAb.FC' 'nAb.D14']\n",
    "#         \"GSE59635.SDY63\": ['HAI.D28']\n",
    "#         \"GSE59654.SDY180\": ['FC.HAI' 'HAI.D28']\n",
    "#         \"GSE59654.SDY404\": ['FC.HAI' 'HAI.D28']\n",
    "#         \"GSE59654.SDY520\": ['FC.HAI' 'HAI.D28']\n",
    "#         \"GSE59743.SDY400\": ['FC.HAI' 'HAI.D28']\n",
    "#         \"GSE65834.SDY1328\": ['D7' 'FC']\n",
    "#         \"GSE79396.SDY984\": ['D28' 'FC.D28']\n",
    "#         \"GSE82152.SDY1294\": ['D28' 'FC']\n",
    "#         \"SDY1325\": ['FC.D28' 'D28']\n",
    "#         \"SDY296\": ['D28.nAb' 'FC.nAb']\n",
    "#         \"SDY67\": ['nAb.D28' 'FC.D28.nAb']\n",
    "#         \"SDY89\": ['D28']\n",
    "# }\n",
    "\n"
   ]
  },
  {
   "cell_type": "code",
   "execution_count": 15,
   "id": "719b16b6",
   "metadata": {
    "editable": true,
    "slideshow": {
     "slide_type": ""
    }
   },
   "outputs": [],
   "source": [
    "# Loop through each combination of dataset and strain\n",
    "for dataset_name in dataset_names:\n",
    "        days = dataset_day_dict[dataset_name]\n",
    "        for day in days:\n",
    "                day_mask = datasets[day_col] == day\n",
    "                name_mask = datasets[dataset_col] == dataset_name\n",
    "                data = datasets.loc[(name_mask) & (day_mask)].reset_index()\n",
    "                strains = data[strain_col].unique()\n",
    "                for strain_index in range(len(strains)):\n",
    "                        strain_name = strains[strain_index].replace(\"/\", \"_\")\n",
    "                        print(f'exporting {dataset_name}, strain no. {strain_index}: {strain_name}, day: {day}')\n",
    "                        # Define parameters for dataset and strain\n",
    "                        parameters = {\"dataset_name\": dataset_name, \"strain_index\": strain_index, \"day\": day}\n",
    "\n",
    "                        # Execute the notebook with specific parameters\n",
    "                        output_notebook = f\"export/{dataset_name}_{strain_name}_analysis.ipynb\"\n",
    "                        pm.execute_notebook(\n",
    "                                input_path=\"vaccines-4.ipynb\",\n",
    "                                output_path=output_notebook,\n",
    "                                parameters=parameters\n",
    "                        )\n",
    "                        # Export the executed notebook to HTML\n",
    "                        output_html = f\"{dataset_name}_{strain_name}_analysis.html\"\n",
    "                        os.system(f\"jupyter nbconvert --execute --no-input --to html {output_notebook} --output {output_html}\")"
   ]
  },
  {
   "cell_type": "code",
   "execution_count": null,
   "id": "042d0fda",
   "metadata": {},
   "outputs": [],
   "source": []
  }
 ],
 "metadata": {
  "kernelspec": {
   "display_name": "Python 3 (ipykernel)",
   "language": "python",
   "name": "python3"
  },
  "language_info": {
   "codemirror_mode": {
    "name": "ipython",
    "version": 3
   },
   "file_extension": ".py",
   "mimetype": "text/x-python",
   "name": "python",
   "nbconvert_exporter": "python",
   "pygments_lexer": "ipython3",
   "version": "3.8.18"
  }
 },
 "nbformat": 4,
 "nbformat_minor": 5
}
