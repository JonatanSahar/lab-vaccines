{
 "cells": [
  {
   "cell_type": "code",
   "execution_count": null,
   "id": "6545cb45",
   "metadata": {
    "editable": true,
    "slideshow": {
     "slide_type": ""
    }
   },
   "outputs": [],
   "source": [
    "from jupyter_client import find_connection_file\n",
    "connection_file = find_connection_file()\n",
    "print(connection_file)"
   ]
  },
  {
   "cell_type": "code",
   "execution_count": null,
   "id": "bd7a4ea7",
   "metadata": {
    "editable": true,
    "slideshow": {
     "slide_type": ""
    }
   },
   "outputs": [],
   "source": [
    "#Plotting related\n",
    "import seaborn as sns\n",
    "import matplotlib.pyplot as plt\n",
    "import plotly.express as px\n",
    "import plotly.io as pio\n",
    "pio.renderers.default='notebook'\n",
    "\n",
    "# Scikit-learn related imports\n",
    "import pyarrow\n",
    "import pandas as pd\n",
    "pd.options.mode.copy_on_write = True\n",
    "\n",
    "\n",
    "from sklearn.ensemble import RandomForestClassifier\n",
    "from sklearn.tree import DecisionTreeClassifier, plot_tree\n",
    "from sklearn.model_selection import train_test_split, cross_validate, RandomizedSearchCV\n",
    "from sklearn.metrics import accuracy_score\n",
    "from scipy.stats import randint, ttest_ind\n",
    "from sklearn.svm import SVC\n",
    "from sklearn.linear_model import LogisticRegression\n",
    "from mlxtend.plotting import plot_decision_regions"
   ]
  },
  {
   "cell_type": "code",
   "execution_count": null,
   "id": "3a7f9310",
   "metadata": {
    "lines_to_next_cell": 0
   },
   "outputs": [],
   "source": [
    "df = pd.read_csv(\"../data/all_vaccines.csv\")\n",
    "df.head()"
   ]
  },
  {
   "cell_type": "code",
   "execution_count": null,
   "id": "01205173",
   "metadata": {
    "lines_to_next_cell": 0
   },
   "outputs": [],
   "source": [
    "dataset_col = \"Dataset\"\n",
    "uid_col = \"uid\"\n",
    "age_col = \"Age\"\n",
    "day_col = \"Day\"\n",
    "response_col = \"Response\"\n",
    "immage_col = \"IMMAGE\"\n",
    "\n",
    "df.dropna(inplace=True, subset=[immage_col, dataset_col, day_col, response_col])\n",
    "all_dataset_names = df.Dataset.unique()\n",
    "\n",
    "check_days = df[[dataset_col, uid_col, day_col]].groupby(dataset_col).head(10)\n",
    "with pd.option_context('display.max_rows', None, 'display.max_columns', None):\n",
    "    print(check_days)"
   ]
  },
  {
   "cell_type": "code",
   "execution_count": null,
   "id": "30aa51da",
   "metadata": {
    "lines_to_next_cell": 0
   },
   "outputs": [],
   "source": [
    "# Available datasets:\n",
    "#\n",
    "# [      'GSE125921.SDY1529', 'GSE13485.SDY1264', 'GSE13699.SDY1289',\n",
    "#        'GSE169159', 'GSE190001', 'GSE201533', 'GSE41080.SDY212',\n",
    "#        'GSE45735.SDY224', 'GSE47353.SDY80', 'GSE48018.SDY1276',\n",
    "#        'GSE48023.SDY1276', 'GSE52245.SDY1260', 'GSE59635.SDY63',\n",
    "#        'GSE59654.SDY180', 'GSE59654.SDY404', 'GSE59654.SDY520',\n",
    "#        'GSE59743.SDY400', 'GSE65834.SDY1328', 'GSE79396.SDY984',\n",
    "#        'GSE82152.SDY1294', 'SDY1325', 'SDY296', 'SDY67', 'SDY89']"
   ]
  },
  {
   "cell_type": "code",
   "execution_count": null,
   "id": "7de21f2c",
   "metadata": {
    "lines_to_next_cell": 2
   },
   "outputs": [],
   "source": [
    "# Narrow to a specific study and post-vaccine day\n",
    "dataset_name = all_dataset_names[2] #\"GSE125921.SDY1529\"\n",
    "dataset = df.loc[df[dataset_col] == dataset_name]\n",
    "sample_days = dataset[day_col].unique()\n",
    "sample_days"
   ]
  },
  {
   "cell_type": "code",
   "execution_count": null,
   "id": "806124fa",
   "metadata": {},
   "outputs": [],
   "source": [
    "sample_day = \"D90\"\n",
    "dataset = dataset.loc[dataset[day_col] == sample_day]"
   ]
  },
  {
   "cell_type": "code",
   "execution_count": null,
   "id": "e8193b47",
   "metadata": {},
   "outputs": [],
   "source": [
    "responses = dataset[[response_col]]\n",
    "mean_response = responses.mean()\n",
    "high_response_thr = responses.quantile(q=0.7).item()\n",
    "low_response_thr = responses.quantile(q=0.3).item()\n",
    "# sns.histplot(responses, bins=100)\n",
    "# plt.show()\n",
    "responses.median().item()"
   ]
  },
  {
   "cell_type": "code",
   "execution_count": null,
   "id": "996b8b82",
   "metadata": {},
   "outputs": [],
   "source": [
    "\n",
    "# Get a boolean map of sub and above threshold values\n",
    "# Note that we define y=1 for all responses >= 30th percentile (and not >) since we want to decrease the chances of cross validation ending up with an empty group in one of the partitions.\n",
    "X = dataset[[immage_col]]\n",
    "y = dataset[[response_col]] >= low_response_thr\n",
    "\n",
    "# Convert boolean Series to 0s and 1s and rename column to Labels\n",
    "y = y.astype(int).rename(columns={'Response': 'Labels'})\n",
    "\n",
    "# We sometimes want to have data, responses and labels together\n",
    "data = pd.concat([X, responses, y], axis=1)\n",
    "\n",
    "# Add a text label for plot leggends\n",
    "data['Label text'] = data['Labels'].apply(lambda x: 'Responders' if x == 1 else 'Non-Responders')"
   ]
  },
  {
   "cell_type": "code",
   "execution_count": null,
   "id": "293b5df5",
   "metadata": {},
   "outputs": [],
   "source": [
    "# Plot IMMAGE and age values to look at the dynamic range\n",
    "sns.histplot(data=dataset, x=immage_col, bins=50)\n",
    "plt.title(f' {immage_col} values ({dataset_name})')\n",
    "plt.show()\n",
    "\n",
    "sns.histplot(data=dataset, x=age_col, bins=50)\n",
    "plt.title(f' {age_col} values ({dataset_name})')\n",
    "plt.show()"
   ]
  },
  {
   "cell_type": "code",
   "execution_count": null,
   "id": "99781654",
   "metadata": {
    "lines_to_next_cell": 2
   },
   "outputs": [],
   "source": [
    "# Plot the response value against sorted IMMAGE, with markers signifying labels\n",
    "sorted_data = data.sort_values(by=\"IMMAGE\")\n",
    "sns.scatterplot(data=sorted_data, x=\"IMMAGE\", y=\"Response\", hue=\"Label text\", palette='Set1')\n",
    "plt.title(f'Vaccine response vs IMMAGE ({dataset_name})')\n",
    "plt.show()"
   ]
  },
  {
   "cell_type": "code",
   "execution_count": null,
   "id": "113c0bda",
   "metadata": {},
   "outputs": [],
   "source": [
    "# Running a t-test\n",
    "low_group = data.loc[data[response_col]  < low_response_thr, immage_col]\n",
    "high_group = data.loc[data[response_col]  >= low_response_thr, immage_col]\n",
    "print(f\"low group N: {low_group.shape[0]}, high group N: {high_group.shape[0]}\")\n",
    "\n",
    "ttest = ttest_ind(low_group, high_group)\n",
    "ttest"
   ]
  },
  {
   "cell_type": "code",
   "execution_count": null,
   "id": "ef8a97c2",
   "metadata": {},
   "outputs": [],
   "source": [
    "# Classifying with logistic regression\n",
    "labels =  y[\"Labels\"]\n",
    "log_regress = LogisticRegression()\n",
    "regression_result = cross_validate(log_regress, X,  labels)\n",
    "regression_result['test_score'].mean()"
   ]
  },
  {
   "cell_type": "code",
   "execution_count": null,
   "id": "337a1043",
   "metadata": {},
   "outputs": [],
   "source": [
    "# Split the data into training and testing sets\n",
    "X_train, X_test, labels_train, labels_test = train_test_split(X, labels, test_size=0.2, random_state=42)\n",
    "\n",
    "log_regress.fit(X_train, labels_train)\n",
    "log_regress.score(X_test, labels_test)\n",
    "\n",
    "beta_0 = log_regress.intercept_[0]\n",
    "beta_1 = log_regress.coef_[0][0]\n",
    "\n",
    "# Calculate the cutoff value\n",
    "cutoff = -beta_0 / beta_1\n",
    "\n",
    "print(f\"The cutoff value for the feature is: {cutoff}\") "
   ]
  },
  {
   "cell_type": "code",
   "execution_count": null,
   "id": "a761083d",
   "metadata": {},
   "outputs": [],
   "source": [
    "# Plot IMMAGE values and the cutoff\n",
    "sns.scatterplot(data=data.sort_values(immage_col, ignore_index=True).reset_index(), x=\"index\", y=immage_col, hue=\"Label text\")\n",
    "plt.axvline(x=cutoff)\n",
    "plt.title(f'sorted IMMAGE vs Index ({dataset_name})')\n",
    "plt.show()"
   ]
  }
 ],
 "metadata": {
  "kernelspec": {
   "display_name": "Python 3 (ipykernel)",
   "language": "python",
   "name": "python3"
  }
 },
 "nbformat": 4,
 "nbformat_minor": 5
}