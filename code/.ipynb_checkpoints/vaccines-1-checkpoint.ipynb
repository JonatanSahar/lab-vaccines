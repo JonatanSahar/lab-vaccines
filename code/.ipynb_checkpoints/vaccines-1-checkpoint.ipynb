{
 "cells": [
  {
   "cell_type": "code",
   "execution_count": null,
   "id": "8e5b4c67",
   "metadata": {
    "editable": true,
    "slideshow": {
     "slide_type": ""
    }
   },
   "outputs": [],
   "source": [
    "from jupyter_client import find_connection_file\n",
    "connection_file = find_connection_file()\n",
    "print(connection_file)"
   ]
  },
  {
   "cell_type": "code",
   "execution_count": null,
   "id": "adc0a9ba",
   "metadata": {
    "editable": true,
    "slideshow": {
     "slide_type": ""
    }
   },
   "outputs": [],
   "source": [
    "#Plotting related\n",
    "import seaborn as sns\n",
    "import matplotlib.pyplot as plt\n",
    "import plotly.express as px\n",
    "import plotly.io as pio\n",
    "pio.renderers.default='notebook'\n",
    "\n",
    "# Scikit-learn related imports\n",
    "import pyarrow\n",
    "import pandas as pd\n",
    "from sklearn.ensemble import RandomForestClassifier\n",
    "from sklearn.tree import DecisionTreeClassifier, plot_tree\n",
    "from sklearn.model_selection import train_test_split, cross_validate, RandomizedSearchCV\n",
    "from sklearn.metrics import accuracy_score\n",
    "from scipy.stats import randint, ttest_ind\n",
    "from sklearn.svm import SVC\n",
    "from sklearn.linear_model import LogisticRegression\n",
    "from mlxtend.plotting import plot_decision_regions"
   ]
  },
  {
   "cell_type": "code",
   "execution_count": null,
   "id": "baf66268",
   "metadata": {
    "lines_to_next_cell": 0
   },
   "outputs": [],
   "source": [
    "df = pd.read_csv(\"../data/all_vaccines.csv\")\n",
    "df.head()"
   ]
  },
  {
   "cell_type": "code",
   "execution_count": null,
   "id": "dc58e7db",
   "metadata": {},
   "outputs": [],
   "source": [
    "dataset_col = \"Dataset\"\n",
    "day_col = \"Day\"\n",
    "response_col = \"Response\"\n",
    "immage_col = \"IMMAGE\"\n",
    "\n",
    "df.Dataset.unique().shape # 24 different datasets\n",
    "\n"
   ]
  },
  {
   "cell_type": "code",
   "execution_count": null,
   "id": "ed221af2",
   "metadata": {},
   "outputs": [],
   "source": [
    "# Narrow to a specific study\n",
    "dataset = \"GSE125921.SDY1529\"\n",
    "sample_day = \"FC\"\n",
    "df = df.loc[df[dataset_col] == dataset]"
   ]
  },
  {
   "cell_type": "code",
   "execution_count": null,
   "id": "8dd9e0c6",
   "metadata": {},
   "outputs": [],
   "source": [
    "responses = df[[response_col]]\n",
    "mean_response = responses.mean()\n",
    "high_response_thr = responses.quantile(q=0.7).item()\n",
    "low_response_thr = responses.quantile(q=0.3).item()\n",
    "sns.histplot(responses, bins=100)\n",
    "# plt.show()\n",
    "responses.median()"
   ]
  },
  {
   "cell_type": "code",
   "execution_count": null,
   "id": "b92ea8d8",
   "metadata": {},
   "outputs": [],
   "source": [
    "# filter just the day we're looking at post-vaccine\n",
    "df = df.loc[df[day_col] == sample_day]\n",
    "X = df[[immage_col]]\n",
    "\n",
    "# Get a boolean map of sub and above threshold values\n",
    "y = df[[response_col]] > low_response_thr\n",
    "\n",
    "# Convert boolean Series to 0s and 1s and rename column to Labels\n",
    "y = y.astype(int).rename(columns={'Response': 'Labels'})\n",
    "\n",
    "# We sometimes want to have data, responses and labels together\n",
    "data = pd.concat([X, responses, y], axis=1)\n",
    "data.shape"
   ]
  },
  {
   "cell_type": "code",
   "execution_count": null,
   "id": "dfd14dba",
   "metadata": {},
   "outputs": [],
   "source": [
    "data[response_col] > low_response_thr\n",
    "low_group = data.loc[data[response_col]  < low_response_thr, immage_col]\n",
    "high_group = data.loc[data[response_col]  > low_response_thr, immage_col]"
   ]
  },
  {
   "cell_type": "code",
   "execution_count": null,
   "id": "214d564b",
   "metadata": {},
   "outputs": [],
   "source": [
    "# Running a t-test\n",
    "print(f\"low group: {low_group.shape[0]}, high group: {high_group.shape[0]}\")\n",
    "ttest = ttest_ind(low_group, high_group)"
   ]
  },
  {
   "cell_type": "code",
   "execution_count": null,
   "id": "a2794e56",
   "metadata": {},
   "outputs": [],
   "source": []
  }
 ],
 "metadata": {
  "kernelspec": {
   "display_name": "Python 3 (ipykernel)",
   "language": "python",
   "name": "python3"
  }
 },
 "nbformat": 4,
 "nbformat_minor": 5
}